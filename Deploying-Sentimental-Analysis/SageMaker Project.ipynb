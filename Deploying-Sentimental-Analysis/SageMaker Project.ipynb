{
 "cells": [
  {
   "cell_type": "markdown",
   "metadata": {},
   "source": [
    "# Creating a Sentiment Analysis Web App\n",
    "## Using PyTorch and SageMaker\n",
    "\n",
    "_Deep Learning Nanodegree Program | Deployment_\n",
    "\n",
    "---\n",
    "\n",
    "Now that we have a basic understanding of how SageMaker works we will try to use it to construct a complete project from end to end. Our goal will be to have a simple web page which a user can use to enter a movie review. The web page will then send the review off to our deployed model which will predict the sentiment of the entered review.\n",
    "\n",
    "## Instructions\n",
    "\n",
    "Some template code has already been provided for you, and you will need to implement additional functionality to successfully complete this notebook. You will not need to modify the included code beyond what is requested. Sections that begin with '**TODO**' in the header indicate that you need to complete or implement some portion within them. Instructions will be provided for each section and the specifics of the implementation are marked in the code block with a `# TODO: ...` comment. Please be sure to read the instructions carefully!\n",
    "\n",
    "In addition to implementing code, there will be questions for you to answer which relate to the task and your implementation. Each section where you will answer a question is preceded by a '**Question:**' header. Carefully read each question and provide your answer below the '**Answer:**' header by editing the Markdown cell.\n",
    "\n",
    "> **Note**: Code and Markdown cells can be executed using the **Shift+Enter** keyboard shortcut. In addition, a cell can be edited by typically clicking it (double-click for Markdown cells) or by pressing **Enter** while it is highlighted.\n",
    "\n",
    "## General Outline\n",
    "\n",
    "Recall the general outline for SageMaker projects using a notebook instance.\n",
    "\n",
    "1. Download or otherwise retrieve the data.\n",
    "2. Process / Prepare the data.\n",
    "3. Upload the processed data to S3.\n",
    "4. Train a chosen model.\n",
    "5. Test the trained model (typically using a batch transform job).\n",
    "6. Deploy the trained model.\n",
    "7. Use the deployed model.\n",
    "\n",
    "For this project, you will be following the steps in the general outline with some modifications. \n",
    "\n",
    "First, you will not be testing the model in its own step. You will still be testing the model, however, you will do it by deploying your model and then using the deployed model by sending the test data to it. One of the reasons for doing this is so that you can make sure that your deployed model is working correctly before moving forward.\n",
    "\n",
    "In addition, you will deploy and use your trained model a second time. In the second iteration you will customize the way that your trained model is deployed by including some of your own code. In addition, your newly deployed model will be used in the sentiment analysis web app."
   ]
  },
  {
   "cell_type": "markdown",
   "metadata": {},
   "source": [
    "## Step 1: Downloading the data\n",
    "\n",
    "As in the XGBoost in SageMaker notebook, we will be using the [IMDb dataset](http://ai.stanford.edu/~amaas/data/sentiment/)\n",
    "\n",
    "> Maas, Andrew L., et al. [Learning Word Vectors for Sentiment Analysis](http://ai.stanford.edu/~amaas/data/sentiment/). In _Proceedings of the 49th Annual Meeting of the Association for Computational Linguistics: Human Language Technologies_. Association for Computational Linguistics, 2011."
   ]
  },
  {
   "cell_type": "code",
   "execution_count": 1,
   "metadata": {},
   "outputs": [
    {
     "name": "stdout",
     "output_type": "stream",
     "text": [
      "mkdir: cannot create directory ‘../data’: File exists\n",
      "--2020-06-22 14:43:38--  http://ai.stanford.edu/~amaas/data/sentiment/aclImdb_v1.tar.gz\n",
      "Resolving ai.stanford.edu (ai.stanford.edu)... 171.64.68.10\n",
      "Connecting to ai.stanford.edu (ai.stanford.edu)|171.64.68.10|:80... connected.\n",
      "HTTP request sent, awaiting response... 200 OK\n",
      "Length: 84125825 (80M) [application/x-gzip]\n",
      "Saving to: ‘../data/aclImdb_v1.tar.gz’\n",
      "\n",
      "../data/aclImdb_v1. 100%[===================>]  80.23M  21.5MB/s    in 5.2s    \n",
      "\n",
      "2020-06-22 14:43:43 (15.4 MB/s) - ‘../data/aclImdb_v1.tar.gz’ saved [84125825/84125825]\n",
      "\n"
     ]
    }
   ],
   "source": [
    "%mkdir ../data\n",
    "!wget -O ../data/aclImdb_v1.tar.gz http://ai.stanford.edu/~amaas/data/sentiment/aclImdb_v1.tar.gz\n",
    "!tar -zxf ../data/aclImdb_v1.tar.gz -C ../data"
   ]
  },
  {
   "cell_type": "markdown",
   "metadata": {},
   "source": [
    "## Step 2: Preparing and Processing the data\n",
    "\n",
    "Also, as in the XGBoost notebook, we will be doing some initial data processing. The first few steps are the same as in the XGBoost example. To begin with, we will read in each of the reviews and combine them into a single input structure. Then, we will split the dataset into a training set and a testing set."
   ]
  },
  {
   "cell_type": "code",
   "execution_count": 2,
   "metadata": {},
   "outputs": [],
   "source": [
    "import os\n",
    "import glob\n",
    "\n",
    "def read_imdb_data(data_dir='../data/aclImdb'):\n",
    "    data = {}\n",
    "    labels = {}\n",
    "    \n",
    "    for data_type in ['train', 'test']:\n",
    "        data[data_type] = {}\n",
    "        labels[data_type] = {}\n",
    "        \n",
    "        for sentiment in ['pos', 'neg']:\n",
    "            data[data_type][sentiment] = []\n",
    "            labels[data_type][sentiment] = []\n",
    "            \n",
    "            path = os.path.join(data_dir, data_type, sentiment, '*.txt')\n",
    "            files = glob.glob(path)\n",
    "            \n",
    "            for f in files:\n",
    "                with open(f) as review:\n",
    "                    data[data_type][sentiment].append(review.read())\n",
    "                    # Here we represent a positive review by '1' and a negative review by '0'\n",
    "                    labels[data_type][sentiment].append(1 if sentiment == 'pos' else 0)\n",
    "                    \n",
    "            assert len(data[data_type][sentiment]) == len(labels[data_type][sentiment]), \\\n",
    "                    \"{}/{} data size does not match labels size\".format(data_type, sentiment)\n",
    "                \n",
    "    return data, labels"
   ]
  },
  {
   "cell_type": "code",
   "execution_count": 3,
   "metadata": {},
   "outputs": [
    {
     "name": "stdout",
     "output_type": "stream",
     "text": [
      "IMDB reviews: train = 12500 pos / 12500 neg, test = 12500 pos / 12500 neg\n"
     ]
    }
   ],
   "source": [
    "data, labels = read_imdb_data()\n",
    "print(\"IMDB reviews: train = {} pos / {} neg, test = {} pos / {} neg\".format(\n",
    "            len(data['train']['pos']), len(data['train']['neg']),\n",
    "            len(data['test']['pos']), len(data['test']['neg'])))"
   ]
  },
  {
   "cell_type": "markdown",
   "metadata": {},
   "source": [
    "Now that we've read the raw training and testing data from the downloaded dataset, we will combine the positive and negative reviews and shuffle the resulting records."
   ]
  },
  {
   "cell_type": "code",
   "execution_count": 4,
   "metadata": {},
   "outputs": [],
   "source": [
    "from sklearn.utils import shuffle\n",
    "\n",
    "def prepare_imdb_data(data, labels):\n",
    "    \"\"\"Prepare training and test sets from IMDb movie reviews.\"\"\"\n",
    "    \n",
    "    #Combine positive and negative reviews and labels\n",
    "    data_train = data['train']['pos'] + data['train']['neg']\n",
    "    data_test = data['test']['pos'] + data['test']['neg']\n",
    "    labels_train = labels['train']['pos'] + labels['train']['neg']\n",
    "    labels_test = labels['test']['pos'] + labels['test']['neg']\n",
    "    \n",
    "    #Shuffle reviews and corresponding labels within training and test sets\n",
    "    data_train, labels_train = shuffle(data_train, labels_train)\n",
    "    data_test, labels_test = shuffle(data_test, labels_test)\n",
    "    \n",
    "    # Return a unified training data, test data, training labels, test labets\n",
    "    return data_train, data_test, labels_train, labels_test"
   ]
  },
  {
   "cell_type": "code",
   "execution_count": 5,
   "metadata": {},
   "outputs": [
    {
     "name": "stdout",
     "output_type": "stream",
     "text": [
      "IMDb reviews (combined): train = 25000, test = 25000\n"
     ]
    }
   ],
   "source": [
    "train_X, test_X, train_y, test_y = prepare_imdb_data(data, labels)\n",
    "print(\"IMDb reviews (combined): train = {}, test = {}\".format(len(train_X), len(test_X)))"
   ]
  },
  {
   "cell_type": "markdown",
   "metadata": {},
   "source": [
    "Now that we have our training and testing sets unified and prepared, we should do a quick check and see an example of the data our model will be trained on. This is generally a good idea as it allows you to see how each of the further processing steps affects the reviews and it also ensures that the data has been loaded correctly."
   ]
  },
  {
   "cell_type": "code",
   "execution_count": 6,
   "metadata": {},
   "outputs": [
    {
     "name": "stdout",
     "output_type": "stream",
     "text": [
      "I understand that Paramount wanted to film this with the Rodgers and Hart score, but couldn't work out the copyright problems, so Burke and Van Heusen who wrote the between them the most songs for Bing Crosby contributed a very nice score.<br /><br />I read Leonard Maltin saying that this movie, \"fit Crosby like a glove\" and I couldn't have put it better. No, it's not Mark Twain's satire, it's a Bing Crosby film and in 1949 Crosby was the most bankable star in Hollywood. For once Paramount used technicolor and Rhonda Fleming was never lovelier on the screen. This was a woman that technicolor was invented for.<br /><br />William Bendix's Brooklyn origins kinda stand out, but it's to a good comic effect. The trio of Crosby, Bendix, and Sir Cedric Hardwicke have a rollicking good time with Busy Doing Nothing. Bing has one of his patented upbeat philosophical numbers with If You Stub Your Toe On The Moon.<br /><br />The third song he sings Once and For Always by himself and with Rhonda Fleming. That song was nominated for best song, but lost to Baby It's Cold Outside. <br /><br />Nice also that Bing managed to record the score for Decca with Rhonda Fleming and Bendix and Hardwicke.<br /><br />One thing I like about this film is that it shows Crosby's comic talents without Bob Hope. I like the Road pictures, but Bing was a comic talent onto himself and this film better demonstrates than any other.<br /><br />This is Crosby at the top of his game.\n",
      "1\n"
     ]
    }
   ],
   "source": [
    "print(train_X[100])\n",
    "print(train_y[100])"
   ]
  },
  {
   "cell_type": "markdown",
   "metadata": {},
   "source": [
    "The first step in processing the reviews is to make sure that any html tags that appear should be removed. In addition we wish to tokenize our input, that way words such as *entertained* and *entertaining* are considered the same with regard to sentiment analysis."
   ]
  },
  {
   "cell_type": "code",
   "execution_count": 7,
   "metadata": {},
   "outputs": [],
   "source": [
    "import nltk\n",
    "from nltk.corpus import stopwords\n",
    "from nltk.stem.porter import *\n",
    "\n",
    "import re\n",
    "from bs4 import BeautifulSoup\n",
    "\n",
    "def review_to_words(review):\n",
    "    nltk.download(\"stopwords\", quiet=True)\n",
    "    stemmer = PorterStemmer()\n",
    "    \n",
    "    text = BeautifulSoup(review, \"html.parser\").get_text() # Remove HTML tags\n",
    "    text = re.sub(r\"[^a-zA-Z0-9]\", \" \", text.lower()) # Convert to lower case\n",
    "    words = text.split() # Split string into words\n",
    "    words = [w for w in words if w not in stopwords.words(\"english\")] # Remove stopwords\n",
    "    words = [PorterStemmer().stem(w) for w in words] # stem\n",
    "    \n",
    "    return words"
   ]
  },
  {
   "cell_type": "markdown",
   "metadata": {},
   "source": [
    "The `review_to_words` method defined above uses `BeautifulSoup` to remove any html tags that appear and uses the `nltk` package to tokenize the reviews. As a check to ensure we know how everything is working, try applying `review_to_words` to one of the reviews in the training set."
   ]
  },
  {
   "cell_type": "code",
   "execution_count": 8,
   "metadata": {},
   "outputs": [
    {
     "data": {
      "text/plain": [
       "['understand',\n",
       " 'paramount',\n",
       " 'want',\n",
       " 'film',\n",
       " 'rodger',\n",
       " 'hart',\n",
       " 'score',\n",
       " 'work',\n",
       " 'copyright',\n",
       " 'problem',\n",
       " 'burk',\n",
       " 'van',\n",
       " 'heusen',\n",
       " 'wrote',\n",
       " 'song',\n",
       " 'bing',\n",
       " 'crosbi',\n",
       " 'contribut',\n",
       " 'nice',\n",
       " 'score',\n",
       " 'read',\n",
       " 'leonard',\n",
       " 'maltin',\n",
       " 'say',\n",
       " 'movi',\n",
       " 'fit',\n",
       " 'crosbi',\n",
       " 'like',\n",
       " 'glove',\n",
       " 'put',\n",
       " 'better',\n",
       " 'mark',\n",
       " 'twain',\n",
       " 'satir',\n",
       " 'bing',\n",
       " 'crosbi',\n",
       " 'film',\n",
       " '1949',\n",
       " 'crosbi',\n",
       " 'bankabl',\n",
       " 'star',\n",
       " 'hollywood',\n",
       " 'paramount',\n",
       " 'use',\n",
       " 'technicolor',\n",
       " 'rhonda',\n",
       " 'fleme',\n",
       " 'never',\n",
       " 'loveli',\n",
       " 'screen',\n",
       " 'woman',\n",
       " 'technicolor',\n",
       " 'invent',\n",
       " 'william',\n",
       " 'bendix',\n",
       " 'brooklyn',\n",
       " 'origin',\n",
       " 'kinda',\n",
       " 'stand',\n",
       " 'good',\n",
       " 'comic',\n",
       " 'effect',\n",
       " 'trio',\n",
       " 'crosbi',\n",
       " 'bendix',\n",
       " 'sir',\n",
       " 'cedric',\n",
       " 'hardwick',\n",
       " 'rollick',\n",
       " 'good',\n",
       " 'time',\n",
       " 'busi',\n",
       " 'noth',\n",
       " 'bing',\n",
       " 'one',\n",
       " 'patent',\n",
       " 'upbeat',\n",
       " 'philosoph',\n",
       " 'number',\n",
       " 'stub',\n",
       " 'toe',\n",
       " 'moon',\n",
       " 'third',\n",
       " 'song',\n",
       " 'sing',\n",
       " 'alway',\n",
       " 'rhonda',\n",
       " 'fleme',\n",
       " 'song',\n",
       " 'nomin',\n",
       " 'best',\n",
       " 'song',\n",
       " 'lost',\n",
       " 'babi',\n",
       " 'cold',\n",
       " 'outsid',\n",
       " 'nice',\n",
       " 'also',\n",
       " 'bing',\n",
       " 'manag',\n",
       " 'record',\n",
       " 'score',\n",
       " 'decca',\n",
       " 'rhonda',\n",
       " 'fleme',\n",
       " 'bendix',\n",
       " 'hardwick',\n",
       " 'one',\n",
       " 'thing',\n",
       " 'like',\n",
       " 'film',\n",
       " 'show',\n",
       " 'crosbi',\n",
       " 'comic',\n",
       " 'talent',\n",
       " 'without',\n",
       " 'bob',\n",
       " 'hope',\n",
       " 'like',\n",
       " 'road',\n",
       " 'pictur',\n",
       " 'bing',\n",
       " 'comic',\n",
       " 'talent',\n",
       " 'onto',\n",
       " 'film',\n",
       " 'better',\n",
       " 'demonstr',\n",
       " 'crosbi',\n",
       " 'top',\n",
       " 'game']"
      ]
     },
     "execution_count": 8,
     "metadata": {},
     "output_type": "execute_result"
    }
   ],
   "source": [
    "# TODO: Apply review_to_words to a review (train_X[100] or any other review)\n",
    "review_to_words(train_X[100])\n"
   ]
  },
  {
   "cell_type": "markdown",
   "metadata": {},
   "source": [
    "**Question:** Above we mentioned that `review_to_words` method removes html formatting and allows us to tokenize the words found in a review, for example, converting *entertained* and *entertaining* into *entertain* so that they are treated as though they are the same word. What else, if anything, does this method do to the input?"
   ]
  },
  {
   "cell_type": "markdown",
   "metadata": {},
   "source": [
    "**Answer:**\n",
    "The Function removes all unnecessary characters,removes HTML tags and converts it to lowercase"
   ]
  },
  {
   "cell_type": "markdown",
   "metadata": {},
   "source": [
    "The method below applies the `review_to_words` method to each of the reviews in the training and testing datasets. In addition it caches the results. This is because performing this processing step can take a long time. This way if you are unable to complete the notebook in the current session, you can come back without needing to process the data a second time."
   ]
  },
  {
   "cell_type": "code",
   "execution_count": 9,
   "metadata": {},
   "outputs": [],
   "source": [
    "import pickle\n",
    "\n",
    "cache_dir = os.path.join(\"../cache\", \"sentiment_analysis\")  # where to store cache files\n",
    "os.makedirs(cache_dir, exist_ok=True)  # ensure cache directory exists\n",
    "\n",
    "def preprocess_data(data_train, data_test, labels_train, labels_test,\n",
    "                    cache_dir=cache_dir, cache_file=\"preprocessed_data.pkl\"):\n",
    "    \"\"\"Convert each review to words; read from cache if available.\"\"\"\n",
    "\n",
    "    # If cache_file is not None, try to read from it first\n",
    "    cache_data = None\n",
    "    if cache_file is not None:\n",
    "        try:\n",
    "            with open(os.path.join(cache_dir, cache_file), \"rb\") as f:\n",
    "                cache_data = pickle.load(f)\n",
    "            print(\"Read preprocessed data from cache file:\", cache_file)\n",
    "        except:\n",
    "            pass  # unable to read from cache, but that's okay\n",
    "    \n",
    "    # If cache is missing, then do the heavy lifting\n",
    "    if cache_data is None:\n",
    "        # Preprocess training and test data to obtain words for each review\n",
    "        words_train = [review_to_words(review) for review in data_train]\n",
    "        words_test = [review_to_words(review) for review in data_test]\n",
    "        \n",
    "        # Write to cache file for future runs\n",
    "        if cache_file is not None:\n",
    "            cache_data = dict(words_train=words_train, words_test=words_test,\n",
    "                              labels_train=labels_train, labels_test=labels_test)\n",
    "            with open(os.path.join(cache_dir, cache_file), \"wb\") as f:\n",
    "                pickle.dump(cache_data, f)\n",
    "            print(\"Wrote preprocessed data to cache file:\", cache_file)\n",
    "    else:\n",
    "        # Unpack data loaded from cache file\n",
    "        words_train, words_test, labels_train, labels_test = (cache_data['words_train'],\n",
    "                cache_data['words_test'], cache_data['labels_train'], cache_data['labels_test'])\n",
    "    \n",
    "    return words_train, words_test, labels_train, labels_test"
   ]
  },
  {
   "cell_type": "code",
   "execution_count": 10,
   "metadata": {},
   "outputs": [
    {
     "name": "stdout",
     "output_type": "stream",
     "text": [
      "Read preprocessed data from cache file: preprocessed_data.pkl\n"
     ]
    }
   ],
   "source": [
    "# Preprocess data\n",
    "train_X, test_X, train_y, test_y = preprocess_data(train_X, test_X, train_y, test_y)"
   ]
  },
  {
   "cell_type": "markdown",
   "metadata": {},
   "source": [
    "## Transform the data\n",
    "\n",
    "In the XGBoost notebook we transformed the data from its word representation to a bag-of-words feature representation. For the model we are going to construct in this notebook we will construct a feature representation which is very similar. To start, we will represent each word as an integer. Of course, some of the words that appear in the reviews occur very infrequently and so likely don't contain much information for the purposes of sentiment analysis. The way we will deal with this problem is that we will fix the size of our working vocabulary and we will only include the words that appear most frequently. We will then combine all of the infrequent words into a single category and, in our case, we will label it as `1`.\n",
    "\n",
    "Since we will be using a recurrent neural network, it will be convenient if the length of each review is the same. To do this, we will fix a size for our reviews and then pad short reviews with the category 'no word' (which we will label `0`) and truncate long reviews."
   ]
  },
  {
   "cell_type": "markdown",
   "metadata": {},
   "source": [
    "### (TODO) Create a word dictionary\n",
    "\n",
    "To begin with, we need to construct a way to map words that appear in the reviews to integers. Here we fix the size of our vocabulary (including the 'no word' and 'infrequent' categories) to be `5000` but you may wish to change this to see how it affects the model.\n",
    "\n",
    "> **TODO:** Complete the implementation for the `build_dict()` method below. Note that even though the vocab_size is set to `5000`, we only want to construct a mapping for the most frequently appearing `4998` words. This is because we want to reserve the special labels `0` for 'no word' and `1` for 'infrequent word'."
   ]
  },
  {
   "cell_type": "code",
   "execution_count": 11,
   "metadata": {},
   "outputs": [],
   "source": [
    "import numpy as np\n",
    "from collections import Counter\n",
    "\n",
    "def get_word_count(data):\n",
    "    \"\"\"\n",
    "    Determines how often each word appears in `data`. Note that `data` is a list of sentences and that a\n",
    "    sentence is a list of words.\n",
    "    return: A dict storing the words that appear in the reviews along with how often they occur\n",
    "    \"\"\"\n",
    "    word_count = {} \n",
    "    for review in data:\n",
    "        for word in review:\n",
    "            if word in word_count:\n",
    "                word_count[word] += 1\n",
    "            else: \n",
    "                word_count[word] = 1\n",
    "    return word_count\n",
    "\n",
    "def build_dict(data, vocab_size = 5000):\n",
    "    \"\"\"Construct and return a dictionary mapping each of the most frequently appearing words to a unique integer.\"\"\"\n",
    "\n",
    "    word_count = get_word_count(data)\n",
    "     # TODO: Sort the words found in `data` so that sorted_words[0] is the most frequently appearing word and\n",
    "    #       sorted_words[-1] is the least frequently appearing word.  \n",
    "    \n",
    "    sorted_words = [v[0] for v in sorted(word_count.items(), key=lambda kv: kv[1], reverse=True)]                \n",
    "    \n",
    "    word_dict = {} # This is what we are building, a dictionary that translates words into integers\n",
    "    for idx, word in enumerate(sorted_words[:vocab_size - 2]): # The -2 is so that we save room for the 'no word'\n",
    "        word_dict[word] = idx + 2                              # 'infrequent' labels\n",
    "        \n",
    "    return word_dict"
   ]
  },
  {
   "cell_type": "code",
   "execution_count": 12,
   "metadata": {},
   "outputs": [],
   "source": [
    "word_dict = build_dict(train_X)"
   ]
  },
  {
   "cell_type": "code",
   "execution_count": 13,
   "metadata": {},
   "outputs": [
    {
     "name": "stdout",
     "output_type": "stream",
     "text": [
      "{'movi': 2, 'film': 3, 'one': 4, 'like': 5, 'time': 6, 'good': 7, 'make': 8, 'charact': 9, 'get': 10, 'see': 11, 'watch': 12, 'stori': 13, 'even': 14, 'would': 15, 'realli': 16, 'well': 17, 'scene': 18, 'look': 19, 'show': 20, 'much': 21, 'end': 22, 'peopl': 23, 'bad': 24, 'go': 25, 'great': 26, 'also': 27, 'first': 28, 'love': 29, 'think': 30, 'way': 31, 'act': 32, 'play': 33, 'made': 34, 'thing': 35, 'could': 36, 'know': 37, 'say': 38, 'seem': 39, 'work': 40, 'plot': 41, 'two': 42, 'actor': 43, 'year': 44, 'come': 45, 'mani': 46, 'seen': 47, 'take': 48, 'want': 49, 'life': 50, 'never': 51, 'littl': 52, 'best': 53, 'tri': 54, 'man': 55, 'ever': 56, 'give': 57, 'better': 58, 'still': 59, 'perform': 60, 'find': 61, 'feel': 62, 'part': 63, 'back': 64, 'use': 65, 'someth': 66, 'director': 67, 'actual': 68, 'interest': 69, 'lot': 70, 'real': 71, 'old': 72, 'cast': 73, 'though': 74, 'live': 75, 'star': 76, 'enjoy': 77, 'guy': 78, 'anoth': 79, 'new': 80, 'role': 81, 'noth': 82, '10': 83, 'funni': 84, 'music': 85, 'point': 86, 'start': 87, 'set': 88, 'girl': 89, 'origin': 90, 'day': 91, 'world': 92, 'everi': 93, 'believ': 94, 'turn': 95, 'quit': 96, 'direct': 97, 'us': 98, 'thought': 99, 'fact': 100, 'minut': 101, 'horror': 102, 'kill': 103, 'action': 104, 'comedi': 105, 'pretti': 106, 'young': 107, 'wonder': 108, 'happen': 109, 'around': 110, 'got': 111, 'effect': 112, 'right': 113, 'long': 114, 'howev': 115, 'big': 116, 'line': 117, 'famili': 118, 'enough': 119, 'seri': 120, 'may': 121, 'need': 122, 'fan': 123, 'bit': 124, 'script': 125, 'beauti': 126, 'person': 127, 'becom': 128, 'without': 129, 'must': 130, 'alway': 131, 'friend': 132, 'tell': 133, 'reason': 134, 'saw': 135, 'last': 136, 'final': 137, 'kid': 138, 'almost': 139, 'put': 140, 'least': 141, 'sure': 142, 'done': 143, 'whole': 144, 'place': 145, 'complet': 146, 'kind': 147, 'differ': 148, 'expect': 149, 'shot': 150, 'far': 151, 'mean': 152, 'anyth': 153, 'book': 154, 'laugh': 155, 'might': 156, 'name': 157, 'sinc': 158, 'begin': 159, '2': 160, 'probabl': 161, 'woman': 162, 'help': 163, 'entertain': 164, 'let': 165, 'screen': 166, 'call': 167, 'tv': 168, 'moment': 169, 'away': 170, 'read': 171, 'yet': 172, 'rather': 173, 'worst': 174, 'run': 175, 'fun': 176, 'lead': 177, 'hard': 178, 'audienc': 179, 'idea': 180, 'anyon': 181, 'episod': 182, 'american': 183, 'found': 184, 'appear': 185, 'bore': 186, 'especi': 187, 'although': 188, 'hope': 189, 'cours': 190, 'keep': 191, 'anim': 192, 'job': 193, 'goe': 194, 'move': 195, 'sens': 196, 'version': 197, 'dvd': 198, 'war': 199, 'money': 200, 'someon': 201, 'mind': 202, 'mayb': 203, 'problem': 204, 'true': 205, 'hous': 206, 'everyth': 207, 'nice': 208, 'second': 209, 'rate': 210, 'three': 211, 'night': 212, 'follow': 213, 'face': 214, 'recommend': 215, 'product': 216, 'main': 217, 'worth': 218, 'leav': 219, 'human': 220, 'special': 221, 'excel': 222, 'togeth': 223, 'wast': 224, 'everyon': 225, 'sound': 226, 'john': 227, 'hand': 228, '1': 229, 'father': 230, 'later': 231, 'eye': 232, 'said': 233, 'view': 234, 'instead': 235, 'review': 236, 'boy': 237, 'high': 238, 'hour': 239, 'miss': 240, 'talk': 241, 'classic': 242, 'wife': 243, 'understand': 244, 'left': 245, 'care': 246, 'black': 247, 'death': 248, 'open': 249, 'murder': 250, 'write': 251, 'half': 252, 'head': 253, 'rememb': 254, 'chang': 255, 'viewer': 256, 'fight': 257, 'gener': 258, 'surpris': 259, 'short': 260, 'includ': 261, 'die': 262, 'fall': 263, 'less': 264, 'els': 265, 'entir': 266, 'piec': 267, 'involv': 268, 'pictur': 269, 'simpli': 270, 'top': 271, 'power': 272, 'home': 273, 'total': 274, 'usual': 275, 'budget': 276, 'attempt': 277, 'suppos': 278, 'releas': 279, 'hollywood': 280, 'terribl': 281, 'song': 282, 'men': 283, 'possibl': 284, 'featur': 285, 'portray': 286, 'disappoint': 287, '3': 288, 'poor': 289, 'coupl': 290, 'stupid': 291, 'camera': 292, 'dead': 293, 'wrong': 294, 'produc': 295, 'low': 296, 'video': 297, 'either': 298, 'aw': 299, 'definit': 300, 'except': 301, 'rest': 302, 'given': 303, 'absolut': 304, 'women': 305, 'lack': 306, 'word': 307, 'writer': 308, 'titl': 309, 'talent': 310, 'decid': 311, 'full': 312, 'perfect': 313, 'along': 314, 'style': 315, 'close': 316, 'truli': 317, 'school': 318, 'emot': 319, 'save': 320, 'age': 321, 'sex': 322, 'next': 323, 'bring': 324, 'mr': 325, 'case': 326, 'killer': 327, 'heart': 328, 'comment': 329, 'sort': 330, 'creat': 331, 'perhap': 332, 'came': 333, 'brother': 334, 'sever': 335, 'joke': 336, 'art': 337, 'dialogu': 338, 'game': 339, 'small': 340, 'base': 341, 'flick': 342, 'written': 343, 'sequenc': 344, 'meet': 345, 'earli': 346, 'often': 347, 'other': 348, 'mother': 349, 'develop': 350, 'humor': 351, 'actress': 352, 'consid': 353, 'dark': 354, 'guess': 355, 'amaz': 356, 'unfortun': 357, 'light': 358, 'lost': 359, 'exampl': 360, 'cinema': 361, 'drama': 362, 'white': 363, 'ye': 364, 'experi': 365, 'imagin': 366, 'mention': 367, 'stop': 368, 'natur': 369, 'forc': 370, 'manag': 371, 'felt': 372, 'present': 373, 'cut': 374, 'children': 375, 'fail': 376, 'son': 377, 'support': 378, 'car': 379, 'qualiti': 380, 'ask': 381, 'hit': 382, 'side': 383, 'voic': 384, 'extrem': 385, 'impress': 386, 'wors': 387, 'evil': 388, 'went': 389, 'stand': 390, 'certainli': 391, 'basic': 392, 'oh': 393, 'overal': 394, 'favorit': 395, 'horribl': 396, 'mysteri': 397, 'number': 398, 'type': 399, 'danc': 400, 'wait': 401, 'hero': 402, '5': 403, 'alreadi': 404, 'learn': 405, 'matter': 406, '4': 407, 'michael': 408, 'genr': 409, 'fine': 410, 'despit': 411, 'throughout': 412, 'walk': 413, 'success': 414, 'histori': 415, 'question': 416, 'zombi': 417, 'town': 418, 'realiz': 419, 'relationship': 420, 'past': 421, 'child': 422, 'daughter': 423, 'late': 424, 'b': 425, 'wish': 426, 'hate': 427, 'credit': 428, 'event': 429, 'theme': 430, 'touch': 431, 'citi': 432, 'today': 433, 'sometim': 434, 'behind': 435, 'god': 436, 'twist': 437, 'sit': 438, 'stay': 439, 'deal': 440, 'annoy': 441, 'abl': 442, 'rent': 443, 'pleas': 444, 'edit': 445, 'blood': 446, 'deserv': 447, 'anyway': 448, 'comic': 449, 'appar': 450, 'soon': 451, 'gave': 452, 'etc': 453, 'level': 454, 'slow': 455, 'chanc': 456, 'score': 457, 'bodi': 458, 'brilliant': 459, 'incred': 460, 'figur': 461, 'situat': 462, 'self': 463, 'major': 464, 'stuff': 465, 'decent': 466, 'element': 467, 'dream': 468, 'return': 469, 'obvious': 470, 'order': 471, 'continu': 472, 'pace': 473, 'ridicul': 474, 'happi': 475, 'highli': 476, 'group': 477, 'add': 478, 'thank': 479, 'ladi': 480, 'novel': 481, 'pain': 482, 'speak': 483, 'career': 484, 'shoot': 485, 'strang': 486, 'heard': 487, 'sad': 488, 'polic': 489, 'husband': 490, 'import': 491, 'break': 492, 'took': 493, 'strong': 494, 'cannot': 495, 'robert': 496, 'predict': 497, 'violenc': 498, 'hilari': 499, 'recent': 500, 'countri': 501, 'known': 502, 'particularli': 503, 'pick': 504, 'documentari': 505, 'season': 506, 'critic': 507, 'jame': 508, 'compar': 509, 'alon': 510, 'obviou': 511, 'told': 512, 'state': 513, 'visual': 514, 'rock': 515, 'theater': 516, 'offer': 517, 'exist': 518, 'opinion': 519, 'gore': 520, 'crap': 521, 'hold': 522, 'result': 523, 'hear': 524, 'realiti': 525, 'room': 526, 'clich': 527, 'effort': 528, 'thriller': 529, 'caus': 530, 'sequel': 531, 'explain': 532, 'serious': 533, 'king': 534, 'local': 535, 'ago': 536, 'hell': 537, 'none': 538, 'note': 539, 'allow': 540, 'sister': 541, 'david': 542, 'simpl': 543, 'femal': 544, 'deliv': 545, 'ok': 546, 'class': 547, 'convinc': 548, 'check': 549, 'suspens': 550, 'win': 551, 'buy': 552, 'oscar': 553, 'huge': 554, 'valu': 555, 'sexual': 556, 'cool': 557, 'scari': 558, 'similar': 559, 'excit': 560, 'provid': 561, 'exactli': 562, 'apart': 563, 'avoid': 564, 'shown': 565, 'seriou': 566, 'english': 567, 'whose': 568, 'taken': 569, 'cinematographi': 570, 'shock': 571, 'polit': 572, 'spoiler': 573, 'offic': 574, 'across': 575, 'middl': 576, 'pass': 577, 'street': 578, 'messag': 579, 'silli': 580, 'charm': 581, 'somewhat': 582, 'modern': 583, 'confus': 584, 'filmmak': 585, 'form': 586, 'tale': 587, 'singl': 588, 'jack': 589, 'mostli': 590, 'attent': 591, 'carri': 592, 'william': 593, 'sing': 594, 'subject': 595, 'five': 596, 'richard': 597, 'prove': 598, 'stage': 599, 'team': 600, 'unlik': 601, 'cop': 602, 'georg': 603, 'monster': 604, 'televis': 605, 'earth': 606, 'villain': 607, 'cover': 608, 'pay': 609, 'marri': 610, 'toward': 611, 'build': 612, 'pull': 613, 'parent': 614, 'due': 615, 'respect': 616, 'fill': 617, 'four': 618, 'dialog': 619, 'remind': 620, 'futur': 621, 'weak': 622, 'typic': 623, '7': 624, 'cheap': 625, 'intellig': 626, 'british': 627, 'atmospher': 628, 'clearli': 629, '80': 630, 'dog': 631, 'paul': 632, 'non': 633, '8': 634, 'knew': 635, 'fast': 636, 'artist': 637, 'crime': 638, 'easili': 639, 'escap': 640, 'doubt': 641, 'adult': 642, 'detail': 643, 'date': 644, 'romant': 645, 'fire': 646, 'member': 647, 'gun': 648, 'drive': 649, 'straight': 650, 'beyond': 651, 'fit': 652, 'attack': 653, 'imag': 654, 'upon': 655, 'posit': 656, 'whether': 657, 'peter': 658, 'fantast': 659, 'captur': 660, 'appreci': 661, 'aspect': 662, 'ten': 663, 'plan': 664, 'discov': 665, 'remain': 666, 'period': 667, 'near': 668, 'air': 669, 'realist': 670, 'mark': 671, 'red': 672, 'dull': 673, 'adapt': 674, 'within': 675, 'spend': 676, 'lose': 677, 'materi': 678, 'color': 679, 'chase': 680, 'mari': 681, 'storylin': 682, 'forget': 683, 'bunch': 684, 'clear': 685, 'lee': 686, 'victim': 687, 'nearli': 688, 'box': 689, 'york': 690, 'inspir': 691, 'match': 692, 'mess': 693, 'finish': 694, 'standard': 695, 'easi': 696, 'truth': 697, 'suffer': 698, 'busi': 699, 'space': 700, 'bill': 701, 'dramat': 702, 'western': 703, 'e': 704, 'list': 705, 'battl': 706, 'notic': 707, 'de': 708, 'french': 709, 'ad': 710, '9': 711, 'tom': 712, 'larg': 713, 'among': 714, 'eventu': 715, 'accept': 716, 'train': 717, 'agre': 718, 'spirit': 719, 'soundtrack': 720, 'third': 721, 'teenag': 722, 'soldier': 723, 'adventur': 724, 'sorri': 725, 'drug': 726, 'suggest': 727, 'famou': 728, 'normal': 729, 'cri': 730, 'babi': 731, 'ultim': 732, 'troubl': 733, 'contain': 734, 'certain': 735, 'cultur': 736, 'romanc': 737, 'rare': 738, 'lame': 739, 'somehow': 740, 'mix': 741, 'disney': 742, 'gone': 743, 'cartoon': 744, 'student': 745, 'fear': 746, 'reveal': 747, 'suck': 748, 'kept': 749, 'attract': 750, 'appeal': 751, 'premis': 752, 'greatest': 753, 'design': 754, 'secret': 755, 'shame': 756, 'throw': 757, 'scare': 758, 'copi': 759, 'wit': 760, 'america': 761, 'admit': 762, 'particular': 763, 'relat': 764, 'brought': 765, 'screenplay': 766, 'whatev': 767, 'pure': 768, '70': 769, 'averag': 770, 'harri': 771, 'master': 772, 'describ': 773, 'treat': 774, 'male': 775, '20': 776, 'fantasi': 777, 'issu': 778, 'warn': 779, 'inde': 780, 'forward': 781, 'background': 782, 'project': 783, 'free': 784, 'japanes': 785, 'memor': 786, 'poorli': 787, 'award': 788, 'locat': 789, 'amus': 790, 'potenti': 791, 'struggl': 792, 'magic': 793, 'weird': 794, 'societi': 795, 'okay': 796, 'imdb': 797, 'accent': 798, 'doctor': 799, 'water': 800, 'hot': 801, 'alien': 802, 'dr': 803, 'express': 804, '30': 805, 'odd': 806, 'choic': 807, 'crazi': 808, 'studio': 809, 'fiction': 810, 'becam': 811, 'control': 812, 'masterpiec': 813, 'fli': 814, 'difficult': 815, 'joe': 816, 'scream': 817, 'costum': 818, 'lover': 819, 'uniqu': 820, 'refer': 821, 'remak': 822, 'girlfriend': 823, 'vampir': 824, 'prison': 825, 'execut': 826, 'wear': 827, 'jump': 828, 'wood': 829, 'unless': 830, 'creepi': 831, 'cheesi': 832, 'superb': 833, 'otherwis': 834, 'parti': 835, 'ghost': 836, 'roll': 837, 'public': 838, 'mad': 839, 'depict': 840, 'earlier': 841, 'week': 842, 'jane': 843, 'badli': 844, 'moral': 845, 'dumb': 846, 'fi': 847, 'grow': 848, 'flaw': 849, 'deep': 850, 'sci': 851, 'cat': 852, 'maker': 853, 'footag': 854, 'connect': 855, 'older': 856, 'plenti': 857, 'bother': 858, 'outsid': 859, 'stick': 860, 'gay': 861, 'catch': 862, 'co': 863, 'plu': 864, 'popular': 865, 'equal': 866, 'social': 867, 'quickli': 868, 'disturb': 869, 'perfectli': 870, 'dress': 871, '90': 872, 'era': 873, 'mistak': 874, 'lie': 875, 'previou': 876, 'ride': 877, 'combin': 878, 'concept': 879, 'band': 880, 'answer': 881, 'surviv': 882, 'rich': 883, 'front': 884, 'sweet': 885, 'christma': 886, 'insid': 887, 'eat': 888, 'bare': 889, 'concern': 890, 'beat': 891, 'ben': 892, 'listen': 893, 'c': 894, 'term': 895, 'serv': 896, 'german': 897, 'meant': 898, 'la': 899, 'stereotyp': 900, 'hardli': 901, 'innoc': 902, 'law': 903, 'desper': 904, 'promis': 905, 'memori': 906, 'intent': 907, 'cute': 908, 'variou': 909, 'inform': 910, 'steal': 911, 'brain': 912, 'post': 913, 'tone': 914, 'island': 915, 'amount': 916, 'track': 917, 'nuditi': 918, 'compani': 919, 'claim': 920, 'store': 921, '50': 922, 'hair': 923, 'flat': 924, 'land': 925, 'univers': 926, 'kick': 927, 'scott': 928, 'danger': 929, 'fairli': 930, 'player': 931, 'step': 932, 'crew': 933, 'plain': 934, 'toni': 935, 'share': 936, 'tast': 937, 'centuri': 938, 'engag': 939, 'achiev': 940, 'travel': 941, 'cold': 942, 'suit': 943, 'record': 944, 'rip': 945, 'manner': 946, 'sadli': 947, 'tension': 948, 'spot': 949, 'wrote': 950, 'fascin': 951, 'intens': 952, 'familiar': 953, 'remark': 954, 'depth': 955, 'burn': 956, 'destroy': 957, 'histor': 958, 'sleep': 959, 'purpos': 960, 'languag': 961, 'ignor': 962, 'ruin': 963, 'delight': 964, 'italian': 965, 'unbeliev': 966, 'abil': 967, 'soul': 968, 'collect': 969, 'detect': 970, 'clever': 971, 'violent': 972, 'rape': 973, 'reach': 974, 'door': 975, 'scienc': 976, 'liter': 977, 'trash': 978, 'commun': 979, 'caught': 980, 'reveng': 981, 'creatur': 982, 'trip': 983, 'approach': 984, 'intrigu': 985, 'fashion': 986, 'skill': 987, 'introduc': 988, 'paint': 989, 'complex': 990, 'channel': 991, 'camp': 992, 'christian': 993, 'hole': 994, 'extra': 995, 'limit': 996, 'immedi': 997, 'mental': 998, 'ann': 999, 'mere': 1000, 'million': 1001, '6': 1002, 'comput': 1003, 'slightli': 1004, 'conclus': 1005, 'slasher': 1006, 'imposs': 1007, 'suddenli': 1008, 'teen': 1009, 'crimin': 1010, 'neither': 1011, 'spent': 1012, 'nation': 1013, 'physic': 1014, 'respons': 1015, 'planet': 1016, 'fake': 1017, 'receiv': 1018, 'blue': 1019, 'sick': 1020, 'bizarr': 1021, 'embarrass': 1022, 'indian': 1023, '15': 1024, 'ring': 1025, 'drop': 1026, 'pop': 1027, 'drag': 1028, 'haunt': 1029, 'suspect': 1030, 'pointless': 1031, 'search': 1032, 'edg': 1033, 'handl': 1034, 'common': 1035, 'biggest': 1036, 'faith': 1037, 'hurt': 1038, 'arriv': 1039, 'technic': 1040, 'angel': 1041, 'genuin': 1042, 'dad': 1043, 'f': 1044, 'awesom': 1045, 'solid': 1046, 'colleg': 1047, 'focu': 1048, 'former': 1049, 'van': 1050, 'count': 1051, 'heavi': 1052, 'tear': 1053, 'wall': 1054, 'rais': 1055, 'laughabl': 1056, 'younger': 1057, 'visit': 1058, 'excus': 1059, 'sign': 1060, 'fair': 1061, 'cult': 1062, 'motion': 1063, 'tough': 1064, 'key': 1065, 'desir': 1066, 'super': 1067, 'addit': 1068, 'stun': 1069, 'exploit': 1070, 'cloth': 1071, 'smith': 1072, 'tortur': 1073, 'race': 1074, 'davi': 1075, 'cross': 1076, 'author': 1077, 'jim': 1078, 'compel': 1079, 'focus': 1080, 'minor': 1081, 'consist': 1082, 'commit': 1083, 'pathet': 1084, 'chemistri': 1085, 'park': 1086, 'frank': 1087, 'tradit': 1088, 'obsess': 1089, 'grade': 1090, '60': 1091, 'asid': 1092, 'brutal': 1093, 'somewher': 1094, 'steve': 1095, 'u': 1096, 'opportun': 1097, 'depress': 1098, 'grant': 1099, 'explor': 1100, 'rule': 1101, 'honest': 1102, 'besid': 1103, 'dub': 1104, 'anti': 1105, 'intend': 1106, 'trailer': 1107, 'bar': 1108, 'scientist': 1109, 'regard': 1110, 'longer': 1111, 'west': 1112, 'decad': 1113, 'judg': 1114, 'silent': 1115, 'creativ': 1116, 'armi': 1117, 'wild': 1118, 'g': 1119, 'south': 1120, 'stewart': 1121, 'draw': 1122, 'road': 1123, 'govern': 1124, 'ex': 1125, 'boss': 1126, 'practic': 1127, 'surprisingli': 1128, 'festiv': 1129, 'gang': 1130, 'club': 1131, 'motiv': 1132, 'redeem': 1133, 'green': 1134, 'page': 1135, 'london': 1136, 'idiot': 1137, 'machin': 1138, 'display': 1139, 'militari': 1140, 'aliv': 1141, 'thrill': 1142, 'repeat': 1143, '100': 1144, 'nobodi': 1145, 'folk': 1146, 'yeah': 1147, '40': 1148, 'journey': 1149, 'garbag': 1150, 'tire': 1151, 'smile': 1152, 'ground': 1153, 'bought': 1154, 'mood': 1155, 'sam': 1156, 'cost': 1157, 'stone': 1158, 'mouth': 1159, 'noir': 1160, 'terrif': 1161, 'agent': 1162, 'utterli': 1163, 'requir': 1164, 'honestli': 1165, 'area': 1166, 'sexi': 1167, 'report': 1168, 'geniu': 1169, 'investig': 1170, 'humour': 1171, 'enter': 1172, 'glad': 1173, 'serial': 1174, 'occasion': 1175, 'passion': 1176, 'narr': 1177, 'climax': 1178, 'marriag': 1179, 'studi': 1180, 'industri': 1181, 'ship': 1182, 'center': 1183, 'charli': 1184, 'nowher': 1185, 'demon': 1186, 'hors': 1187, 'loos': 1188, 'bear': 1189, 'wow': 1190, 'hang': 1191, 'graphic': 1192, 'admir': 1193, 'giant': 1194, 'send': 1195, 'loud': 1196, 'damn': 1197, 'nake': 1198, 'rel': 1199, 'subtl': 1200, 'profession': 1201, 'blow': 1202, 'bottom': 1203, 'insult': 1204, 'batman': 1205, 'r': 1206, 'doubl': 1207, 'boyfriend': 1208, 'kelli': 1209, 'initi': 1210, 'frame': 1211, 'gem': 1212, 'opera': 1213, 'cinemat': 1214, 'affect': 1215, 'drawn': 1216, 'church': 1217, 'challeng': 1218, 'j': 1219, 'fulli': 1220, 'nightmar': 1221, 'l': 1222, 'evid': 1223, 'seek': 1224, 'essenti': 1225, 'arm': 1226, 'conflict': 1227, 'christoph': 1228, 'henri': 1229, 'wind': 1230, 'grace': 1231, 'narrat': 1232, 'witch': 1233, 'assum': 1234, 'hunt': 1235, 'push': 1236, 'wise': 1237, 'chri': 1238, 'nomin': 1239, 'repres': 1240, 'month': 1241, 'affair': 1242, 'hide': 1243, 'sceneri': 1244, 'avail': 1245, 'bond': 1246, 'thu': 1247, 'smart': 1248, 'justic': 1249, 'interview': 1250, 'outstand': 1251, 'flashback': 1252, 'constantli': 1253, 'satisfi': 1254, 'presenc': 1255, 'bed': 1256, 'central': 1257, 'sell': 1258, 'content': 1259, 'iron': 1260, 'gag': 1261, 'everybodi': 1262, 'slowli': 1263, 'hotel': 1264, 'hire': 1265, 'system': 1266, 'adam': 1267, 'individu': 1268, 'thrown': 1269, 'hey': 1270, 'charl': 1271, 'jone': 1272, 'allen': 1273, 'mediocr': 1274, 'lesson': 1275, 'ray': 1276, 'billi': 1277, 'cameo': 1278, 'photographi': 1279, 'fellow': 1280, 'pari': 1281, 'strike': 1282, 'rise': 1283, 'independ': 1284, 'absurd': 1285, 'brief': 1286, 'neg': 1287, 'impact': 1288, 'phone': 1289, 'born': 1290, 'ill': 1291, 'model': 1292, 'spoil': 1293, 'angl': 1294, 'fresh': 1295, 'abus': 1296, 'likabl': 1297, 'discuss': 1298, 'hill': 1299, 'sight': 1300, 'ahead': 1301, 'photograph': 1302, 'sent': 1303, 'logic': 1304, 'occur': 1305, 'blame': 1306, 'shine': 1307, 'mainli': 1308, 'bruce': 1309, 'commerci': 1310, 'forev': 1311, 'skip': 1312, 'surround': 1313, 'held': 1314, 'segment': 1315, 'teacher': 1316, 'zero': 1317, 'blond': 1318, 'satir': 1319, 'summer': 1320, 'trap': 1321, 'resembl': 1322, 'fool': 1323, 'ball': 1324, 'six': 1325, 'queen': 1326, 'tragedi': 1327, 'twice': 1328, 'sub': 1329, 'reaction': 1330, 'pack': 1331, 'bomb': 1332, 'will': 1333, 'protagonist': 1334, 'hospit': 1335, 'sport': 1336, 'mile': 1337, 'vote': 1338, 'trust': 1339, 'drink': 1340, 'jerri': 1341, 'mom': 1342, 'encount': 1343, 'plane': 1344, 'program': 1345, 'current': 1346, 'station': 1347, 'al': 1348, 'martin': 1349, 'celebr': 1350, 'choos': 1351, 'join': 1352, 'favourit': 1353, 'round': 1354, 'field': 1355, 'lord': 1356, 'tragic': 1357, 'jean': 1358, 'vision': 1359, 'robot': 1360, 'tie': 1361, 'arthur': 1362, 'roger': 1363, 'random': 1364, 'fortun': 1365, 'dread': 1366, 'psycholog': 1367, 'intern': 1368, 'improv': 1369, 'epic': 1370, 'prefer': 1371, 'nonsens': 1372, 'formula': 1373, 'highlight': 1374, 'legend': 1375, 'pleasur': 1376, 'tape': 1377, 'dollar': 1378, '11': 1379, 'gorgeou': 1380, 'fox': 1381, 'wide': 1382, 'thin': 1383, 'porn': 1384, 'object': 1385, 'influenc': 1386, 'ugli': 1387, 'buddi': 1388, 'prepar': 1389, 'ii': 1390, 'nasti': 1391, 'supposedli': 1392, 'progress': 1393, 'warm': 1394, 'reflect': 1395, 'youth': 1396, 'worthi': 1397, 'length': 1398, 'unusu': 1399, 'latter': 1400, 'crash': 1401, 'superior': 1402, 'childhood': 1403, 'shop': 1404, 'seven': 1405, 'theatr': 1406, 'remot': 1407, 'paid': 1408, 'pilot': 1409, 'funniest': 1410, 'disgust': 1411, 'castl': 1412, 'convers': 1413, 'fell': 1414, 'trick': 1415, 'establish': 1416, 'gangster': 1417, 'rob': 1418, 'disast': 1419, 'mine': 1420, 'heaven': 1421, 'suicid': 1422, 'disappear': 1423, 'ident': 1424, 'tend': 1425, 'decis': 1426, 'mask': 1427, 'singer': 1428, 'heroin': 1429, 'forgotten': 1430, 'partner': 1431, 'brian': 1432, 'recogn': 1433, 'alan': 1434, 'desert': 1435, 'sky': 1436, 'thoroughli': 1437, 'p': 1438, 'stuck': 1439, 'ms': 1440, 'replac': 1441, 'accur': 1442, 'market': 1443, 'seemingli': 1444, 'danni': 1445, 'commentari': 1446, 'andi': 1447, 'uncl': 1448, 'eddi': 1449, 'clue': 1450, 'jackson': 1451, 'devil': 1452, 'therefor': 1453, 'refus': 1454, 'pair': 1455, 'that': 1456, 'ed': 1457, 'fate': 1458, 'unit': 1459, 'river': 1460, 'fault': 1461, 'accid': 1462, 'tune': 1463, 'afraid': 1464, 'stephen': 1465, 'russian': 1466, 'clean': 1467, 'hidden': 1468, 'readi': 1469, 'test': 1470, 'instanc': 1471, 'convey': 1472, 'irrit': 1473, 'captain': 1474, 'quick': 1475, 'european': 1476, 'frustrat': 1477, 'daniel': 1478, 'insan': 1479, 'rescu': 1480, 'chines': 1481, 'wed': 1482, 'food': 1483, '1950': 1484, 'lock': 1485, 'angri': 1486, 'dirti': 1487, 'joy': 1488, 'steven': 1489, 'price': 1490, 'cage': 1491, 'bland': 1492, 'rang': 1493, 'anymor': 1494, 'wooden': 1495, 'rush': 1496, 'n': 1497, 'news': 1498, 'jason': 1499, '12': 1500, 'led': 1501, 'martial': 1502, 'board': 1503, 'twenti': 1504, 'worri': 1505, 'symbol': 1506, 'cgi': 1507, 'hunter': 1508, 'transform': 1509, 'onto': 1510, 'x': 1511, 'johnni': 1512, 'sentiment': 1513, 'piti': 1514, 'invent': 1515, 'explan': 1516, 'attitud': 1517, 'process': 1518, 'owner': 1519, 'awar': 1520, 'aim': 1521, 'floor': 1522, 'necessari': 1523, 'target': 1524, 'favor': 1525, 'energi': 1526, 'opposit': 1527, 'religi': 1528, 'insight': 1529, 'blind': 1530, 'chick': 1531, 'window': 1532, 'movement': 1533, 'deepli': 1534, 'comparison': 1535, 'mountain': 1536, 'possess': 1537, 'research': 1538, 'rain': 1539, 'comed': 1540, 'grand': 1541, 'whatsoev': 1542, 'shadow': 1543, 'began': 1544, 'bank': 1545, 'mid': 1546, 'princ': 1547, 'parodi': 1548, 'pre': 1549, 'friendship': 1550, 'weapon': 1551, 'taylor': 1552, 'credibl': 1553, 'teach': 1554, 'dougla': 1555, 'flesh': 1556, 'bloodi': 1557, 'protect': 1558, 'terror': 1559, 'hint': 1560, 'marvel': 1561, 'anybodi': 1562, 'watchabl': 1563, 'accord': 1564, 'load': 1565, 'leader': 1566, 'drunk': 1567, 'superman': 1568, 'freddi': 1569, 'brown': 1570, 'appropri': 1571, 'tim': 1572, 'jeff': 1573, 'seat': 1574, 'hitler': 1575, 'charg': 1576, 'villag': 1577, 'knock': 1578, 'unknown': 1579, 'keaton': 1580, 'england': 1581, 'empti': 1582, 'unnecessari': 1583, 'enemi': 1584, 'media': 1585, 'craft': 1586, 'wave': 1587, 'perspect': 1588, 'dare': 1589, 'utter': 1590, 'buck': 1591, 'strength': 1592, 'nativ': 1593, 'ford': 1594, 'correct': 1595, 'contrast': 1596, 'kiss': 1597, 'chill': 1598, 'knowledg': 1599, 'magnific': 1600, 'distract': 1601, 'nazi': 1602, 'anywher': 1603, 'soap': 1604, 'speed': 1605, 'fred': 1606, '1980': 1607, 'ice': 1608, 'mission': 1609, 'breath': 1610, 'crowd': 1611, 'jr': 1612, 'joan': 1613, 'moon': 1614, 'kate': 1615, 'frighten': 1616, 'soft': 1617, '000': 1618, 'nick': 1619, 'hundr': 1620, 'dick': 1621, 'dan': 1622, 'radio': 1623, 'simon': 1624, 'dozen': 1625, 'somebodi': 1626, 'andrew': 1627, 'thousand': 1628, 'loss': 1629, 'shakespear': 1630, 'academi': 1631, 'quot': 1632, 'root': 1633, 'sum': 1634, 'account': 1635, 'vehicl': 1636, '1970': 1637, 'convent': 1638, 'behavior': 1639, 'leg': 1640, 'gold': 1641, 'regular': 1642, 'pretenti': 1643, 'worker': 1644, 'demand': 1645, 'compet': 1646, 'candi': 1647, 'privat': 1648, 'notabl': 1649, 'japan': 1650, 'lynch': 1651, 'interpret': 1652, 'explos': 1653, 'stretch': 1654, 'constant': 1655, 'tarzan': 1656, 'debut': 1657, 'spi': 1658, 'sea': 1659, 'prais': 1660, 'translat': 1661, 'revolv': 1662, 'quiet': 1663, 'failur': 1664, 'threaten': 1665, 'sat': 1666, 'ass': 1667, 'jesu': 1668, 'technolog': 1669, 'franc': 1670, 'met': 1671, 'toy': 1672, 'aid': 1673, 'kevin': 1674, 'punch': 1675, 'higher': 1676, 'vh': 1677, 'mike': 1678, 'interact': 1679, 'abandon': 1680, 'confront': 1681, 'separ': 1682, 'bet': 1683, 'command': 1684, 'site': 1685, 'gotten': 1686, 'recal': 1687, 'belong': 1688, 'stunt': 1689, 'techniqu': 1690, 'servic': 1691, 'foot': 1692, 'cabl': 1693, 'bug': 1694, 'freak': 1695, 'african': 1696, 'bright': 1697, 'fu': 1698, 'capabl': 1699, 'jimmi': 1700, 'fat': 1701, 'presid': 1702, 'boat': 1703, 'stock': 1704, 'clark': 1705, 'succeed': 1706, 'spanish': 1707, 'gene': 1708, 'structur': 1709, 'kidnap': 1710, 'paper': 1711, 'factor': 1712, 'whilst': 1713, 'belief': 1714, 'witti': 1715, 'realism': 1716, 'educ': 1717, 'tree': 1718, 'attend': 1719, 'complic': 1720, 'realis': 1721, 'bob': 1722, 'assist': 1723, 'broken': 1724, 'finest': 1725, 'santa': 1726, 'up': 1727, 'observ': 1728, 'determin': 1729, 'depart': 1730, 'smoke': 1731, 'v': 1732, 'routin': 1733, 'oper': 1734, 'domin': 1735, 'hat': 1736, 'fame': 1737, 'rubbish': 1738, 'lewi': 1739, 'safe': 1740, 'kinda': 1741, 'advanc': 1742, 'hook': 1743, 'lone': 1744, 'foreign': 1745, 'morgan': 1746, 'numer': 1747, 'rank': 1748, 'vs': 1749, 'shallow': 1750, 'washington': 1751, 'shape': 1752, 'rose': 1753, 'civil': 1754, 'werewolf': 1755, 'morn': 1756, 'gari': 1757, 'kong': 1758, 'accomplish': 1759, 'winner': 1760, 'ordinari': 1761, 'virtual': 1762, 'peac': 1763, 'whenev': 1764, 'grab': 1765, 'h': 1766, 'offens': 1767, 'luck': 1768, 'welcom': 1769, 'activ': 1770, 'bigger': 1771, 'unfunni': 1772, 'contriv': 1773, 'complain': 1774, 'patient': 1775, 'dimension': 1776, 'con': 1777, 'trek': 1778, 'pretend': 1779, 'lesbian': 1780, 'eric': 1781, 'cain': 1782, 'wake': 1783, 'dri': 1784, 'flash': 1785, 'code': 1786, 'corrupt': 1787, 'statu': 1788, 'albert': 1789, 'dancer': 1790, 'guard': 1791, 'manipul': 1792, 'sourc': 1793, 'context': 1794, 'gain': 1795, 'signific': 1796, 'speech': 1797, 'awkward': 1798, 'psycho': 1799, 'sean': 1800, 'corni': 1801, '13': 1802, 'anthoni': 1803, 'clip': 1804, 'priest': 1805, 'advic': 1806, 'reli': 1807, 'theatric': 1808, 'w': 1809, 'religion': 1810, 'curiou': 1811, 'addict': 1812, 'flow': 1813, 'specif': 1814, 'jennif': 1815, 'asian': 1816, 'howard': 1817, 'skin': 1818, 'secur': 1819, 'comfort': 1820, 'luke': 1821, 'core': 1822, 'organ': 1823, 'golden': 1824, 'promot': 1825, 'cheat': 1826, 'lucki': 1827, 'cash': 1828, 'associ': 1829, 'dislik': 1830, 'lower': 1831, 'degre': 1832, 'spell': 1833, 'devic': 1834, 'wing': 1835, 'balanc': 1836, 'frequent': 1837, 'regret': 1838, 'contribut': 1839, 'frankli': 1840, 'forgiv': 1841, 'lake': 1842, 'print': 1843, 'sake': 1844, 'mass': 1845, 'thoma': 1846, 'betti': 1847, 'crack': 1848, 'unexpect': 1849, 'gordon': 1850, 'depend': 1851, 'invit': 1852, 'grown': 1853, 'unfold': 1854, 'construct': 1855, 'amateur': 1856, 'categori': 1857, 'condit': 1858, 'matur': 1859, 'grew': 1860, 'intellectu': 1861, 'honor': 1862, 'anna': 1863, 'walter': 1864, 'sudden': 1865, 'veteran': 1866, 'spectacular': 1867, 'sole': 1868, 'mirror': 1869, 'freedom': 1870, 'experienc': 1871, 'liner': 1872, 'overli': 1873, 'gift': 1874, 'card': 1875, 'robin': 1876, 'grip': 1877, 'demonstr': 1878, 'meanwhil': 1879, 'subtitl': 1880, 'unabl': 1881, 'brilliantli': 1882, 'sheriff': 1883, 'crappi': 1884, 'section': 1885, 'oliv': 1886, 'drew': 1887, 'colour': 1888, 'theori': 1889, 'circumst': 1890, 'matt': 1891, 'sheer': 1892, 'cook': 1893, 'path': 1894, 'altern': 1895, 'pile': 1896, 'laughter': 1897, 'parker': 1898, 'defin': 1899, 'relief': 1900, 'lawyer': 1901, 'treatment': 1902, 'sinatra': 1903, 'accident': 1904, 'wander': 1905, 'hall': 1906, 'dragon': 1907, 'captiv': 1908, 'hank': 1909, 'gratuit': 1910, 'halloween': 1911, 'moor': 1912, 'jacki': 1913, 'wound': 1914, 'barbara': 1915, 'unintent': 1916, 'cowboy': 1917, 'wayn': 1918, 'k': 1919, 'kung': 1920, 'broadway': 1921, 'spoof': 1922, 'surreal': 1923, 'statement': 1924, 'canadian': 1925, 'winter': 1926, 'compos': 1927, 'cheer': 1928, 'fare': 1929, 'fish': 1930, 'treasur': 1931, 'gonna': 1932, 'sensit': 1933, 'emerg': 1934, 'woodi': 1935, 'unrealist': 1936, 'victor': 1937, 'driven': 1938, 'ran': 1939, 'sympathet': 1940, 'neighbor': 1941, 'expos': 1942, 'topic': 1943, 'overlook': 1944, 'glass': 1945, 'menac': 1946, 'authent': 1947, 'gross': 1948, 'chief': 1949, 'handsom': 1950, 'ancient': 1951, 'michel': 1952, 'cinderella': 1953, 'comedian': 1954, 'network': 1955, 'feet': 1956, 'built': 1957, 'stranger': 1958, 'nevertheless': 1959, 'contemporari': 1960, 'pleasant': 1961, 'russel': 1962, 'underr': 1963, 'earn': 1964, 'endless': 1965, 'letter': 1966, 'blockbust': 1967, 'miser': 1968, 'gori': 1969, 'consider': 1970, 'brook': 1971, 'solv': 1972, 'switch': 1973, 'convict': 1974, 'edward': 1975, 'joseph': 1976, 'victoria': 1977, 'bullet': 1978, 'virgin': 1979, '0': 1980, 'chosen': 1981, 'cynic': 1982, 'alex': 1983, 'scenario': 1984, 'scale': 1985, 'com': 1986, 'curs': 1987, 'gut': 1988, 'sword': 1989, 'outrag': 1990, 'proper': 1991, 'substanc': 1992, 'uk': 1993, 'screenwrit': 1994, 'wrap': 1995, 'juli': 1996, 'driver': 1997, 'monkey': 1998, 'court': 1999, 'indic': 2000, 'remov': 2001, 'bird': 2002, 'par': 2003, 'consequ': 2004, 'naiv': 2005, 'advertis': 2006, 'loser': 2007, 'inevit': 2008, 'rental': 2009, 'nanci': 2010, 'grave': 2011, 'roy': 2012, 'invis': 2013, 'bridg': 2014, 'le': 2015, 'slap': 2016, 'fatal': 2017, 'brave': 2018, 'germani': 2019, 'provok': 2020, 'footbal': 2021, 'ador': 2022, 'loui': 2023, 'anger': 2024, 'chan': 2025, 'alcohol': 2026, 'anderson': 2027, 'ryan': 2028, 'stumbl': 2029, 'willi': 2030, 'professor': 2031, 'australian': 2032, 'patrick': 2033, 'assassin': 2034, 'sharp': 2035, 'bat': 2036, '1930': 2037, 'liber': 2038, 'ape': 2039, 'saturday': 2040, 'refresh': 2041, 'amateurish': 2042, 'strongli': 2043, 'cell': 2044, 'heck': 2045, 'eight': 2046, 'lousi': 2047, 'trilog': 2048, 'deni': 2049, 'sin': 2050, 'resid': 2051, 'justifi': 2052, 'san': 2053, 'vagu': 2054, 'terrifi': 2055, 'mini': 2056, 'defeat': 2057, 'indi': 2058, 'reput': 2059, 'sympathi': 2060, 'creator': 2061, 'task': 2062, 'endur': 2063, 'tediou': 2064, 'tabl': 2065, 'expert': 2066, 'prevent': 2067, 'che': 2068, 'offend': 2069, 'trial': 2070, 'employ': 2071, 'rival': 2072, 'imit': 2073, 'basebal': 2074, 'max': 2075, 'fairi': 2076, 'weekend': 2077, 'beach': 2078, 'europ': 2079, 'complaint': 2080, 'dig': 2081, 'pitch': 2082, 'purchas': 2083, 'risk': 2084, 'format': 2085, 'murphi': 2086, 'tini': 2087, 'hype': 2088, 'reminisc': 2089, 'glimps': 2090, 'nois': 2091, 'bite': 2092, 'harsh': 2093, 'titan': 2094, 'powel': 2095, 'fals': 2096, 'asleep': 2097, 'north': 2098, 'strip': 2099, 'till': 2100, '14': 2101, 'prime': 2102, 'africa': 2103, 'destruct': 2104, 'revel': 2105, 'descript': 2106, 'texa': 2107, 'uninterest': 2108, 'sitcom': 2109, 'excess': 2110, 'arrest': 2111, 'spin': 2112, 'surfac': 2113, 'inner': 2114, 'semi': 2115, 'maintain': 2116, 'massiv': 2117, 'hitchcock': 2118, 'makeup': 2119, 'dinosaur': 2120, 'argu': 2121, 'controversi': 2122, 'twin': 2123, 'kim': 2124, 'reject': 2125, 'expens': 2126, 'ludicr': 2127, 'ideal': 2128, 'stare': 2129, 'melodrama': 2130, 'insist': 2131, 'nail': 2132, 'supernatur': 2133, 'press': 2134, 'atroci': 2135, 'ala': 2136, 'forest': 2137, 'host': 2138, 'erot': 2139, 'subplot': 2140, 'ga': 2141, 'columbo': 2142, 'dude': 2143, 'cant': 2144, 'identifi': 2145, 'notch': 2146, 'presum': 2147, 'crude': 2148, 'character': 2149, 'closer': 2150, 'guest': 2151, 'plagu': 2152, 'method': 2153, 'forgett': 2154, 'landscap': 2155, 'ear': 2156, 'border': 2157, 'foster': 2158, 'princess': 2159, 'beast': 2160, 'lion': 2161, 'jungl': 2162, 'bound': 2163, 'aunt': 2164, 'damag': 2165, 'birth': 2166, 'previous': 2167, 'accus': 2168, 'urban': 2169, 'storytel': 2170, 'pacino': 2171, 'guid': 2172, 'chose': 2173, 'nude': 2174, 'propaganda': 2175, 'emma': 2176, 'thirti': 2177, 'jess': 2178, 'doll': 2179, '25': 2180, 'mainstream': 2181, 'warrior': 2182, 'mate': 2183, 'whoever': 2184, 'pet': 2185, 'cooper': 2186, 'exact': 2187, 'latest': 2188, 'merit': 2189, 'upset': 2190, 'deadli': 2191, 'friday': 2192, 'poster': 2193, 'gritti': 2194, 'size': 2195, 'citizen': 2196, 'popul': 2197, 'warner': 2198, 'rough': 2199, 'contest': 2200, 'wilson': 2201, 'settl': 2202, 'sun': 2203, 'ton': 2204, 'corps': 2205, 'contact': 2206, '1990': 2207, 'blend': 2208, 'buff': 2209, 'rat': 2210, 'widow': 2211, 'alic': 2212, 'overcom': 2213, 'mgm': 2214, 'pitt': 2215, 'select': 2216, 'environ': 2217, 'bu': 2218, 'metal': 2219, 'lift': 2220, 'revolut': 2221, 'guilti': 2222, 'particip': 2223, 'link': 2224, 'ted': 2225, '1960': 2226, 'johnson': 2227, 'accompani': 2228, 'corpor': 2229, 'afternoon': 2230, 'exagger': 2231, 'matrix': 2232, 'prostitut': 2233, 'moron': 2234, 'corner': 2235, 'doom': 2236, 'instal': 2237, 'sincer': 2238, 'hood': 2239, 'multipl': 2240, 'holm': 2241, 'friendli': 2242, 'clair': 2243, 'leagu': 2244, 'aka': 2245, 'junk': 2246, 'campi': 2247, 'advis': 2248, 'blah': 2249, 'irish': 2250, 'grim': 2251, 'string': 2252, 'examin': 2253, 'defend': 2254, 'sunday': 2255, 'lugosi': 2256, 'hip': 2257, 'shut': 2258, 'pro': 2259, 'varieti': 2260, 'icon': 2261, 'confid': 2262, 'tight': 2263, 'shake': 2264, 'rachel': 2265, 'goal': 2266, 'jaw': 2267, 'attach': 2268, 'sullivan': 2269, 'medic': 2270, 'directli': 2271, 'mexican': 2272, 'denni': 2273, 'dean': 2274, 'duke': 2275, 'sentenc': 2276, 'prior': 2277, 'legendari': 2278, 'courag': 2279, 'vietnam': 2280, 'bourn': 2281, 'truck': 2282, 'sarah': 2283, 'terrorist': 2284, 'breast': 2285, 'proceed': 2286, 'entri': 2287, 'donald': 2288, 'split': 2289, 'yell': 2290, 'hong': 2291, 'nose': 2292, 'un': 2293, 'behav': 2294, 'forth': 2295, 'jerk': 2296, 'everywher': 2297, 'crush': 2298, 'swim': 2299, 'stolen': 2300, 'concentr': 2301, 'confess': 2302, 'gather': 2303, 'buri': 2304, 'lifetim': 2305, 'borrow': 2306, 'unconvinc': 2307, 'california': 2308, 'deliveri': 2309, 'pan': 2310, 'lip': 2311, 'turkey': 2312, 'spite': 2313, 'julia': 2314, 'quest': 2315, 'china': 2316, 'freeman': 2317, 'flight': 2318, 'proud': 2319, 'offici': 2320, 'reward': 2321, 'hoffman': 2322, 'downright': 2323, 'lazi': 2324, 'inept': 2325, 'jail': 2326, 'betray': 2327, 'jon': 2328, 'sink': 2329, 'worthwhil': 2330, 'fade': 2331, 'notori': 2332, 'sir': 2333, 'fabul': 2334, 'encourag': 2335, 'relev': 2336, 'cousin': 2337, 'bell': 2338, 'shower': 2339, 'branagh': 2340, 'bag': 2341, 'imageri': 2342, 'storm': 2343, 'lisa': 2344, 'susan': 2345, 'survivor': 2346, 'teeth': 2347, 'retard': 2348, 'tremend': 2349, 'mexico': 2350, 'bride': 2351, 'finger': 2352, 'facial': 2353, 'toler': 2354, 'summari': 2355, 'hugh': 2356, 'shark': 2357, 'quirki': 2358, 'stab': 2359, 'alright': 2360, 'trade': 2361, 'bitter': 2362, 'von': 2363, 'ha': 2364, 'hyster': 2365, 'pose': 2366, 'blown': 2367, 'cruel': 2368, 'larri': 2369, 'afterward': 2370, 'address': 2371, 'christ': 2372, 'ron': 2373, 'ned': 2374, 'bone': 2375, 'scheme': 2376, 'distinct': 2377, 'snake': 2378, 'pursu': 2379, 'swear': 2380, 'thumb': 2381, 'feed': 2382, 'tour': 2383, 'beg': 2384, 'screw': 2385, 'traci': 2386, 'stomach': 2387, 'photo': 2388, 'mechan': 2389, 'raw': 2390, 'chair': 2391, 'obscur': 2392, 'occas': 2393, 'heavili': 2394, 'southern': 2395, 'render': 2396, 'chain': 2397, 'gruesom': 2398, 'resist': 2399, 'necessarili': 2400, 'holiday': 2401, 'hardi': 2402, 'argument': 2403, 'cabin': 2404, 'sidney': 2405, 'understood': 2406, 'racist': 2407, 'philip': 2408, 'indulg': 2409, 'satan': 2410, 'india': 2411, 'fourth': 2412, 'stalk': 2413, 'outfit': 2414, 'obnoxi': 2415, 'tongu': 2416, 'integr': 2417, 'belov': 2418, 'midnight': 2419, 'lay': 2420, 'forgot': 2421, 'pregnant': 2422, 'ticket': 2423, '17': 2424, 'restor': 2425, 'deeper': 2426, 'magazin': 2427, 'slapstick': 2428, 'inhabit': 2429, 'garden': 2430, 'carol': 2431, 'lincoln': 2432, 'shoe': 2433, 'devot': 2434, 'incid': 2435, 'brad': 2436, 'disbelief': 2437, 'divorc': 2438, 'guarante': 2439, 'sandler': 2440, 'maria': 2441, 'benefit': 2442, 'anticip': 2443, 'underground': 2444, 'lili': 2445, 'elizabeth': 2446, 'mildli': 2447, 'slave': 2448, 'capit': 2449, 'greater': 2450, 'amazingli': 2451, 'explod': 2452, 'princip': 2453, 'creation': 2454, 'bbc': 2455, 'cring': 2456, 'funnier': 2457, 'halfway': 2458, 'introduct': 2459, 'lesli': 2460, 'extraordinari': 2461, 'advantag': 2462, 'transfer': 2463, 'punish': 2464, 'extent': 2465, 'text': 2466, 'enhanc': 2467, 'tap': 2468, 'wreck': 2469, 'overwhelm': 2470, 'jessica': 2471, 'lo': 2472, 'horrif': 2473, 'dynam': 2474, 'plant': 2475, 'error': 2476, 'preview': 2477, 'lane': 2478, 'deliber': 2479, 'east': 2480, 'miscast': 2481, 'miller': 2482, 'appli': 2483, 'ensu': 2484, 'vincent': 2485, 'sophist': 2486, 'vacat': 2487, 'basi': 2488, 'homosexu': 2489, '2000': 2490, 'steel': 2491, 'sleazi': 2492, 'reed': 2493, 'elev': 2494, 'measur': 2495, 'uncomfort': 2496, 'bollywood': 2497, 'extend': 2498, 'spoken': 2499, 'mansion': 2500, 'via': 2501, 'hippi': 2502, 'assign': 2503, 'goofi': 2504, 'stanley': 2505, 'mous': 2506, 'beer': 2507, 'alter': 2508, 'melt': 2509, 'conceiv': 2510, 'breathtak': 2511, 'blair': 2512, 'fix': 2513, 'daili': 2514, 'overact': 2515, 'savag': 2516, 'cathol': 2517, 'dentist': 2518, 'everyday': 2519, 'burt': 2520, 'nowaday': 2521, 'oppos': 2522, 'succe': 2523, 'sacrific': 2524, 'carpent': 2525, 'properli': 2526, 'inspector': 2527, 'subsequ': 2528, 'massacr': 2529, 'circl': 2530, 'laura': 2531, 'block': 2532, 'neck': 2533, 'lesser': 2534, 'portrait': 2535, 'access': 2536, 'pool': 2537, 'mob': 2538, 'seagal': 2539, 'concert': 2540, 'fallen': 2541, 'grey': 2542, 'christi': 2543, 'fay': 2544, 'react': 2545, 'jake': 2546, 'competit': 2547, 'isol': 2548, 'chees': 2549, 'jewish': 2550, 'usa': 2551, 'relax': 2552, 'sinist': 2553, 'stink': 2554, 'nonetheless': 2555, 'lyric': 2556, 'ironi': 2557, 'spiritu': 2558, 'appal': 2559, 'immens': 2560, '2006': 2561, 'suitabl': 2562, 'creep': 2563, 'nine': 2564, 'chop': 2565, 'sold': 2566, 'reduc': 2567, 'nut': 2568, 'franchis': 2569, 'showcas': 2570, 'rage': 2571, 'adopt': 2572, 'user': 2573, 'luci': 2574, 'spring': 2575, 'navi': 2576, 'retir': 2577, 'needless': 2578, 'shirt': 2579, 'uninspir': 2580, 'digit': 2581, 'bulli': 2582, 'per': 2583, 'zone': 2584, 'asham': 2585, 'jay': 2586, 'nurs': 2587, 'bath': 2588, 'stanwyck': 2589, 'sutherland': 2590, 'laid': 2591, 'upper': 2592, 'broadcast': 2593, 'amongst': 2594, 'oddli': 2595, '1940': 2596, 'illustr': 2597, '2001': 2598, 'stylish': 2599, 'disguis': 2600, 'fulfil': 2601, 'baker': 2602, 'aspir': 2603, 'throat': 2604, 'brando': 2605, '18': 2606, 'neighborhood': 2607, 'thief': 2608, 'nobl': 2609, 'em': 2610, 'impli': 2611, 'pound': 2612, 'wwii': 2613, 'wanna': 2614, 'pride': 2615, 'endear': 2616, 'albeit': 2617, '16': 2618, 'bo': 2619, 'tens': 2620, 'cinematograph': 2621, 'coher': 2622, 'distribut': 2623, 'shoulder': 2624, 'rochest': 2625, 'prop': 2626, 'shift': 2627, 'dawn': 2628, 'diseas': 2629, 'bett': 2630, 'dinner': 2631, 'function': 2632, 'wash': 2633, 'snow': 2634, 'shout': 2635, 'rebel': 2636, 'surf': 2637, 'silenc': 2638, 'matthau': 2639, 'knife': 2640, 'poignant': 2641, 'contract': 2642, 'forti': 2643, 'cannib': 2644, 'derek': 2645, 'horrend': 2646, 'cancel': 2647, 'duti': 2648, 'elvira': 2649, 'mindless': 2650, 'proof': 2651, 'henc': 2652, 'chuck': 2653, 'silver': 2654, 'internet': 2655, 'eeri': 2656, 'reunion': 2657, 'heat': 2658, 'widmark': 2659, 'height': 2660, 'instinct': 2661, 'incoher': 2662, 'greatli': 2663, 'etern': 2664, 'spielberg': 2665, 'alik': 2666, 'glori': 2667, 'mill': 2668, 'musician': 2669, 'pie': 2670, 'absorb': 2671, 'neat': 2672, 'innov': 2673, 'torn': 2674, 'repetit': 2675, 'premier': 2676, 'elvi': 2677, 'itali': 2678, 'wealthi': 2679, 'trite': 2680, 'racism': 2681, 'horrifi': 2682, 'blank': 2683, 'precis': 2684, 'infam': 2685, 'diamond': 2686, 'crisi': 2687, 'redempt': 2688, 'homag': 2689, 'nelson': 2690, 'lovabl': 2691, 'fbi': 2692, 'britain': 2693, 'announc': 2694, 'burton': 2695, 'bang': 2696, 'pat': 2697, 'happili': 2698, 'flop': 2699, 'dedic': 2700, 'ensembl': 2701, 'hammer': 2702, 'helen': 2703, 'chaplin': 2704, 'parallel': 2705, 'resolut': 2706, 'wilder': 2707, 'streisand': 2708, 'mar': 2709, 'st': 2710, 'conclud': 2711, 'triumph': 2712, 'plastic': 2713, 'cube': 2714, 'disagre': 2715, 'factori': 2716, 'carter': 2717, 'broke': 2718, 'oil': 2719, 'weight': 2720, 'fighter': 2721, 'march': 2722, 'bush': 2723, 'rocket': 2724, 'vega': 2725, 'own': 2726, 'chuckl': 2727, 'row': 2728, 'climb': 2729, 'dump': 2730, 'kurt': 2731, 'wherea': 2732, 'unforgett': 2733, 'spare': 2734, 'boot': 2735, 'sensibl': 2736, 'enorm': 2737, 'meaning': 2738, 'lust': 2739, 'luca': 2740, 'thug': 2741, 'mst3k': 2742, 'dane': 2743, 'adequ': 2744, 'butt': 2745, 'engin': 2746, 'difficulti': 2747, 'rap': 2748, 'caricatur': 2749, 'stress': 2750, 'arnold': 2751, 'threat': 2752, 'brand': 2753, 'dear': 2754, 'bobbi': 2755, 'karloff': 2756, 'fifti': 2757, 'flynn': 2758, 'ego': 2759, 'hamlet': 2760, 'ralph': 2761, 'arrog': 2762, 'elabor': 2763, 'barri': 2764, 'fest': 2765, 'homeless': 2766, 'polish': 2767, 'swing': 2768, 'secretari': 2769, 'journalist': 2770, 'arrang': 2771, 'spike': 2772, 'puppet': 2773, 'conspiraci': 2774, 'resort': 2775, 'fanci': 2776, 'grate': 2777, 'simpson': 2778, 'unbear': 2779, 'float': 2780, 'induc': 2781, 'tool': 2782, 'boll': 2783, 'pig': 2784, 'choreograph': 2785, 'guilt': 2786, 'muppet': 2787, 'cruis': 2788, 'tribut': 2789, 'basement': 2790, 'exercis': 2791, 'phillip': 2792, 'slip': 2793, 'tower': 2794, 'toilet': 2795, 'ham': 2796, 'korean': 2797, 'ward': 2798, 'document': 2799, 'layer': 2800, 'puzzl': 2801, 'medium': 2802, 'stan': 2803, 'scarecrow': 2804, 'babe': 2805, 'file': 2806, 'fianc': 2807, 'item': 2808, 'editor': 2809, '24': 2810, 'territori': 2811, 'transit': 2812, 'superfici': 2813, 'spark': 2814, 'doc': 2815, 'persona': 2816, 'larger': 2817, 'denzel': 2818, 'minim': 2819, 'portion': 2820, 'librari': 2821, 'glover': 2822, 'catherin': 2823, 'assur': 2824, 'inexplic': 2825, 'slaughter': 2826, 'philosoph': 2827, 'orient': 2828, 'wolf': 2829, 'sneak': 2830, 'owe': 2831, 'ban': 2832, 'jeremi': 2833, 'boredom': 2834, 'curti': 2835, 'pg': 2836, 'shi': 2837, 'financi': 2838, 'walken': 2839, 'jet': 2840, 'dorothi': 2841, 'eleph': 2842, 'metaphor': 2843, 'cusack': 2844, 'multi': 2845, 'ambigu': 2846, 'whale': 2847, 'profound': 2848, 'backdrop': 2849, 'hudson': 2850, 'notion': 2851, 'birthday': 2852, 'ultra': 2853, 'stiff': 2854, 'viru': 2855, 'hack': 2856, '2005': 2857, 'implaus': 2858, 'union': 2859, 'gadget': 2860, 'rave': 2861, 'elsewher': 2862, 'newspap': 2863, 'squar': 2864, 'deriv': 2865, 'poison': 2866, 'disc': 2867, 'bibl': 2868, 'distanc': 2869, 'afford': 2870, 'urg': 2871, 'reader': 2872, 'canada': 2873, 'pad': 2874, 'superhero': 2875, 'slight': 2876, 'eastwood': 2877, 'hawk': 2878, '1st': 2879, 'lloyd': 2880, 'eva': 2881, 'sadist': 2882, 'drown': 2883, 'restaur': 2884, 'huh': 2885, 'heston': 2886, 'button': 2887, 'essenc': 2888, 'charisma': 2889, 'montag': 2890, 'health': 2891, 'skit': 2892, 'spread': 2893, 'cure': 2894, 'companion': 2895, 'lab': 2896, 'estat': 2897, 'peak': 2898, 'gradual': 2899, 'fetch': 2900, 'muslim': 2901, 'scoobi': 2902, 'invest': 2903, 'godfath': 2904, 'maniac': 2905, 'dealt': 2906, 'kane': 2907, 'countless': 2908, 'alli': 2909, 'cup': 2910, 'tea': 2911, 'subtleti': 2912, 'gothic': 2913, 'ritter': 2914, 'servant': 2915, 'miik': 2916, 'electr': 2917, 'salli': 2918, 'charismat': 2919, 'elect': 2920, 'heroic': 2921, 'briefli': 2922, 'iii': 2923, 'reel': 2924, 'resourc': 2925, 'wannab': 2926, 'nuanc': 2927, 'admittedli': 2928, 'neil': 2929, 'grandmoth': 2930, 'ingredi': 2931, 'tender': 2932, 'toss': 2933, 'cole': 2934, 'bud': 2935, 'reev': 2936, 'pit': 2937, 'poverti': 2938, 'gate': 2939, 'kubrick': 2940, 'pauli': 2941, 'mafia': 2942, 'shall': 2943, 'punk': 2944, 'stronger': 2945, 'carrey': 2946, 'mild': 2947, 'stood': 2948, 'label': 2949, 'dawson': 2950, 'cardboard': 2951, 'assault': 2952, 'tag': 2953, 'burst': 2954, 'updat': 2955, 'bakshi': 2956, 'fond': 2957, 'cox': 2958, 'smooth': 2959, 'useless': 2960, 'easier': 2961, 'ian': 2962, 'outcom': 2963, 'terri': 2964, 'smash': 2965, 'astair': 2966, 'rex': 2967, 'resolv': 2968, 'divers': 2969, 'samurai': 2970, 'fist': 2971, 'exchang': 2972, 'melodramat': 2973, 'vulner': 2974, '2002': 2975, 'qualifi': 2976, 'sketch': 2977, 'vari': 2978, 'increasingli': 2979, 'coincid': 2980, 'blast': 2981, 'templ': 2982, 'be': 2983, 'suspend': 2984, 'insert': 2985, 'brillianc': 2986, 'luckili': 2987, 'scratch': 2988, 'conveni': 2989, 'reynold': 2990, 'tame': 2991, 'walker': 2992, 'matthew': 2993, 'nuclear': 2994, 'farm': 2995, 'gotta': 2996, 'seventi': 2997, 'soprano': 2998, 'jami': 2999, 'strictli': 3000, 'ambiti': 3001, 'fisher': 3002, 'pin': 3003, 'meat': 3004, 'hamilton': 3005, 'coach': 3006, 'discoveri': 3007, 'instantli': 3008, 'struck': 3009, 'closet': 3010, 'worthless': 3011, 'recreat': 3012, 'ninja': 3013, 'monk': 3014, 'butcher': 3015, 'timeless': 3016, 'cave': 3017, 'joey': 3018, 'spooki': 3019, 'kudo': 3020, 'clock': 3021, 'revers': 3022, 'eccentr': 3023, 'brosnan': 3024, 'grasp': 3025, 'empir': 3026, 'convolut': 3027, 'cliff': 3028, 'importantli': 3029, 'communist': 3030, 'gray': 3031, 'selfish': 3032, 'declar': 3033, 'pal': 3034, 'bleak': 3035, 'evok': 3036, 'clown': 3037, 'miracl': 3038, 'sloppi': 3039, 'mitchel': 3040, 'eighti': 3041, 'fifteen': 3042, 'seller': 3043, 'wipe': 3044, 'inconsist': 3045, 'partli': 3046, 'sidekick': 3047, 'norman': 3048, 'farc': 3049, 'psychiatrist': 3050, 'destin': 3051, 'debat': 3052, 'enthusiast': 3053, 'australia': 3054, 'flawless': 3055, 'aforement': 3056, 'websit': 3057, 'cheek': 3058, 'superbl': 3059, 'piano': 3060, 'chew': 3061, 'seed': 3062, '45': 3063, 'ho': 3064, 'lifestyl': 3065, 'stoog': 3066, 'dire': 3067, 'incompet': 3068, 'anni': 3069, 'wick': 3070, 'abc': 3071, 'kitchen': 3072, 'soviet': 3073, 'splatter': 3074, 'regardless': 3075, 'dash': 3076, 'drivel': 3077, 'pressur': 3078, 'directori': 3079, 'bash': 3080, 'akshay': 3081, 'emili': 3082, 'slice': 3083, 'wrestl': 3084, 'helicopt': 3085, 'beaten': 3086, 'duo': 3087, 'increas': 3088, 'blob': 3089, 'flower': 3090, 'jar': 3091, 'recov': 3092, 'distant': 3093, 'pleasantli': 3094, 'seduc': 3095, 'cia': 3096, 'curios': 3097, 'glow': 3098, 'boil': 3099, 'doo': 3100, 'ken': 3101, 'lou': 3102, 'judi': 3103, 'cameron': 3104, 'artifici': 3105, 'suppli': 3106, 'prize': 3107, 'dave': 3108, 'mann': 3109, 'chapter': 3110, 'cagney': 3111, 'glenn': 3112, 'craven': 3113, 'combat': 3114, 'splendid': 3115, 'laurel': 3116, 'favour': 3117, 'web': 3118, 'drunken': 3119, 'francisco': 3120, 'craig': 3121, 'panic': 3122, 'goldberg': 3123, 'eleg': 3124, 'ellen': 3125, 'hop': 3126, 'ranger': 3127, 'psychot': 3128, 'perri': 3129, 'turner': 3130, 'wizard': 3131, 'graduat': 3132, 'greek': 3133, 'rid': 3134, 'slightest': 3135, 'alexand': 3136, 'modesti': 3137, 'philosophi': 3138, 'hatr': 3139, 'plausibl': 3140, 'gentl': 3141, 'gandhi': 3142, 'fx': 3143, '20th': 3144, 'shortli': 3145, 'flip': 3146, 'min': 3147, 'falk': 3148, 'ruth': 3149, 'we': 3150, 'unpleas': 3151, 'preciou': 3152, 'ocean': 3153, 'holi': 3154, 'legal': 3155, 'fund': 3156, 'harm': 3157, 'tall': 3158, 'dracula': 3159, 'jealou': 3160, 'lend': 3161, 'knight': 3162, 'futurist': 3163, 'manhattan': 3164, 'felix': 3165, 'tank': 3166, 'digniti': 3167, 'mock': 3168, 'childish': 3169, 'scientif': 3170, 'explicit': 3171, 'bless': 3172, 'thread': 3173, 'reviv': 3174, 'ami': 3175, 'overdon': 3176, 'nod': 3177, 'giallo': 3178, 'forbidden': 3179, 'fever': 3180, 'margaret': 3181, 'eve': 3182, 'unwatch': 3183, 'repeatedli': 3184, 'yesterday': 3185, '99': 3186, 'torment': 3187, 'thick': 3188, 'awe': 3189, 'pirat': 3190, 'nerv': 3191, 'mel': 3192, 'awaken': 3193, 'verhoeven': 3194, '2004': 3195, 'broad': 3196, 'elderli': 3197, 'launch': 3198, 'griffith': 3199, 'acclaim': 3200, 'timothi': 3201, 'absenc': 3202, 'roman': 3203, 'lean': 3204, 'publish': 3205, 'ah': 3206, 'politician': 3207, 'automat': 3208, 'uniform': 3209, 'kay': 3210, 'royal': 3211, 'custom': 3212, 'ambit': 3213, 'romero': 3214, 'rivet': 3215, 'eas': 3216, 'bin': 3217, 'stiller': 3218, 'crook': 3219, 'tomato': 3220, 'phrase': 3221, 'purpl': 3222, 'antic': 3223, 'warren': 3224, 'termin': 3225, 'sunshin': 3226, 'foul': 3227, 'darker': 3228, 'wallac': 3229, 'transport': 3230, 'pierc': 3231, 'pulp': 3232, 'homicid': 3233, 'stinker': 3234, 'gabriel': 3235, 'bathroom': 3236, 'rambo': 3237, 'coloni': 3238, 'donna': 3239, 'hollow': 3240, 'choreographi': 3241, 'horrid': 3242, 'saint': 3243, 'brazil': 3244, 'packag': 3245, 'sixti': 3246, 'prom': 3247, 'li': 3248, 'eyr': 3249, 'album': 3250, 'kenneth': 3251, 'viciou': 3252, 'pray': 3253, 'q': 3254, 'awak': 3255, 'karen': 3256, 'evolv': 3257, 'juvenil': 3258, 'revolutionari': 3259, '2003': 3260, 'ought': 3261, 'marin': 3262, 'contrari': 3263, 'stole': 3264, 'option': 3265, 'nerd': 3266, 'conserv': 3267, 'dose': 3268, 'ramon': 3269, 'defi': 3270, 'boast': 3271, 'blade': 3272, 'kapoor': 3273, 'ireland': 3274, 'twelv': 3275, 'beatti': 3276, 'candid': 3277, 'overr': 3278, 'mummi': 3279, 'mildr': 3280, 'detract': 3281, 'jazz': 3282, 'collabor': 3283, 'confirm': 3284, 'global': 3285, 'altman': 3286, 'funer': 3287, 'trio': 3288, 'natali': 3289, 'kirk': 3290, 'protest': 3291, 'astonish': 3292, 'flame': 3293, 'fulci': 3294, 'racial': 3295, 'bottl': 3296, 'destini': 3297, 'mystic': 3298, 'yellow': 3299, 'leap': 3300, 'spit': 3301, 'bull': 3302, 'delici': 3303, 'shade': 3304, 'tommi': 3305, 'audio': 3306, 'whip': 3307, 'enterpris': 3308, 'blake': 3309, 'nicholson': 3310, 'bedroom': 3311, 'harder': 3312, 'adolesc': 3313, 'neo': 3314, 'staff': 3315, 'reunit': 3316, 'merci': 3317, 'pseudo': 3318, 'threw': 3319, 'meaningless': 3320, 'todd': 3321, 'vivid': 3322, 'inherit': 3323, 'altogeth': 3324, 'popcorn': 3325, 'visibl': 3326, 'enchant': 3327, 'swedish': 3328, 'fonda': 3329, 'edi': 3330, 'jew': 3331, 'befriend': 3332, 'respond': 3333, 'bust': 3334, 'await': 3335, 'exhibit': 3336, 'synopsi': 3337, 'leonard': 3338, 'crocodil': 3339, 'decor': 3340, 'suspici': 3341, 'uneven': 3342, 'tip': 3343, 'moodi': 3344, 'kennedi': 3345, 'atlanti': 3346, 'madonna': 3347, 'reserv': 3348, 'fanat': 3349, 'voight': 3350, 'lemmon': 3351, 'roommat': 3352, 'lawrenc': 3353, 'ruthless': 3354, 'wire': 3355, 'unsettl': 3356, 'bargain': 3357, 'bold': 3358, 'voyag': 3359, 'audit': 3360, '2007': 3361, 'dimens': 3362, 'abysm': 3363, 'chao': 3364, 'incident': 3365, 'rural': 3366, 'ventur': 3367, 'palma': 3368, 'clint': 3369, 'clumsi': 3370, 'garner': 3371, 'holli': 3372, 'carl': 3373, 'centr': 3374, 'bradi': 3375, 'humili': 3376, 'acknowledg': 3377, 'cd': 3378, 'tiger': 3379, 'imperson': 3380, 'elimin': 3381, 'nearbi': 3382, 'versu': 3383, 'daddi': 3384, '2nd': 3385, 'timon': 3386, 'neglect': 3387, 'wealth': 3388, 'troop': 3389, 'lit': 3390, 'mall': 3391, 'hart': 3392, 'cuba': 3393, 'echo': 3394, 'trail': 3395, 'characterist': 3396, 'poetic': 3397, 'cari': 3398, 'ant': 3399, 'immigr': 3400, 'jeffrey': 3401, 'marshal': 3402, 'domest': 3403, 'paus': 3404, 'celluloid': 3405, 'saga': 3406, 'pun': 3407, 'mickey': 3408, 'collaps': 3409, 'infect': 3410, 'solo': 3411, 'mistaken': 3412, 'homer': 3413, 'repuls': 3414, 'prejudic': 3415, 'hbo': 3416, 'milk': 3417, 'olivi': 3418, 'interrupt': 3419, 'inappropri': 3420, 'tribe': 3421, 'gear': 3422, 'inan': 3423, 'cake': 3424, 'sore': 3425, 'assembl': 3426, 'equip': 3427, 'coffe': 3428, 'pant': 3429, 'apolog': 3430, 'promin': 3431, '1996': 3432, 'coat': 3433, 'harvey': 3434, 'leon': 3435, 'chest': 3436, 'undoubtedli': 3437, 'ginger': 3438, 'embrac': 3439, 'solut': 3440, 'retain': 3441, 'maggi': 3442, 'humbl': 3443, 'pot': 3444, 'trace': 3445, 'devast': 3446, 'consum': 3447, 'primari': 3448, 'instant': 3449, 'institut': 3450, 'aveng': 3451, 'colonel': 3452, 'furthermor': 3453, 'colleagu': 3454, 'brooklyn': 3455, 'exot': 3456, 'florida': 3457, 'airplan': 3458, 'vulgar': 3459, 'jenni': 3460, 'highest': 3461, 'pen': 3462, 'polanski': 3463, 'cope': 3464, 'linda': 3465, 'outer': 3466, '3rd': 3467, 'strain': 3468, 'smaller': 3469, 'ya': 3470, 'godzilla': 3471, 'poke': 3472, 'disabl': 3473, 'illog': 3474, 'descend': 3475, 'seduct': 3476, 'wive': 3477, 'bowl': 3478, 'sale': 3479, 'principl': 3480, 'gender': 3481, 'rick': 3482, 'dutch': 3483, 'dian': 3484, '1999': 3485, 'dive': 3486, 'bubbl': 3487, 'blatant': 3488, 'cue': 3489, 'gundam': 3490, 'rabbit': 3491, 'secondli': 3492, 'gloriou': 3493, 'glamor': 3494, 'vast': 3495, 'hal': 3496, 'primarili': 3497, 'mixtur': 3498, 'devoid': 3499, 'dud': 3500, 'beneath': 3501, 'scope': 3502, 'lol': 3503, 'yard': 3504, 'predecessor': 3505, 'inferior': 3506, 'arab': 3507, 'pearl': 3508, 'simplist': 3509, 'casual': 3510, 'museum': 3511, 'invas': 3512, 'streep': 3513, 'hideou': 3514, 'april': 3515, 'aggress': 3516, 'myer': 3517, 'et': 3518, 'countrysid': 3519, 'z': 3520, 'senseless': 3521, 'grinch': 3522, 'trademark': 3523, 'domino': 3524, 'shirley': 3525, 'talki': 3526, 'disjoint': 3527, 'shelf': 3528, 'alert': 3529, 'alfr': 3530, 'breed': 3531, 'garbo': 3532, 'uwe': 3533, 'acid': 3534, 'unhappi': 3535, 'defens': 3536, 'vanish': 3537, 'oz': 3538, 'robberi': 3539, 'hopeless': 3540, 'robinson': 3541, 'loyal': 3542, 'applaud': 3543, 'hardcor': 3544, 'rendit': 3545, 'slide': 3546, 'illeg': 3547, 'maci': 3548, 'stir': 3549, 'disgrac': 3550, 'boom': 3551, 'sh': 3552, 'stellar': 3553, 'mail': 3554, 'stack': 3555, 'experiment': 3556, 'obtain': 3557, 'mayor': 3558, 'khan': 3559, 'fri': 3560, 'counter': 3561, 'spider': 3562, 'blew': 3563, 'dismiss': 3564, 'craze': 3565, 'grandfath': 3566, 'wont': 3567, 'berlin': 3568, 'soccer': 3569, 'recruit': 3570, 'tempt': 3571, 'diana': 3572, 'amanda': 3573, 'incomprehens': 3574, 'topless': 3575, 'span': 3576, 'tenant': 3577, 'rifl': 3578, 'emphasi': 3579, 'declin': 3580, 'psychic': 3581, 'dicken': 3582, 'scroog': 3583, 'hartley': 3584, 'niro': 3585, 'wet': 3586, 'faster': 3587, 'justin': 3588, 'ethnic': 3589, 'sibl': 3590, 'bitch': 3591, 'riot': 3592, 'porno': 3593, 'revolt': 3594, 'shed': 3595, 'shaw': 3596, 'ration': 3597, 'goer': 3598, 'intim': 3599, 'trashi': 3600, 'woo': 3601, 'lumet': 3602, 'sympath': 3603, 'resurrect': 3604, 'parad': 3605, 'steam': 3606, 'dealer': 3607, 'jonathan': 3608, 'hesit': 3609, 'andr': 3610, 'wheel': 3611, 'worm': 3612, 'enlighten': 3613, 'honesti': 3614, 'feminist': 3615, 'choru': 3616, 'weakest': 3617, 'region': 3618, 'biographi': 3619, 'immort': 3620, 'unreal': 3621, '00': 3622, 'rider': 3623, 'patriot': 3624, 'mario': 3625, 'wendi': 3626, 'nephew': 3627, 'ensur': 3628, 'gap': 3629, 'eager': 3630, 'hopper': 3631, 'slick': 3632, 'commend': 3633, 'partial': 3634, 'farmer': 3635, 'lena': 3636, 'ballet': 3637, 'blunt': 3638, 'kingdom': 3639, 'util': 3640, 'victori': 3641, 'leo': 3642, 'confin': 3643, 'repress': 3644, 'safeti': 3645, 'vice': 3646, 'charlott': 3647, 'composit': 3648, 'nostalg': 3649, 'hung': 3650, 'sappi': 3651, 'psychopath': 3652, 'owen': 3653, 'prequel': 3654, 'franco': 3655, 'morri': 3656, 'similarli': 3657, 'mutant': 3658, 'snap': 3659, 'wore': 3660, 'properti': 3661, 'macarthur': 3662, 'skull': 3663, 'sandra': 3664, 'compens': 3665, 'tad': 3666, 'rocki': 3667, '1972': 3668, 'speci': 3669, 'bonu': 3670, 'compass': 3671, 'dust': 3672, 'bumbl': 3673, 'latin': 3674, 'thru': 3675, 'strand': 3676, 'rope': 3677, 'heartbreak': 3678, 'farrel': 3679, 'miseri': 3680, 'exit': 3681, 'emperor': 3682, 'drum': 3683, 'acquir': 3684, 'dalton': 3685, 'despair': 3686, 'recycl': 3687, 'del': 3688, 'rambl': 3689, 'snl': 3690, 'pattern': 3691, 'repli': 3692, 'campbel': 3693, 'nervou': 3694, 'valuabl': 3695, 'tail': 3696, 'bow': 3697, 'drain': 3698, 'hyde': 3699, 'cg': 3700, 'deed': 3701, 'montana': 3702, 'kyle': 3703, 'bergman': 3704, 'whoopi': 3705, '35': 3706, 'wacki': 3707, 'radic': 3708, 'martian': 3709, 'oppress': 3710, 'mistress': 3711, 'gimmick': 3712, 'chess': 3713, 'orson': 3714, 'olli': 3715, 'pour': 3716, 'percept': 3717, 'downhil': 3718, 'rotten': 3719, 'bleed': 3720, 'romp': 3721, 'contempl': 3722, 'gal': 3723, 'roth': 3724, 'slug': 3725, 'rapist': 3726, 'airport': 3727, 'carradin': 3728, 'tonight': 3729, 'da': 3730, 'pervert': 3731, 'arc': 3732, 'shelley': 3733, 'programm': 3734, 'heal': 3735, 'paltrow': 3736, 'edgar': 3737, 'champion': 3738, 'slash': 3739, 'stilt': 3740, 'taught': 3741, 'unpredict': 3742, 'belt': 3743, '1983': 3744, 'banal': 3745, 'pervers': 3746, 'tackl': 3747, 'preach': 3748, 'mislead': 3749, 'arguabl': 3750, 'attorney': 3751, 'pursuit': 3752, 'melodi': 3753, 'tooth': 3754, 'dazzl': 3755, 'employe': 3756, 'vengeanc': 3757, 'duval': 3758, 'rubi': 3759, 'poem': 3760, 'orang': 3761, 'maid': 3762, 'tiresom': 3763, 'gambl': 3764, 'cleverli': 3765, 'vocal': 3766, 'mesmer': 3767, 'virginia': 3768, 'plight': 3769, 'bela': 3770, 'graham': 3771, 'uplift': 3772, 'franki': 3773, 'conneri': 3774, 'closest': 3775, 'raymond': 3776, 'chicken': 3777, 'passeng': 3778, 'marti': 3779, 'sensat': 3780, 'dixon': 3781, 'calm': 3782, 'extens': 3783, 'profan': 3784, 'habit': 3785, 'yawn': 3786, 'bay': 3787, 'volum': 3788, 'secretli': 3789, 'climact': 3790, 'engross': 3791, 'numb': 3792, 'swallow': 3793, 'mute': 3794, 'iran': 3795, 'outing': 3796, 'whine': 3797, 'monologu': 3798, 'amitabh': 3799, 'clone': 3800, 'suffic': 3801, 'abraham': 3802, 'lundgren': 3803, 'inject': 3804, 'tube': 3805, 'paranoia': 3806, 'convincingli': 3807, 'sirk': 3808, 'scottish': 3809, 'quarter': 3810, 'gerard': 3811, 'giggl': 3812, '1968': 3813, 'crystal': 3814, 'pokemon': 3815, 'dispos': 3816, 'poetri': 3817, 'austen': 3818, 'bend': 3819, 'expand': 3820, 'fed': 3821, 'chicago': 3822, 'nichola': 3823, 'meander': 3824, 'backward': 3825, 'underst': 3826, 'grotesqu': 3827, 'earl': 3828, 'profess': 3829, 'franci': 3830, 'septemb': 3831, 'ethan': 3832, 'frankenstein': 3833, 'linger': 3834, 'taxi': 3835, 'lowest': 3836, 'spock': 3837, 'plod': 3838, 'trend': 3839, 'richardson': 3840, 'junior': 3841, 'surpass': 3842, 'abort': 3843, 'im': 3844, 'muddl': 3845, 'greedi': 3846, 'rubber': 3847, 'econom': 3848, 'nostalgia': 3849, 'lure': 3850, 'mundan': 3851, 'spoke': 3852, 'instrument': 3853, 'sue': 3854, 'myth': 3855, 'tourist': 3856, 'literatur': 3857, 'cannon': 3858, 'waitress': 3859, 'eugen': 3860, 'hum': 3861, 'household': 3862, 'dysfunct': 3863, 'rant': 3864, 'descent': 3865, 'compliment': 3866, 'simplic': 3867, 'catchi': 3868, 'der': 3869, 'stallon': 3870, 'insur': 3871, 'alongsid': 3872, 'stale': 3873, 'crucial': 3874, 'dement': 3875, 'mankind': 3876, 'recognis': 3877, 'hello': 3878, 'duck': 3879, 'recognit': 3880, 'deaf': 3881, 'firstli': 3882, 'coast': 3883, 'irrelev': 3884, 'june': 3885, 'mortal': 3886, 'molli': 3887, 'eaten': 3888, 'damon': 3889, 'randi': 3890, 'occupi': 3891, 'omen': 3892, 'phoni': 3893, 'lang': 3894, 'map': 3895, 'cent': 3896, 'louis': 3897, 'carel': 3898, 'dictat': 3899, 'bacal': 3900, 'phantom': 3901, 'flee': 3902, 'equival': 3903, 'sissi': 3904, 'furi': 3905, 'labor': 3906, 'distinguish': 3907, 'loyalti': 3908, 'daisi': 3909, 'wisdom': 3910, 'twilight': 3911, 'bump': 3912, 'cyborg': 3913, 'damm': 3914, 'onlin': 3915, 'drake': 3916, 'grayson': 3917, 'bike': 3918, 'lengthi': 3919, 'reign': 3920, 'blackmail': 3921, 'dreari': 3922, 'biko': 3923, 'ashley': 3924, 'rude': 3925, 'antwon': 3926, '1973': 3927, 'buffalo': 3928, 'newli': 3929, 'freez': 3930, 'heel': 3931, 'rooney': 3932, 'likewis': 3933, 'tunnel': 3934, 'incorpor': 3935, 'prey': 3936, 'sailor': 3937, 'approv': 3938, 'attribut': 3939, 'emphas': 3940, 'proce': 3941, 'startl': 3942, 'interior': 3943, 'ridden': 3944, 'provoc': 3945, 'chronicl': 3946, 'vein': 3947, 'nineti': 3948, 'unorigin': 3949, 'butler': 3950, 'pink': 3951, 'exposur': 3952, 'basketbal': 3953, 'barrymor': 3954, 'boxer': 3955, 'keith': 3956, 'analysi': 3957, 'worn': 3958, 'baddi': 3959, 'inher': 3960, 'drift': 3961, 'condemn': 3962, 'unrel': 3963, 'bunni': 3964, 'elm': 3965, 'othello': 3966, 'walsh': 3967, 'hypnot': 3968, 'undeni': 3969, 'mormon': 3970, 'meyer': 3971, 'predat': 3972, 'carla': 3973, 'nicol': 3974, 'er': 3975, 'fleet': 3976, 'substitut': 3977, 'meg': 3978, 'degrad': 3979, 'robbin': 3980, 'julian': 3981, 'millionair': 3982, 'indiffer': 3983, 'underli': 3984, 'improvis': 3985, 'belushi': 3986, 'mighti': 3987, 'stalker': 3988, 'simmon': 3989, 'barrel': 3990, 'exquisit': 3991, 'hay': 3992, 'enthusiasm': 3993, 'vital': 3994, 'palac': 3995, 'alison': 3996, 'reid': 3997, 'errol': 3998, 'agenda': 3999, 'lampoon': 4000, 'greed': 4001, 'edgi': 4002, 'priceless': 4003, 'alarm': 4004, 'dolph': 4005, 'firm': 4006, 'watson': 4007, 'warmth': 4008, 'roof': 4009, 'disord': 4010, 'mtv': 4011, 'shove': 4012, 'nyc': 4013, 'marion': 4014, 'rukh': 4015, 'novak': 4016, 'unawar': 4017, '3d': 4018, 'valentin': 4019, 'gestur': 4020, 'profit': 4021, 'peril': 4022, 'testament': 4023, 'eastern': 4024, 'simultan': 4025, 'session': 4026, 'ponder': 4027, 'sergeant': 4028, 'championship': 4029, 'cassidi': 4030, 'petti': 4031, 'beatl': 4032, '13th': 4033, 'unleash': 4034, 'orlean': 4035, 'showdown': 4036, 'campaign': 4037, 'crown': 4038, 'thompson': 4039, 'distort': 4040, 'iraq': 4041, 'angela': 4042, 'minimum': 4043, 'israel': 4044, 'glanc': 4045, 'preserv': 4046, '1933': 4047, 'randomli': 4048, 'coup': 4049, 'pamela': 4050, 'what': 4051, 'drip': 4052, 'spain': 4053, 'nun': 4054, 'peck': 4055, 'zizek': 4056, 'perpetu': 4057, 'brenda': 4058, 'valley': 4059, 'cooki': 4060, 'shootout': 4061, 'gentleman': 4062, 'crow': 4063, 'mon': 4064, 'calib': 4065, 'reson': 4066, 'climat': 4067, 'contradict': 4068, 'travesti': 4069, 'rout': 4070, 'stake': 4071, 'represent': 4072, 'cream': 4073, 'regist': 4074, 'wig': 4075, 'restrain': 4076, '1984': 4077, 'unimagin': 4078, 'scotland': 4079, 'fido': 4080, 'stroke': 4081, 'kurosawa': 4082, 'crawl': 4083, 'quinn': 4084, 'realm': 4085, 'sabrina': 4086, 'empathi': 4087, 'bro': 4088, 'exposit': 4089, 'han': 4090, 'miyazaki': 4091, 'jan': 4092, 'buster': 4093, 'din': 4094, 'pretens': 4095, 'ustinov': 4096, 'demis': 4097, 'cloud': 4098, 'wax': 4099, 'unsatisfi': 4100, 'meryl': 4101, 'derang': 4102, 'dana': 4103, '1987': 4104, 'josh': 4105, 'passabl': 4106, 'femm': 4107, 'sammi': 4108, 'tacki': 4109, 'warrant': 4110, 'painter': 4111, 'shoddi': 4112, 'stargat': 4113, 'distress': 4114, 'traumat': 4115, 'absent': 4116, 'baldwin': 4117, 'unseen': 4118, 'fuller': 4119, 'geek': 4120, 'crawford': 4121, '1997': 4122, 'delic': 4123, 'abomin': 4124, 'perceiv': 4125, 'shaki': 4126, 'businessman': 4127, 'sucker': 4128, 'pole': 4129, 'censor': 4130, 'compromis': 4131, 'mclaglen': 4132, 'spacey': 4133, 'ross': 4134, 'monoton': 4135, 'soderbergh': 4136, 'greg': 4137, 'darren': 4138, 'tarantino': 4139, 'nathan': 4140, 'primit': 4141, 'antonioni': 4142, 'judgment': 4143, 'anchor': 4144, 'norm': 4145, 'click': 4146, 'accuraci': 4147, 'furiou': 4148, 'jewel': 4149, 'dee': 4150, 'fog': 4151, 'reluct': 4152, 'sid': 4153, 'seal': 4154, 'deceas': 4155, 'kumar': 4156, 'tech': 4157, 'wholli': 4158, 'uncov': 4159, 'austin': 4160, 'valid': 4161, 'clash': 4162, 'exclus': 4163, 'verbal': 4164, 'deniro': 4165, 'fenc': 4166, 'correctli': 4167, '1993': 4168, 'expedit': 4169, 'unravel': 4170, 'polici': 4171, 'crippl': 4172, 'logan': 4173, 'behold': 4174, 'roller': 4175, 'tax': 4176, 'fart': 4177, 'shanghai': 4178, 'trait': 4179, 'ritual': 4180, 'dreck': 4181, 'clerk': 4182, 'unfair': 4183, 'sheet': 4184, 'conduct': 4185, 'darn': 4186, 'seldom': 4187, '1971': 4188, 'hallucin': 4189, 'mode': 4190, 'malon': 4191, 'patienc': 4192, 'enforc': 4193, 'slam': 4194, 'sand': 4195, 'bake': 4196, 'debt': 4197, 'temper': 4198, 'sunni': 4199, 'sustain': 4200, 'pocket': 4201, '2008': 4202, 'wretch': 4203, 'fabric': 4204, 'joel': 4205, 'murray': 4206, 'nicola': 4207, '3000': 4208, 'vanc': 4209, 'alec': 4210, 'wang': 4211, 'fought': 4212, '1995': 4213, 'soup': 4214, 'critiqu': 4215, 'phil': 4216, 'helpless': 4217, 'scriptwrit': 4218, 'exhaust': 4219, 'isabel': 4220, 'shell': 4221, 'outlin': 4222, 'rita': 4223, 'canyon': 4224, 'technicolor': 4225, 'squad': 4226, 'divid': 4227, 'grief': 4228, 'conscious': 4229, 'guitar': 4230, 'preposter': 4231, 'tactic': 4232, 'robber': 4233, 'runner': 4234, 'stark': 4235, 'schedul': 4236, 'sweep': 4237, 'bridget': 4238, 'fundament': 4239, 'preston': 4240, 'stuart': 4241, 'despis': 4242, 'clau': 4243, 'bias': 4244, 'pete': 4245, 'legaci': 4246, 'penni': 4247, 'consciou': 4248, 'inabl': 4249, 'jodi': 4250, 'jacket': 4251, 'implic': 4252, 'restrict': 4253, 'bloom': 4254, 'delv': 4255, 'russia': 4256, 'vomit': 4257, 'gregori': 4258, 'unexpectedli': 4259, 'flair': 4260, 'propos': 4261, 'boyl': 4262, 'downey': 4263, 'agenc': 4264, 'passag': 4265, 'cigarett': 4266, 'culmin': 4267, 'invad': 4268, 'rehash': 4269, 'lacklust': 4270, 'marc': 4271, 'sugar': 4272, 'drove': 4273, 'kansa': 4274, 'sentinel': 4275, 'alicia': 4276, 'sniper': 4277, 'newman': 4278, 'rear': 4279, 'alley': 4280, 'connor': 4281, 'liberti': 4282, 'palanc': 4283, 'tendenc': 4284, 'pale': 4285, 'aesthet': 4286, 'rehears': 4287, 'awhil': 4288, '22': 4289, 'bacon': 4290, 'feat': 4291, 'wrench': 4292, 'behaviour': 4293, 'tripe': 4294, 'vet': 4295, 'chainsaw': 4296, 'ladder': 4297, 'delet': 4298, 'sharon': 4299, 'rod': 4300, 'rampag': 4301, 'mccoy': 4302, '1936': 4303, 'asylum': 4304, 'horn': 4305, 'improb': 4306, 'arrow': 4307, 'foxx': 4308, 'cap': 4309, 'karl': 4310, 'lush': 4311, 'kolchak': 4312, 'yeti': 4313, 'rumor': 4314, '1988': 4315, 'el': 4316, 'shortcom': 4317, 'weav': 4318, 'financ': 4319, 'coaster': 4320, 'sung': 4321, 'basing': 4322, 'hungri': 4323, 'conscienc': 4324, 'wildli': 4325, 'fright': 4326, 'loneli': 4327, 'prank': 4328, 'newcom': 4329, 'suffici': 4330, 'elit': 4331, 'lurk': 4332, 'filler': 4333, 'minu': 4334, 'wagner': 4335, 'hulk': 4336, 'hackney': 4337, 'visitor': 4338, 'rhythm': 4339, 'stream': 4340, 'tasteless': 4341, 'globe': 4342, 'thunderbird': 4343, 'paramount': 4344, 'underneath': 4345, 'paradis': 4346, 'scoop': 4347, '19th': 4348, '1978': 4349, 'spice': 4350, 'amazon': 4351, 'tomorrow': 4352, 'suspicion': 4353, '1920': 4354, 'aristocrat': 4355, 'atroc': 4356, 'counterpart': 4357, 'dirt': 4358, 'smell': 4359, 'quietli': 4360, 'inmat': 4361, 'grudg': 4362, 'impos': 4363, 'leigh': 4364, 'iv': 4365, 'hopkin': 4366, 'choppi': 4367, 'immers': 4368, 'en': 4369, 'rub': 4370, 'recogniz': 4371, 'literari': 4372, 'worship': 4373, 'tierney': 4374, 'brit': 4375, 'entranc': 4376, 'paxton': 4377, 'standout': 4378, 'ingeni': 4379, 'secondari': 4380, 'bread': 4381, 'teas': 4382, 'wwe': 4383, 'abrupt': 4384, 'penn': 4385, 'naughti': 4386, 'beverli': 4387, 'chamberlain': 4388, '75': 4389, 'cancer': 4390, 'straightforward': 4391, 'ram': 4392, 'heist': 4393, 'curli': 4394, 'posey': 4395, 'lectur': 4396, '1939': 4397, 'chavez': 4398, 'minist': 4399, '1989': 4400, 'couch': 4401, 'springer': 4402, 'morbid': 4403, 'variat': 4404, 'laurenc': 4405, 'geni': 4406, 'ace': 4407, 'injuri': 4408, 'heartfelt': 4409, 'sassi': 4410, 'yearn': 4411, 'enthral': 4412, 'moreov': 4413, 'entitl': 4414, 'clan': 4415, 'lindsay': 4416, 'bernard': 4417, 'skeptic': 4418, 'policeman': 4419, 'nemesi': 4420, 'watcher': 4421, 'misguid': 4422, 'net': 4423, 'convert': 4424, 'attenborough': 4425, '1986': 4426, 'cattl': 4427, 'quaid': 4428, 'transcend': 4429, 'nolan': 4430, 'esther': 4431, 'missil': 4432, 'duel': 4433, 'ratso': 4434, 'sublim': 4435, 'hk': 4436, '1979': 4437, 'uncut': 4438, 'youngest': 4439, 'mytholog': 4440, 'cruelti': 4441, 'grin': 4442, 'hopelessli': 4443, 'unexplain': 4444, 'bean': 4445, 'bye': 4446, 'out': 4447, 'diari': 4448, 'brood': 4449, 'facil': 4450, 'poe': 4451, 'dont': 4452, 'setup': 4453, 'characteris': 4454, 'tyler': 4455, 'spiral': 4456, 'enabl': 4457, 'obstacl': 4458, 'graini': 4459, 'vader': 4460, 'kidman': 4461, 'buzz': 4462, 'egg': 4463, 'artsi': 4464, 'kitti': 4465, 'carlito': 4466, 'reliabl': 4467, 'steadi': 4468, 'puppi': 4469, 'moder': 4470, 'rosemari': 4471, 'despic': 4472, 'gillian': 4473, 'narrow': 4474, 'oblig': 4475, 'brendan': 4476, 'exterior': 4477, 'niec': 4478, 'spontan': 4479, 'bewar': 4480, 'martha': 4481, 'bounc': 4482, 'underworld': 4483, 'patricia': 4484, 'clueless': 4485, 'sweat': 4486, 'fuel': 4487, 'preming': 4488, 'kline': 4489, 'decept': 4490, 'effici': 4491, 'athlet': 4492, 'disastr': 4493, 'baffl': 4494, 'hammi': 4495, 'heap': 4496, '1969': 4497, 'gina': 4498, 'christin': 4499, 'hain': 4500, 'bronson': 4501, 'weather': 4502, 'acquaint': 4503, 'biker': 4504, 'analyz': 4505, 'housewif': 4506, 'mermaid': 4507, 'virtu': 4508, 'trigger': 4509, 'insipid': 4510, 'outlaw': 4511, 'scar': 4512, 'shatter': 4513, 'rome': 4514, 'astound': 4515, 'angst': 4516, 'mayhem': 4517, 'injur': 4518, 'sooner': 4519, 'preachi': 4520, 'headach': 4521, 'circu': 4522, 'fontain': 4523, 'sleepwalk': 4524, 'goof': 4525, 'tick': 4526, 'dilemma': 4527, 'taboo': 4528, 'harmless': 4529, 'uh': 4530, 'candl': 4531, 'loi': 4532, '73': 4533, 'loath': 4534, 'dandi': 4535, '19': 4536, 'lester': 4537, 'viewpoint': 4538, 'hepburn': 4539, 'suprem': 4540, 'enlist': 4541, 'renaiss': 4542, 'phenomenon': 4543, 'scorses': 4544, 'overlong': 4545, 'contempt': 4546, 'zoom': 4547, 'intric': 4548, 'hostag': 4549, 'corbett': 4550, 'fluff': 4551, 'redund': 4552, 'whore': 4553, 'ebert': 4554, 'stair': 4555, 'tripl': 4556, 'boston': 4557, 'hokey': 4558, 'immatur': 4559, 'salt': 4560, 'hooker': 4561, 'claustrophob': 4562, 'oldest': 4563, 'bent': 4564, 'spade': 4565, 'amor': 4566, 'dish': 4567, 'camcord': 4568, 'sox': 4569, 'stimul': 4570, 'dismal': 4571, 'slimi': 4572, 'foolish': 4573, 'surgeri': 4574, 'guin': 4575, 'steer': 4576, 'glorifi': 4577, 'idol': 4578, 'gere': 4579, 'macho': 4580, 'ariel': 4581, 'filth': 4582, 'cassavet': 4583, 'proport': 4584, 'conquer': 4585, 'strongest': 4586, 'margin': 4587, 'beard': 4588, 'keen': 4589, 'muscl': 4590, 'flag': 4591, 'cush': 4592, 'corman': 4593, 'remad': 4594, 'cow': 4595, 'spinal': 4596, 'mutual': 4597, 'trivia': 4598, 'widescreen': 4599, 'flirt': 4600, 'shield': 4601, 'joker': 4602, 'naschi': 4603, 'cohen': 4604, 'antagonist': 4605, 'rhyme': 4606, 'preced': 4607, 'obligatori': 4608, 'gasp': 4609, 'spree': 4610, 'mount': 4611, '1981': 4612, 'flashi': 4613, 'messi': 4614, 'transplant': 4615, 'perman': 4616, 'assert': 4617, 'faint': 4618, 'astronaut': 4619, '1976': 4620, 'down': 4621, 'harold': 4622, 'radiat': 4623, 'nolt': 4624, 'zane': 4625, 'schlock': 4626, 'fascist': 4627, 'dwarf': 4628, 'frantic': 4629, 'gabl': 4630, 'shred': 4631, 'alvin': 4632, '28': 4633, 'deer': 4634, 'someday': 4635, 'ritchi': 4636, 'inflict': 4637, 'fishburn': 4638, 'barn': 4639, 'vaniti': 4640, 'sensual': 4641, 'danish': 4642, 'departur': 4643, 'resum': 4644, 'hara': 4645, 'interestingli': 4646, 'persuad': 4647, '1945': 4648, 'instruct': 4649, 'mobil': 4650, 'repris': 4651, 'strive': 4652, 'scandal': 4653, 'raj': 4654, 'discern': 4655, 'claud': 4656, 'neurot': 4657, 'info': 4658, 'brush': 4659, 'carey': 4660, 'boob': 4661, 'bitten': 4662, '95': 4663, 'www': 4664, 'off': 4665, 'aborigin': 4666, 'archiv': 4667, 'divin': 4668, 'bachelor': 4669, 'triangl': 4670, 'wield': 4671, 'flock': 4672, 'mol': 4673, 'wendigo': 4674, 'cher': 4675, 'harrison': 4676, 'undermin': 4677, 'timberlak': 4678, 'recit': 4679, 'hug': 4680, 'neill': 4681, 'pixar': 4682, 'dylan': 4683, 'casino': 4684, 'europa': 4685, 'mobster': 4686, 'heartwarm': 4687, 'rot': 4688, 'hilar': 4689, 'helm': 4690, 'senior': 4691, 'clad': 4692, 'anton': 4693, 'biblic': 4694, 'submit': 4695, 'colin': 4696, 'vibrant': 4697, 'dim': 4698, 'banter': 4699, 'dame': 4700, 'kathryn': 4701, 'cb': 4702, 'hapless': 4703, 'miracul': 4704, 'prophet': 4705, 'bate': 4706, 'melissa': 4707, 'carlo': 4708, 'fragil': 4709, 'artwork': 4710, 'loretta': 4711, 'earnest': 4712, 'ish': 4713, 'jade': 4714, 'proclaim': 4715, 'frontier': 4716, 'cliffhang': 4717, 'cycl': 4718, 'luka': 4719, 'pacif': 4720, 'axe': 4721, 'traffic': 4722, 'parson': 4723, 'pickford': 4724, 'holocaust': 4725, 'legitim': 4726, 'bikini': 4727, 'antholog': 4728, 'aris': 4729, 'misfortun': 4730, 'blatantli': 4731, 'http': 4732, 'flavor': 4733, 'foil': 4734, 'articl': 4735, 'akin': 4736, 'mason': 4737, 'wardrob': 4738, 'lui': 4739, 'shepherd': 4740, 'isra': 4741, 'illus': 4742, 'vanessa': 4743, 'seedi': 4744, 'feast': 4745, 'jo': 4746, 'uma': 4747, 'northern': 4748, 'redneck': 4749, 'cerebr': 4750, 'sicken': 4751, 'milo': 4752, 'token': 4753, 'rooki': 4754, 'bondag': 4755, 'eli': 4756, 'estrang': 4757, 'electron': 4758, 'alexandr': 4759, 'nope': 4760, 'vile': 4761, 'winchest': 4762, 'lucil': 4763, 'trier': 4764, 'breakfast': 4765, 'mathieu': 4766, 'marlon': 4767, 'razor': 4768, 'pc': 4769, 'jordan': 4770, 'venom': 4771, 'choke': 4772, 'orphan': 4773, 'static': 4774, 'toronto': 4775, 'fifth': 4776, 'turd': 4777, 'abund': 4778, 'peer': 4779, 'tack': 4780, 'outdat': 4781, 'cartoonish': 4782, 'ideolog': 4783, 'huston': 4784, 'comprehend': 4785, 'charlton': 4786, 'smack': 4787, 'deem': 4788, 'ceremoni': 4789, 'frog': 4790, 'glare': 4791, 'retriev': 4792, 'wrestler': 4793, 'disregard': 4794, 'swept': 4795, 'oppon': 4796, 'highway': 4797, 'nightclub': 4798, 'clinic': 4799, 'dudley': 4800, 'shorter': 4801, 'magician': 4802, 'linear': 4803, 'feminin': 4804, 'affleck': 4805, 'styliz': 4806, 'boyer': 4807, 'knightley': 4808, 'leather': 4809, 'howl': 4810, 'audrey': 4811, 'psych': 4812, 'gunga': 4813, 'gilbert': 4814, 'sleaz': 4815, 'compris': 4816, 'summar': 4817, 'senat': 4818, 'bastard': 4819, 'goldsworthi': 4820, 'boo': 4821, 'evolut': 4822, 'toe': 4823, 'collector': 4824, 'spine': 4825, 'energet': 4826, 'btw': 4827, 'phenomen': 4828, 'greet': 4829, '4th': 4830, 'cemeteri': 4831, 'lifeless': 4832, 'potter': 4833, 'tara': 4834, 'chip': 4835, '1991': 4836, 'deliver': 4837, 'mitch': 4838, 'lavish': 4839, 'durat': 4840, 'monument': 4841, 'bogu': 4842, 'salman': 4843, 'newer': 4844, 'moe': 4845, 'corn': 4846, 'plate': 4847, 'client': 4848, 'whack': 4849, 'conrad': 4850, 'lighter': 4851, 'breakdown': 4852, 'spawn': 4853, 'uniformli': 4854, 'snatch': 4855, 'cuban': 4856, '1994': 4857, 'einstein': 4858, 'braveheart': 4859, 'creek': 4860, 'replay': 4861, 'lex': 4862, 'constitut': 4863, 'pronounc': 4864, 'ie': 4865, 'eleven': 4866, 'randolph': 4867, 'mcqueen': 4868, 'trauma': 4869, 'firmli': 4870, 'outright': 4871, 'bulk': 4872, 'luxuri': 4873, 'clara': 4874, 'spectacl': 4875, 'alleg': 4876, 'occup': 4877, 'neatli': 4878, 'inaccuraci': 4879, 'belli': 4880, '1974': 4881, 'undead': 4882, 'embark': 4883, 'appl': 4884, 'wtf': 4885, 'bori': 4886, 'liu': 4887, 'gilliam': 4888, 'judd': 4889, 'fluid': 4890, 'healthi': 4891, 'undertak': 4892, 'jedi': 4893, 'kazan': 4894, 'jare': 4895, 'cecil': 4896, 'armstrong': 4897, 'capot': 4898, 'evelyn': 4899, 'historian': 4900, 'jule': 4901, 'sorrow': 4902, '1977': 4903, 'kent': 4904, 'ol': 4905, 'jam': 4906, 'nina': 4907, 'signal': 4908, 'tokyo': 4909, 'aussi': 4910, 'decapit': 4911, 'pioneer': 4912, 'roar': 4913, 'vignett': 4914, 'walt': 4915, 'spray': 4916, 'unattract': 4917, 'vain': 4918, 'comprehens': 4919, 'comb': 4920, 'relentless': 4921, 'paula': 4922, 'unsuspect': 4923, 'galaxi': 4924, 'mum': 4925, 'pepper': 4926, 'cape': 4927, 'poker': 4928, 'groan': 4929, 'conan': 4930, 'sacrif': 4931, 'antonio': 4932, 'porter': 4933, 'forgiven': 4934, 'meal': 4935, 'genet': 4936, 'subtli': 4937, 'inaccur': 4938, 'truman': 4939, 'blur': 4940, '1985': 4941, 'bait': 4942, 'ash': 4943, 'congratul': 4944, 'fruit': 4945, 'inclus': 4946, 'sidewalk': 4947, 'kiddi': 4948, 'propheci': 4949, 'miniseri': 4950, 'abound': 4951, 'basket': 4952, 'carmen': 4953, 'palm': 4954, 'goldblum': 4955, 'bsg': 4956, 'rosario': 4957, 'curtain': 4958, 'lauren': 4959, 'lanc': 4960, 'miami': 4961, 'id': 4962, 'knee': 4963, 'spill': 4964, 'monti': 4965, 'profil': 4966, 'vastli': 4967, 'dubiou': 4968, 'detach': 4969, '21st': 4970, 'ingrid': 4971, 'sparkl': 4972, 'turtl': 4973, 'assort': 4974, 'asset': 4975, 'orchestr': 4976, 'jill': 4977, 'motorcycl': 4978, 'verg': 4979, 'optimist': 4980, 'incorrect': 4981, 'reincarn': 4982, 'rapidli': 4983, 'modest': 4984, 'substanti': 4985, 'omin': 4986, 'macabr': 4987, 'growth': 4988, 'weari': 4989, 'weaker': 4990, 'cypher': 4991, 'ghetto': 4992, 'drone': 4993, 'bach': 4994, 'sophi': 4995, 'bravo': 4996, 'masterson': 4997, 'victorian': 4998, 'frontal': 4999}\n"
     ]
    }
   ],
   "source": [
    "print(word_dict)"
   ]
  },
  {
   "cell_type": "markdown",
   "metadata": {},
   "source": [
    "**Question:** What are the five most frequently appearing (tokenized) words in the training set? Does it makes sense that these words appear frequently in the training set?"
   ]
  },
  {
   "cell_type": "markdown",
   "metadata": {},
   "source": [
    "**Answer:**"
   ]
  },
  {
   "cell_type": "code",
   "execution_count": 14,
   "metadata": {},
   "outputs": [
    {
     "name": "stdout",
     "output_type": "stream",
     "text": [
      "The 20 most common words in reviews are:  [('movi', 51695), ('film', 48190), ('one', 27741), ('like', 22799), ('time', 16191), ('good', 15360), ('make', 15207), ('charact', 14178), ('get', 14141), ('see', 14111), ('watch', 13940), ('stori', 13168), ('even', 12906), ('would', 12436), ('realli', 11736), ('well', 11042), ('scene', 10586), ('look', 10051), ('show', 9878), ('much', 9765)]\n"
     ]
    }
   ],
   "source": [
    "# TODO: Use this space to determine the five most frequently appearing words in the training set.\n",
    "word_count = get_word_count(train_X)\n",
    "sorted_words = [(v[0], v[1]) for v in sorted(word_count.items(), key=lambda kv: kv[1], reverse=True)]                \n",
    "print(\"The 20 most common words in reviews are: \", sorted_words[:20])"
   ]
  },
  {
   "cell_type": "markdown",
   "metadata": {},
   "source": [
    "### Save `word_dict`\n",
    "\n",
    "Later on when we construct an endpoint which processes a submitted review we will need to make use of the `word_dict` which we have created. As such, we will save it to a file now for future use."
   ]
  },
  {
   "cell_type": "code",
   "execution_count": 15,
   "metadata": {},
   "outputs": [],
   "source": [
    "data_dir = '../data/pytorch' # The folder we will use for storing data\n",
    "if not os.path.exists(data_dir): # Make sure that the folder exists\n",
    "    os.makedirs(data_dir)"
   ]
  },
  {
   "cell_type": "code",
   "execution_count": 16,
   "metadata": {},
   "outputs": [],
   "source": [
    "with open(os.path.join(data_dir, 'word_dict.pkl'), \"wb\") as f:\n",
    "    pickle.dump(word_dict, f)"
   ]
  },
  {
   "cell_type": "markdown",
   "metadata": {},
   "source": [
    "### Transform the reviews\n",
    "\n",
    "Now that we have our word dictionary which allows us to transform the words appearing in the reviews into integers, it is time to make use of it and convert our reviews to their integer sequence representation, making sure to pad or truncate to a fixed length, which in our case is `500`."
   ]
  },
  {
   "cell_type": "code",
   "execution_count": 17,
   "metadata": {},
   "outputs": [],
   "source": [
    "def convert_and_pad(word_dict, sentence, pad=500):\n",
    "    NOWORD = 0 # We will use 0 to represent the 'no word' category\n",
    "    INFREQ = 1 # and we use 1 to represent the infrequent words, i.e., words not appearing in word_dict\n",
    "    \n",
    "    working_sentence = [NOWORD] * pad\n",
    "    \n",
    "    for word_index, word in enumerate(sentence[:pad]):\n",
    "        if word in word_dict:\n",
    "            working_sentence[word_index] = word_dict[word]\n",
    "        else:\n",
    "            working_sentence[word_index] = INFREQ\n",
    "            \n",
    "    return working_sentence, min(len(sentence), pad)\n",
    "\n",
    "def convert_and_pad_data(word_dict, data, pad=500):\n",
    "    result = []\n",
    "    lengths = []\n",
    "    \n",
    "    for sentence in data:\n",
    "        converted, leng = convert_and_pad(word_dict, sentence, pad)\n",
    "        result.append(converted)\n",
    "        lengths.append(leng)\n",
    "        \n",
    "    return np.array(result), np.array(lengths)"
   ]
  },
  {
   "cell_type": "code",
   "execution_count": 18,
   "metadata": {},
   "outputs": [],
   "source": [
    "train_X, train_X_len = convert_and_pad_data(word_dict, train_X)\n",
    "test_X, test_X_len = convert_and_pad_data(word_dict, test_X)"
   ]
  },
  {
   "cell_type": "markdown",
   "metadata": {},
   "source": [
    "As a quick check to make sure that things are working as intended, check to see what one of the reviews in the training set looks like after having been processeed. Does this look reasonable? What is the length of a review in the training set?"
   ]
  },
  {
   "cell_type": "code",
   "execution_count": 19,
   "metadata": {},
   "outputs": [
    {
     "data": {
      "text/plain": [
       "array([   2,   24,   84,  817,   49,    4,  252,  239,   50,   64, 1456,\n",
       "        106,   21, 2274, 1782,   54,   43,  376,    1,   16,   24, 1143,\n",
       "         18,  515,   19,    5,  263, 1711, 1017, 2713,  648,    1, 1377,\n",
       "       2289,  166,  112,   65,   20, 2240,   35,  109,  281,    2, 2144,\n",
       "         14,   65,    4,  543,  212,  164,    1,   36,   25, 1287,  210,\n",
       "         15,    0,    0,    0,    0,    0,    0,    0,    0,    0,    0,\n",
       "          0,    0,    0,    0,    0,    0,    0,    0,    0,    0,    0,\n",
       "          0,    0,    0,    0,    0,    0,    0,    0,    0,    0,    0,\n",
       "          0,    0,    0,    0,    0,    0,    0,    0,    0,    0,    0,\n",
       "          0,    0,    0,    0,    0,    0,    0,    0,    0,    0,    0,\n",
       "          0,    0,    0,    0,    0,    0,    0,    0,    0,    0,    0,\n",
       "          0,    0,    0,    0,    0,    0,    0,    0,    0,    0,    0,\n",
       "          0,    0,    0,    0,    0,    0,    0,    0,    0,    0,    0,\n",
       "          0,    0,    0,    0,    0,    0,    0,    0,    0,    0,    0,\n",
       "          0,    0,    0,    0,    0,    0,    0,    0,    0,    0,    0,\n",
       "          0,    0,    0,    0,    0,    0,    0,    0,    0,    0,    0,\n",
       "          0,    0,    0,    0,    0,    0,    0,    0,    0,    0,    0,\n",
       "          0,    0,    0,    0,    0,    0,    0,    0,    0,    0,    0,\n",
       "          0,    0,    0,    0,    0,    0,    0,    0,    0,    0,    0,\n",
       "          0,    0,    0,    0,    0,    0,    0,    0,    0,    0,    0,\n",
       "          0,    0,    0,    0,    0,    0,    0,    0,    0,    0,    0,\n",
       "          0,    0,    0,    0,    0,    0,    0,    0,    0,    0,    0,\n",
       "          0,    0,    0,    0,    0,    0,    0,    0,    0,    0,    0,\n",
       "          0,    0,    0,    0,    0,    0,    0,    0,    0,    0,    0,\n",
       "          0,    0,    0,    0,    0,    0,    0,    0,    0,    0,    0,\n",
       "          0,    0,    0,    0,    0,    0,    0,    0,    0,    0,    0,\n",
       "          0,    0,    0,    0,    0,    0,    0,    0,    0,    0,    0,\n",
       "          0,    0,    0,    0,    0,    0,    0,    0,    0,    0,    0,\n",
       "          0,    0,    0,    0,    0,    0,    0,    0,    0,    0,    0,\n",
       "          0,    0,    0,    0,    0,    0,    0,    0,    0,    0,    0,\n",
       "          0,    0,    0,    0,    0,    0,    0,    0,    0,    0,    0,\n",
       "          0,    0,    0,    0,    0,    0,    0,    0,    0,    0,    0,\n",
       "          0,    0,    0,    0,    0,    0,    0,    0,    0,    0,    0,\n",
       "          0,    0,    0,    0,    0,    0,    0,    0,    0,    0,    0,\n",
       "          0,    0,    0,    0,    0,    0,    0,    0,    0,    0,    0,\n",
       "          0,    0,    0,    0,    0,    0,    0,    0,    0,    0,    0,\n",
       "          0,    0,    0,    0,    0,    0,    0,    0,    0,    0,    0,\n",
       "          0,    0,    0,    0,    0,    0,    0,    0,    0,    0,    0,\n",
       "          0,    0,    0,    0,    0,    0,    0,    0,    0,    0,    0,\n",
       "          0,    0,    0,    0,    0,    0,    0,    0,    0,    0,    0,\n",
       "          0,    0,    0,    0,    0,    0,    0,    0,    0,    0,    0,\n",
       "          0,    0,    0,    0,    0,    0,    0,    0,    0,    0,    0,\n",
       "          0,    0,    0,    0,    0,    0,    0,    0,    0,    0,    0,\n",
       "          0,    0,    0,    0,    0,    0,    0,    0,    0,    0,    0,\n",
       "          0,    0,    0,    0,    0,    0,    0,    0,    0,    0,    0,\n",
       "          0,    0,    0,    0,    0])"
      ]
     },
     "execution_count": 19,
     "metadata": {},
     "output_type": "execute_result"
    }
   ],
   "source": [
    "# Use this cell to examine one of the processed reviews to make sure everything is working as intended.\n",
    "train_X[121]"
   ]
  },
  {
   "cell_type": "markdown",
   "metadata": {},
   "source": [
    "**Question:** In the cells above we use the `preprocess_data` and `convert_and_pad_data` methods to process both the training and testing set. Why or why not might this be a problem?"
   ]
  },
  {
   "cell_type": "markdown",
   "metadata": {},
   "source": [
    "**Answer:**\n",
    "To deal with both short and long reviews. we can truncate or pad all the reviews to a specific length. For shorter than 500 words it will pad with 0's .For Review longer than 500 we truncate to first 500 words."
   ]
  },
  {
   "cell_type": "markdown",
   "metadata": {},
   "source": [
    "## Step 3: Upload the data to S3\n",
    "\n",
    "As in the XGBoost notebook, we will need to upload the training dataset to S3 in order for our training code to access it. For now we will save it locally and we will upload to S3 later on.\n",
    "\n",
    "### Save the processed training dataset locally\n",
    "\n",
    "It is important to note the format of the data that we are saving as we will need to know it when we write the training code. In our case, each row of the dataset has the form `label`, `length`, `review[500]` where `review[500]` is a sequence of `500` integers representing the words in the review."
   ]
  },
  {
   "cell_type": "code",
   "execution_count": 20,
   "metadata": {},
   "outputs": [],
   "source": [
    "import pandas as pd\n",
    "    \n",
    "pd.concat([pd.DataFrame(train_y), pd.DataFrame(train_X_len), pd.DataFrame(train_X)], axis=1) \\\n",
    "        .to_csv(os.path.join(data_dir, 'train.csv'), header=False, index=False)"
   ]
  },
  {
   "cell_type": "markdown",
   "metadata": {},
   "source": [
    "### Uploading the training data\n",
    "\n",
    "\n",
    "Next, we need to upload the training data to the SageMaker default S3 bucket so that we can provide access to it while training our model."
   ]
  },
  {
   "cell_type": "code",
   "execution_count": 21,
   "metadata": {},
   "outputs": [],
   "source": [
    "import sagemaker\n",
    "\n",
    "sagemaker_session = sagemaker.Session()\n",
    "\n",
    "bucket = sagemaker_session.default_bucket()\n",
    "prefix = 'sagemaker/sentiment_rnn'\n",
    "\n",
    "role = sagemaker.get_execution_role()"
   ]
  },
  {
   "cell_type": "code",
   "execution_count": 22,
   "metadata": {},
   "outputs": [],
   "source": [
    "input_data = sagemaker_session.upload_data(path=data_dir, bucket=bucket, key_prefix=prefix)"
   ]
  },
  {
   "cell_type": "markdown",
   "metadata": {},
   "source": [
    "**NOTE:** The cell above uploads the entire contents of our data directory. This includes the `word_dict.pkl` file. This is fortunate as we will need this later on when we create an endpoint that accepts an arbitrary review. For now, we will just take note of the fact that it resides in the data directory (and so also in the S3 training bucket) and that we will need to make sure it gets saved in the model directory."
   ]
  },
  {
   "cell_type": "markdown",
   "metadata": {},
   "source": [
    "## Step 4: Build and Train the PyTorch Model\n",
    "\n",
    "In the XGBoost notebook we discussed what a model is in the SageMaker framework. In particular, a model comprises three objects\n",
    "\n",
    " - Model Artifacts,\n",
    " - Training Code, and\n",
    " - Inference Code,\n",
    " \n",
    "each of which interact with one another. In the XGBoost example we used training and inference code that was provided by Amazon. Here we will still be using containers provided by Amazon with the added benefit of being able to include our own custom code.\n",
    "\n",
    "We will start by implementing our own neural network in PyTorch along with a training script. For the purposes of this project we have provided the necessary model object in the `model.py` file, inside of the `train` folder. You can see the provided implementation by running the cell below."
   ]
  },
  {
   "cell_type": "code",
   "execution_count": 23,
   "metadata": {},
   "outputs": [
    {
     "name": "stdout",
     "output_type": "stream",
     "text": [
      "\u001b[34mimport\u001b[39;49;00m \u001b[04m\u001b[36mtorch\u001b[39;49;00m\u001b[04m\u001b[36m.\u001b[39;49;00m\u001b[04m\u001b[36mnn\u001b[39;49;00m \u001b[34mas\u001b[39;49;00m \u001b[04m\u001b[36mnn\u001b[39;49;00m\r\n",
      "\r\n",
      "\u001b[34mclass\u001b[39;49;00m \u001b[04m\u001b[32mLSTMClassifier\u001b[39;49;00m(nn.Module):\r\n",
      "    \u001b[33m\"\"\"\u001b[39;49;00m\r\n",
      "\u001b[33m    This is the simple RNN model we will be using to perform Sentiment Analysis.\u001b[39;49;00m\r\n",
      "\u001b[33m    \"\"\"\u001b[39;49;00m\r\n",
      "\r\n",
      "    \u001b[34mdef\u001b[39;49;00m \u001b[32m__init__\u001b[39;49;00m(\u001b[36mself\u001b[39;49;00m, embedding_dim, hidden_dim, vocab_size):\r\n",
      "        \u001b[33m\"\"\"\u001b[39;49;00m\r\n",
      "\u001b[33m        Initialize the model by settingg up the various layers.\u001b[39;49;00m\r\n",
      "\u001b[33m        \"\"\"\u001b[39;49;00m\r\n",
      "        \u001b[36msuper\u001b[39;49;00m(LSTMClassifier, \u001b[36mself\u001b[39;49;00m).\u001b[32m__init__\u001b[39;49;00m()\r\n",
      "\r\n",
      "        \u001b[36mself\u001b[39;49;00m.embedding = nn.Embedding(vocab_size, embedding_dim, padding_idx=\u001b[34m0\u001b[39;49;00m)\r\n",
      "        \u001b[36mself\u001b[39;49;00m.lstm = nn.LSTM(embedding_dim, hidden_dim)\r\n",
      "        \u001b[36mself\u001b[39;49;00m.dense = nn.Linear(in_features=hidden_dim, out_features=\u001b[34m1\u001b[39;49;00m)\r\n",
      "        \u001b[36mself\u001b[39;49;00m.sig = nn.Sigmoid()\r\n",
      "        \r\n",
      "        \u001b[36mself\u001b[39;49;00m.word_dict = \u001b[34mNone\u001b[39;49;00m\r\n",
      "\r\n",
      "    \u001b[34mdef\u001b[39;49;00m \u001b[32mforward\u001b[39;49;00m(\u001b[36mself\u001b[39;49;00m, x):\r\n",
      "        \u001b[33m\"\"\"\u001b[39;49;00m\r\n",
      "\u001b[33m        Perform a forward pass of our model on some input.\u001b[39;49;00m\r\n",
      "\u001b[33m        \"\"\"\u001b[39;49;00m\r\n",
      "        x = x.t()\r\n",
      "        lengths = x[\u001b[34m0\u001b[39;49;00m,:]\r\n",
      "        reviews = x[\u001b[34m1\u001b[39;49;00m:,:]\r\n",
      "        embeds = \u001b[36mself\u001b[39;49;00m.embedding(reviews)\r\n",
      "        lstm_out, _ = \u001b[36mself\u001b[39;49;00m.lstm(embeds)\r\n",
      "        out = \u001b[36mself\u001b[39;49;00m.dense(lstm_out)\r\n",
      "        out = out[lengths - \u001b[34m1\u001b[39;49;00m, \u001b[36mrange\u001b[39;49;00m(\u001b[36mlen\u001b[39;49;00m(lengths))]\r\n",
      "        \u001b[34mreturn\u001b[39;49;00m \u001b[36mself\u001b[39;49;00m.sig(out.squeeze())\r\n"
     ]
    }
   ],
   "source": [
    "!pygmentize train/model.py"
   ]
  },
  {
   "cell_type": "markdown",
   "metadata": {},
   "source": [
    "The important takeaway from the implementation provided is that there are three parameters that we may wish to tweak to improve the performance of our model. These are the embedding dimension, the hidden dimension and the size of the vocabulary. We will likely want to make these parameters configurable in the training script so that if we wish to modify them we do not need to modify the script itself. We will see how to do this later on. To start we will write some of the training code in the notebook so that we can more easily diagnose any issues that arise.\n",
    "\n",
    "First we will load a small portion of the training data set to use as a sample. It would be very time consuming to try and train the model completely in the notebook as we do not have access to a gpu and the compute instance that we are using is not particularly powerful. However, we can work on a small bit of the data to get a feel for how our training script is behaving."
   ]
  },
  {
   "cell_type": "code",
   "execution_count": 24,
   "metadata": {},
   "outputs": [],
   "source": [
    "import torch\n",
    "import torch.utils.data\n",
    "\n",
    "# Read in only the first 250 rows\n",
    "train_sample = pd.read_csv(os.path.join(data_dir, 'train.csv'), header=None, names=None, nrows=250)\n",
    "\n",
    "# Turn the input pandas dataframe into tensors\n",
    "train_sample_y = torch.from_numpy(train_sample[[0]].values).float().squeeze()\n",
    "train_sample_X = torch.from_numpy(train_sample.drop([0], axis=1).values).long()\n",
    "\n",
    "# Build the dataset\n",
    "train_sample_ds = torch.utils.data.TensorDataset(train_sample_X, train_sample_y)\n",
    "# Build the dataloader\n",
    "train_sample_dl = torch.utils.data.DataLoader(train_sample_ds, batch_size=50)"
   ]
  },
  {
   "cell_type": "markdown",
   "metadata": {},
   "source": [
    "### (TODO) Writing the training method\n",
    "\n",
    "Next we need to write the training code itself. This should be very similar to training methods that you have written before to train PyTorch models. We will leave any difficult aspects such as model saving / loading and parameter loading until a little later."
   ]
  },
  {
   "cell_type": "code",
   "execution_count": 25,
   "metadata": {},
   "outputs": [],
   "source": [
    "def train(model, train_loader, epochs, optimizer, loss_fn, device):\n",
    "    for epoch in range(1, epochs + 1):\n",
    "        model.train()\n",
    "        total_loss = 0\n",
    "        for batch in train_loader:         \n",
    "            batch_X, batch_y = batch\n",
    "            \n",
    "            batch_X = batch_X.to(device)\n",
    "            batch_y = batch_y.to(device)\n",
    "            \n",
    "            # TODO: Complete this train method to train the model provided.\n",
    "            optimizer.zero_grad()\n",
    "            output = model.forward(batch_X)\n",
    "            loss = loss_fn(output, batch_y)\n",
    "            loss.backward()\n",
    "            \n",
    "            optimizer.step()\n",
    "            \n",
    "            total_loss += loss.data.item()\n",
    "        print(\"Epoch: {}, BCELoss: {}\".format(epoch, total_loss / len(train_loader)))"
   ]
  },
  {
   "cell_type": "markdown",
   "metadata": {},
   "source": [
    "Supposing we have the training method above, we will test that it is working by writing a bit of code in the notebook that executes our training method on the small sample training set that we loaded earlier. The reason for doing this in the notebook is so that we have an opportunity to fix any errors that arise early when they are easier to diagnose."
   ]
  },
  {
   "cell_type": "code",
   "execution_count": 26,
   "metadata": {},
   "outputs": [
    {
     "name": "stdout",
     "output_type": "stream",
     "text": [
      "Epoch: 1, BCELoss: 0.6895722508430481\n",
      "Epoch: 2, BCELoss: 0.6793851137161255\n",
      "Epoch: 3, BCELoss: 0.6696385145187378\n",
      "Epoch: 4, BCELoss: 0.6576470494270324\n",
      "Epoch: 5, BCELoss: 0.6409895539283752\n"
     ]
    }
   ],
   "source": [
    "import torch.optim as optim\n",
    "from train.model import LSTMClassifier\n",
    "\n",
    "device = torch.device(\"cuda\" if torch.cuda.is_available() else \"cpu\")\n",
    "model = LSTMClassifier(32, 100, 5000).to(device)\n",
    "optimizer = optim.Adam(model.parameters())\n",
    "loss_fn = torch.nn.BCELoss()\n",
    "\n",
    "train(model, train_sample_dl, 5, optimizer, loss_fn, device)"
   ]
  },
  {
   "cell_type": "markdown",
   "metadata": {},
   "source": [
    "In order to construct a PyTorch model using SageMaker we must provide SageMaker with a training script. We may optionally include a directory which will be copied to the container and from which our training code will be run. When the training container is executed it will check the uploaded directory (if there is one) for a `requirements.txt` file and install any required Python libraries, after which the training script will be run."
   ]
  },
  {
   "cell_type": "markdown",
   "metadata": {},
   "source": [
    "### (TODO) Training the model\n",
    "\n",
    "When a PyTorch model is constructed in SageMaker, an entry point must be specified. This is the Python file which will be executed when the model is trained. Inside of the `train` directory is a file called `train.py` which has been provided and which contains most of the necessary code to train our model. The only thing that is missing is the implementation of the `train()` method which you wrote earlier in this notebook.\n",
    "\n",
    "**TODO**: Copy the `train()` method written above and paste it into the `train/train.py` file where required.\n",
    "\n",
    "The way that SageMaker passes hyperparameters to the training script is by way of arguments. These arguments can then be parsed and used in the training script. To see how this is done take a look at the provided `train/train.py` file."
   ]
  },
  {
   "cell_type": "code",
   "execution_count": 27,
   "metadata": {},
   "outputs": [],
   "source": [
    "from sagemaker.pytorch import PyTorch\n",
    "\n",
    "estimator = PyTorch(entry_point=\"train.py\",\n",
    "                    source_dir=\"train\",\n",
    "                    role=role,\n",
    "                    framework_version='0.4.0',\n",
    "                    train_instance_count=1,\n",
    "                    train_instance_type='ml.p2.xlarge',\n",
    "                    hyperparameters={\n",
    "                        'epochs': 8,\n",
    "                        'hidden_dim': 200,\n",
    "                    })"
   ]
  },
  {
   "cell_type": "code",
   "execution_count": 28,
   "metadata": {},
   "outputs": [
    {
     "name": "stderr",
     "output_type": "stream",
     "text": [
      "'create_image_uri' will be deprecated in favor of 'ImageURIProvider' class in SageMaker Python SDK v2.\n",
      "'s3_input' class will be renamed to 'TrainingInput' in SageMaker Python SDK v2.\n",
      "'create_image_uri' will be deprecated in favor of 'ImageURIProvider' class in SageMaker Python SDK v2.\n"
     ]
    },
    {
     "name": "stdout",
     "output_type": "stream",
     "text": [
      "2020-06-22 14:44:20 Starting - Starting the training job...\n",
      "2020-06-22 14:44:22 Starting - Launching requested ML instances......\n",
      "2020-06-22 14:45:26 Starting - Preparing the instances for training......\n",
      "2020-06-22 14:46:32 Downloading - Downloading input data...\n",
      "2020-06-22 14:47:10 Training - Downloading the training image...\n",
      "2020-06-22 14:47:38 Training - Training image download completed. Training in progress.\u001b[34mbash: cannot set terminal process group (-1): Inappropriate ioctl for device\u001b[0m\n",
      "\u001b[34mbash: no job control in this shell\u001b[0m\n",
      "\u001b[34m2020-06-22 14:47:39,571 sagemaker-containers INFO     Imported framework sagemaker_pytorch_container.training\u001b[0m\n",
      "\u001b[34m2020-06-22 14:47:39,596 sagemaker_pytorch_container.training INFO     Block until all host DNS lookups succeed.\u001b[0m\n",
      "\u001b[34m2020-06-22 14:47:41,066 sagemaker_pytorch_container.training INFO     Invoking user training script.\u001b[0m\n",
      "\u001b[34m2020-06-22 14:47:41,305 sagemaker-containers INFO     Module train does not provide a setup.py. \u001b[0m\n",
      "\u001b[34mGenerating setup.py\u001b[0m\n",
      "\u001b[34m2020-06-22 14:47:41,305 sagemaker-containers INFO     Generating setup.cfg\u001b[0m\n",
      "\u001b[34m2020-06-22 14:47:41,305 sagemaker-containers INFO     Generating MANIFEST.in\u001b[0m\n",
      "\u001b[34m2020-06-22 14:47:41,305 sagemaker-containers INFO     Installing module with the following command:\u001b[0m\n",
      "\u001b[34m/usr/bin/python -m pip install -U . -r requirements.txt\u001b[0m\n",
      "\u001b[34mProcessing /opt/ml/code\u001b[0m\n",
      "\u001b[34mCollecting pandas (from -r requirements.txt (line 1))\u001b[0m\n",
      "\u001b[34m  Downloading https://files.pythonhosted.org/packages/74/24/0cdbf8907e1e3bc5a8da03345c23cbed7044330bb8f73bb12e711a640a00/pandas-0.24.2-cp35-cp35m-manylinux1_x86_64.whl (10.0MB)\u001b[0m\n",
      "\u001b[34mCollecting numpy (from -r requirements.txt (line 2))\u001b[0m\n",
      "\u001b[34m  Downloading https://files.pythonhosted.org/packages/b5/36/88723426b4ff576809fec7d73594fe17a35c27f8d01f93637637a29ae25b/numpy-1.18.5-cp35-cp35m-manylinux1_x86_64.whl (19.9MB)\u001b[0m\n",
      "\u001b[34mCollecting nltk (from -r requirements.txt (line 3))\n",
      "  Downloading https://files.pythonhosted.org/packages/92/75/ce35194d8e3022203cca0d2f896dbb88689f9b3fce8e9f9cff942913519d/nltk-3.5.zip (1.4MB)\u001b[0m\n",
      "\u001b[34mCollecting beautifulsoup4 (from -r requirements.txt (line 4))\n",
      "  Downloading https://files.pythonhosted.org/packages/66/25/ff030e2437265616a1e9b25ccc864e0371a0bc3adb7c5a404fd661c6f4f6/beautifulsoup4-4.9.1-py3-none-any.whl (115kB)\u001b[0m\n",
      "\u001b[34mCollecting html5lib (from -r requirements.txt (line 5))\n",
      "  Downloading https://files.pythonhosted.org/packages/a5/62/bbd2be0e7943ec8504b517e62bab011b4946e1258842bc159e5dfde15b96/html5lib-1.0.1-py2.py3-none-any.whl (117kB)\u001b[0m\n",
      "\u001b[34mCollecting pytz>=2011k (from pandas->-r requirements.txt (line 1))\n",
      "  Downloading https://files.pythonhosted.org/packages/4f/a4/879454d49688e2fad93e59d7d4efda580b783c745fd2ec2a3adf87b0808d/pytz-2020.1-py2.py3-none-any.whl (510kB)\u001b[0m\n",
      "\u001b[34mRequirement already satisfied, skipping upgrade: python-dateutil>=2.5.0 in /usr/local/lib/python3.5/dist-packages (from pandas->-r requirements.txt (line 1)) (2.7.5)\u001b[0m\n",
      "\u001b[34mRequirement already satisfied, skipping upgrade: click in /usr/local/lib/python3.5/dist-packages (from nltk->-r requirements.txt (line 3)) (7.0)\u001b[0m\n",
      "\u001b[34mCollecting joblib (from nltk->-r requirements.txt (line 3))\n",
      "  Downloading https://files.pythonhosted.org/packages/28/5c/cf6a2b65a321c4a209efcdf64c2689efae2cb62661f8f6f4bb28547cf1bf/joblib-0.14.1-py2.py3-none-any.whl (294kB)\u001b[0m\n",
      "\u001b[34mCollecting regex (from nltk->-r requirements.txt (line 3))\u001b[0m\n",
      "\u001b[34m  Downloading https://files.pythonhosted.org/packages/b8/7b/01510a6229c2176425bda54d15fba05a4b3df169b87265b008480261d2f9/regex-2020.6.8.tar.gz (690kB)\u001b[0m\n",
      "\u001b[34mCollecting tqdm (from nltk->-r requirements.txt (line 3))\n",
      "  Downloading https://files.pythonhosted.org/packages/f3/76/4697ce203a3d42b2ead61127b35e5fcc26bba9a35c03b32a2bd342a4c869/tqdm-4.46.1-py2.py3-none-any.whl (63kB)\u001b[0m\n",
      "\u001b[34mCollecting soupsieve>1.2 (from beautifulsoup4->-r requirements.txt (line 4))\n",
      "  Downloading https://files.pythonhosted.org/packages/6f/8f/457f4a5390eeae1cc3aeab89deb7724c965be841ffca6cfca9197482e470/soupsieve-2.0.1-py3-none-any.whl\u001b[0m\n",
      "\u001b[34mRequirement already satisfied, skipping upgrade: six>=1.9 in /usr/local/lib/python3.5/dist-packages (from html5lib->-r requirements.txt (line 5)) (1.11.0)\u001b[0m\n",
      "\u001b[34mCollecting webencodings (from html5lib->-r requirements.txt (line 5))\n",
      "  Downloading https://files.pythonhosted.org/packages/f4/24/2a3e3df732393fed8b3ebf2ec078f05546de641fe1b667ee316ec1dcf3b7/webencodings-0.5.1-py2.py3-none-any.whl\u001b[0m\n",
      "\u001b[34mBuilding wheels for collected packages: nltk, train, regex\n",
      "  Running setup.py bdist_wheel for nltk: started\u001b[0m\n",
      "\u001b[34m  Running setup.py bdist_wheel for nltk: finished with status 'done'\n",
      "  Stored in directory: /root/.cache/pip/wheels/ae/8c/3f/b1fe0ba04555b08b57ab52ab7f86023639a526d8bc8d384306\n",
      "  Running setup.py bdist_wheel for train: started\n",
      "  Running setup.py bdist_wheel for train: finished with status 'done'\n",
      "  Stored in directory: /tmp/pip-ephem-wheel-cache-03wekdej/wheels/35/24/16/37574d11bf9bde50616c67372a334f94fa8356bc7164af8ca3\n",
      "  Running setup.py bdist_wheel for regex: started\u001b[0m\n",
      "\u001b[34m  Running setup.py bdist_wheel for regex: finished with status 'done'\n",
      "  Stored in directory: /root/.cache/pip/wheels/9c/e2/cf/246ad8c87bcdf3cba1ec95fa89bc205c9037aa8f4d2e26fdad\u001b[0m\n",
      "\u001b[34mSuccessfully built nltk train regex\u001b[0m\n",
      "\u001b[34mInstalling collected packages: numpy, pytz, pandas, joblib, regex, tqdm, nltk, soupsieve, beautifulsoup4, webencodings, html5lib, train\n",
      "  Found existing installation: numpy 1.15.4\n",
      "    Uninstalling numpy-1.15.4:\u001b[0m\n",
      "\u001b[34m      Successfully uninstalled numpy-1.15.4\u001b[0m\n",
      "\u001b[34mSuccessfully installed beautifulsoup4-4.9.1 html5lib-1.0.1 joblib-0.14.1 nltk-3.5 numpy-1.18.5 pandas-0.24.2 pytz-2020.1 regex-2020.6.8 soupsieve-2.0.1 tqdm-4.46.1 train-1.0.0 webencodings-0.5.1\u001b[0m\n",
      "\u001b[34mYou are using pip version 18.1, however version 20.2b1 is available.\u001b[0m\n",
      "\u001b[34mYou should consider upgrading via the 'pip install --upgrade pip' command.\u001b[0m\n",
      "\u001b[34m2020-06-22 14:48:04,310 sagemaker-containers INFO     Invoking user script\n",
      "\u001b[0m\n",
      "\u001b[34mTraining Env:\n",
      "\u001b[0m\n",
      "\u001b[34m{\n",
      "    \"job_name\": \"sagemaker-pytorch-2020-06-22-14-44-19-709\",\n",
      "    \"channel_input_dirs\": {\n",
      "        \"training\": \"/opt/ml/input/data/training\"\n",
      "    },\n",
      "    \"hyperparameters\": {\n",
      "        \"hidden_dim\": 200,\n",
      "        \"epochs\": 8\n",
      "    },\n",
      "    \"output_intermediate_dir\": \"/opt/ml/output/intermediate\",\n",
      "    \"resource_config\": {\n",
      "        \"network_interface_name\": \"eth0\",\n",
      "        \"hosts\": [\n",
      "            \"algo-1\"\n",
      "        ],\n",
      "        \"current_host\": \"algo-1\"\n",
      "    },\n",
      "    \"hosts\": [\n",
      "        \"algo-1\"\n",
      "    ],\n",
      "    \"module_name\": \"train\",\n",
      "    \"input_dir\": \"/opt/ml/input\",\n",
      "    \"output_dir\": \"/opt/ml/output\",\n",
      "    \"module_dir\": \"s3://sagemaker-us-east-2-148256496712/sagemaker-pytorch-2020-06-22-14-44-19-709/source/sourcedir.tar.gz\",\n",
      "    \"num_gpus\": 1,\n",
      "    \"input_config_dir\": \"/opt/ml/input/config\",\n",
      "    \"num_cpus\": 4,\n",
      "    \"user_entry_point\": \"train.py\",\n",
      "    \"output_data_dir\": \"/opt/ml/output/data\",\n",
      "    \"network_interface_name\": \"eth0\",\n",
      "    \"current_host\": \"algo-1\",\n",
      "    \"additional_framework_parameters\": {},\n",
      "    \"framework_module\": \"sagemaker_pytorch_container.training:main\",\n",
      "    \"log_level\": 20,\n",
      "    \"input_data_config\": {\n",
      "        \"training\": {\n",
      "            \"RecordWrapperType\": \"None\",\n",
      "            \"S3DistributionType\": \"FullyReplicated\",\n",
      "            \"TrainingInputMode\": \"File\"\n",
      "        }\n",
      "    },\n",
      "    \"model_dir\": \"/opt/ml/model\"\u001b[0m\n",
      "\u001b[34m}\n",
      "\u001b[0m\n",
      "\u001b[34mEnvironment variables:\n",
      "\u001b[0m\n",
      "\u001b[34mSM_CHANNELS=[\"training\"]\u001b[0m\n",
      "\u001b[34mSM_INPUT_DIR=/opt/ml/input\u001b[0m\n",
      "\u001b[34mSM_RESOURCE_CONFIG={\"current_host\":\"algo-1\",\"hosts\":[\"algo-1\"],\"network_interface_name\":\"eth0\"}\u001b[0m\n",
      "\u001b[34mSM_HP_HIDDEN_DIM=200\u001b[0m\n",
      "\u001b[34mSM_USER_ARGS=[\"--epochs\",\"8\",\"--hidden_dim\",\"200\"]\u001b[0m\n",
      "\u001b[34mSM_FRAMEWORK_PARAMS={}\u001b[0m\n",
      "\u001b[34mSM_HPS={\"epochs\":8,\"hidden_dim\":200}\u001b[0m\n",
      "\u001b[34mSM_CURRENT_HOST=algo-1\u001b[0m\n",
      "\u001b[34mSM_USER_ENTRY_POINT=train.py\u001b[0m\n",
      "\u001b[34mSM_NUM_GPUS=1\u001b[0m\n",
      "\u001b[34mSM_OUTPUT_INTERMEDIATE_DIR=/opt/ml/output/intermediate\u001b[0m\n",
      "\u001b[34mSM_OUTPUT_DIR=/opt/ml/output\u001b[0m\n",
      "\u001b[34mSM_NUM_CPUS=4\u001b[0m\n",
      "\u001b[34mSM_TRAINING_ENV={\"additional_framework_parameters\":{},\"channel_input_dirs\":{\"training\":\"/opt/ml/input/data/training\"},\"current_host\":\"algo-1\",\"framework_module\":\"sagemaker_pytorch_container.training:main\",\"hosts\":[\"algo-1\"],\"hyperparameters\":{\"epochs\":8,\"hidden_dim\":200},\"input_config_dir\":\"/opt/ml/input/config\",\"input_data_config\":{\"training\":{\"RecordWrapperType\":\"None\",\"S3DistributionType\":\"FullyReplicated\",\"TrainingInputMode\":\"File\"}},\"input_dir\":\"/opt/ml/input\",\"job_name\":\"sagemaker-pytorch-2020-06-22-14-44-19-709\",\"log_level\":20,\"model_dir\":\"/opt/ml/model\",\"module_dir\":\"s3://sagemaker-us-east-2-148256496712/sagemaker-pytorch-2020-06-22-14-44-19-709/source/sourcedir.tar.gz\",\"module_name\":\"train\",\"network_interface_name\":\"eth0\",\"num_cpus\":4,\"num_gpus\":1,\"output_data_dir\":\"/opt/ml/output/data\",\"output_dir\":\"/opt/ml/output\",\"output_intermediate_dir\":\"/opt/ml/output/intermediate\",\"resource_config\":{\"current_host\":\"algo-1\",\"hosts\":[\"algo-1\"],\"network_interface_name\":\"eth0\"},\"user_entry_point\":\"train.py\"}\u001b[0m\n",
      "\u001b[34mSM_MODEL_DIR=/opt/ml/model\u001b[0m\n",
      "\u001b[34mSM_LOG_LEVEL=20\u001b[0m\n",
      "\u001b[34mSM_HOSTS=[\"algo-1\"]\u001b[0m\n",
      "\u001b[34mPYTHONPATH=/usr/local/bin:/usr/lib/python35.zip:/usr/lib/python3.5:/usr/lib/python3.5/plat-x86_64-linux-gnu:/usr/lib/python3.5/lib-dynload:/usr/local/lib/python3.5/dist-packages:/usr/lib/python3/dist-packages\u001b[0m\n",
      "\u001b[34mSM_INPUT_DATA_CONFIG={\"training\":{\"RecordWrapperType\":\"None\",\"S3DistributionType\":\"FullyReplicated\",\"TrainingInputMode\":\"File\"}}\u001b[0m\n",
      "\u001b[34mSM_FRAMEWORK_MODULE=sagemaker_pytorch_container.training:main\u001b[0m\n",
      "\u001b[34mSM_MODULE_DIR=s3://sagemaker-us-east-2-148256496712/sagemaker-pytorch-2020-06-22-14-44-19-709/source/sourcedir.tar.gz\u001b[0m\n",
      "\u001b[34mSM_INPUT_CONFIG_DIR=/opt/ml/input/config\u001b[0m\n",
      "\u001b[34mSM_MODULE_NAME=train\u001b[0m\n",
      "\u001b[34mSM_CHANNEL_TRAINING=/opt/ml/input/data/training\u001b[0m\n",
      "\u001b[34mSM_OUTPUT_DATA_DIR=/opt/ml/output/data\u001b[0m\n",
      "\u001b[34mSM_HP_EPOCHS=8\u001b[0m\n",
      "\u001b[34mSM_NETWORK_INTERFACE_NAME=eth0\n",
      "\u001b[0m\n",
      "\u001b[34mInvoking script with the following command:\n",
      "\u001b[0m\n",
      "\u001b[34m/usr/bin/python -m train --epochs 8 --hidden_dim 200\n",
      "\n",
      "\u001b[0m\n",
      "\u001b[34mUsing device cuda.\u001b[0m\n",
      "\u001b[34mGet train data loader.\u001b[0m\n"
     ]
    },
    {
     "name": "stdout",
     "output_type": "stream",
     "text": [
      "\u001b[34mModel loaded with embedding_dim 32, hidden_dim 200, vocab_size 5000.\u001b[0m\n",
      "\u001b[34mEpoch: 1, BCELoss: 0.6686930911881583\u001b[0m\n",
      "\u001b[34mEpoch: 2, BCELoss: 0.6055754350156201\u001b[0m\n",
      "\u001b[34mEpoch: 3, BCELoss: 0.512694101552574\u001b[0m\n",
      "\u001b[34mEpoch: 4, BCELoss: 0.438328068475334\u001b[0m\n",
      "\u001b[34mEpoch: 5, BCELoss: 0.3817053844734114\u001b[0m\n",
      "\u001b[34mEpoch: 6, BCELoss: 0.39455648222748113\u001b[0m\n",
      "\u001b[34mEpoch: 7, BCELoss: 0.38714588600762034\u001b[0m\n",
      "\u001b[34mEpoch: 8, BCELoss: 0.31445211537030276\u001b[0m\n",
      "\u001b[34m2020-06-22 14:50:29,151 sagemaker-containers INFO     Reporting training SUCCESS\u001b[0m\n",
      "\n",
      "2020-06-22 14:50:37 Uploading - Uploading generated training model\n",
      "2020-06-22 14:50:37 Completed - Training job completed\n",
      "Training seconds: 245\n",
      "Billable seconds: 245\n"
     ]
    }
   ],
   "source": [
    "estimator.fit({'training': input_data})"
   ]
  },
  {
   "cell_type": "markdown",
   "metadata": {},
   "source": [
    "## Step 5: Testing the model\n",
    "\n",
    "As mentioned at the top of this notebook, we will be testing this model by first deploying it and then sending the testing data to the deployed endpoint. We will do this so that we can make sure that the deployed model is working correctly.\n",
    "\n",
    "## Step 6: Deploy the model for testing\n",
    "\n",
    "Now that we have trained our model, we would like to test it to see how it performs. Currently our model takes input of the form `review_length, review[500]` where `review[500]` is a sequence of `500` integers which describe the words present in the review, encoded using `word_dict`. Fortunately for us, SageMaker provides built-in inference code for models with simple inputs such as this.\n",
    "\n",
    "There is one thing that we need to provide, however, and that is a function which loads the saved model. This function must be called `model_fn()` and takes as its only parameter a path to the directory where the model artifacts are stored. This function must also be present in the python file which we specified as the entry point. In our case the model loading function has been provided and so no changes need to be made.\n",
    "\n",
    "**NOTE**: When the built-in inference code is run it must import the `model_fn()` method from the `train.py` file. This is why the training code is wrapped in a main guard ( ie, `if __name__ == '__main__':` )\n",
    "\n",
    "Since we don't need to change anything in the code that was uploaded during training, we can simply deploy the current model as-is.\n",
    "\n",
    "**NOTE:** When deploying a model you are asking SageMaker to launch an compute instance that will wait for data to be sent to it. As a result, this compute instance will continue to run until *you* shut it down. This is important to know since the cost of a deployed endpoint depends on how long it has been running for.\n",
    "\n",
    "In other words **If you are no longer using a deployed endpoint, shut it down!**\n",
    "\n",
    "**TODO:** Deploy the trained model."
   ]
  },
  {
   "cell_type": "code",
   "execution_count": 29,
   "metadata": {},
   "outputs": [
    {
     "name": "stderr",
     "output_type": "stream",
     "text": [
      "Parameter image will be renamed to image_uri in SageMaker Python SDK v2.\n",
      "'create_image_uri' will be deprecated in favor of 'ImageURIProvider' class in SageMaker Python SDK v2.\n"
     ]
    },
    {
     "name": "stdout",
     "output_type": "stream",
     "text": [
      "---------------!"
     ]
    }
   ],
   "source": [
    "# TODO: Deploy the trained model\n",
    "predictor = estimator.deploy(initial_instance_count = 1, instance_type = 'ml.m4.xlarge')"
   ]
  },
  {
   "cell_type": "markdown",
   "metadata": {},
   "source": [
    "## Step 7 - Use the model for testing\n",
    "\n",
    "Once deployed, we can read in the test data and send it off to our deployed model to get some results. Once we collect all of the results we can determine how accurate our model is."
   ]
  },
  {
   "cell_type": "code",
   "execution_count": 30,
   "metadata": {},
   "outputs": [],
   "source": [
    "test_X = pd.concat([pd.DataFrame(test_X_len), pd.DataFrame(test_X)], axis=1)"
   ]
  },
  {
   "cell_type": "code",
   "execution_count": 31,
   "metadata": {},
   "outputs": [],
   "source": [
    "# We split the data into chunks and send each chunk seperately, accumulating the results.\n",
    "\n",
    "def predict(data, rows=512):\n",
    "    split_array = np.array_split(data, int(data.shape[0] / float(rows) + 1))\n",
    "    predictions = np.array([])\n",
    "    for array in split_array:\n",
    "        predictions = np.append(predictions, predictor.predict(array))\n",
    "    \n",
    "    return predictions"
   ]
  },
  {
   "cell_type": "code",
   "execution_count": 32,
   "metadata": {},
   "outputs": [],
   "source": [
    "predictions = predict(test_X.values)\n",
    "predictions = [round(num) for num in predictions]"
   ]
  },
  {
   "cell_type": "code",
   "execution_count": 33,
   "metadata": {},
   "outputs": [
    {
     "data": {
      "text/plain": [
       "0.84564"
      ]
     },
     "execution_count": 33,
     "metadata": {},
     "output_type": "execute_result"
    }
   ],
   "source": [
    "from sklearn.metrics import accuracy_score\n",
    "accuracy_score(test_y, predictions)"
   ]
  },
  {
   "cell_type": "markdown",
   "metadata": {},
   "source": [
    "**Question:** How does this model compare to the XGBoost model you created earlier? Why might these two models perform differently on this dataset? Which do *you* think is better for sentiment analysis?"
   ]
  },
  {
   "cell_type": "markdown",
   "metadata": {},
   "source": [
    "**Answer:**\n",
    "\n",
    "* Better Accuracy"
   ]
  },
  {
   "cell_type": "markdown",
   "metadata": {},
   "source": [
    "### (TODO) More testing\n",
    "\n",
    "We now have a trained model which has been deployed and which we can send processed reviews to and which returns the predicted sentiment. However, ultimately we would like to be able to send our model an unprocessed review. That is, we would like to send the review itself as a string. For example, suppose we wish to send the following review to our model."
   ]
  },
  {
   "cell_type": "code",
   "execution_count": 34,
   "metadata": {},
   "outputs": [],
   "source": [
    "test_review = 'Nice Movie with great Animation'"
   ]
  },
  {
   "cell_type": "markdown",
   "metadata": {},
   "source": [
    "The question we now need to answer is, how do we send this review to our model?\n",
    "\n",
    "Recall in the first section of this notebook we did a bunch of data processing to the IMDb dataset. In particular, we did two specific things to the provided reviews.\n",
    " - Removed any html tags and stemmed the input\n",
    " - Encoded the review as a sequence of integers using `word_dict`\n",
    " \n",
    "In order process the review we will need to repeat these two steps.\n",
    "\n",
    "**TODO**: Using the `review_to_words` and `convert_and_pad` methods from section one, convert `test_review` into a numpy array `test_data` suitable to send to our model. Remember that our model expects input of the form `review_length, review[500]`."
   ]
  },
  {
   "cell_type": "code",
   "execution_count": 40,
   "metadata": {},
   "outputs": [],
   "source": [
    "# TODO: Convert test_review into a form usable by the model and save the results in test_data\n",
    "test_data, leng = convert_and_pad(word_dict, review_to_words(test_review))\n"
   ]
  },
  {
   "cell_type": "code",
   "execution_count": 41,
   "metadata": {},
   "outputs": [],
   "source": [
    "#test_data, leng = convert_and_pad(word_dict, review_to_words(test_review))\n",
    "#len_test_data = np.array([np.array([leng] + test_data)])\n",
    "len_test_data = np.array([np.array([leng] + test_data)])"
   ]
  },
  {
   "cell_type": "markdown",
   "metadata": {},
   "source": [
    "Now that we have processed the review, we can send the resulting array to our model to predict the sentiment of the review."
   ]
  },
  {
   "cell_type": "code",
   "execution_count": 42,
   "metadata": {},
   "outputs": [
    {
     "data": {
      "text/plain": [
       "array(0.8848386, dtype=float32)"
      ]
     },
     "execution_count": 42,
     "metadata": {},
     "output_type": "execute_result"
    }
   ],
   "source": [
    "predictor.predict(len_test_data)"
   ]
  },
  {
   "cell_type": "markdown",
   "metadata": {},
   "source": [
    "Since the return value of our model is close to `1`, we can be certain that the review we submitted is positive."
   ]
  },
  {
   "cell_type": "markdown",
   "metadata": {},
   "source": [
    "### Delete the endpoint\n",
    "\n",
    "Of course, just like in the XGBoost notebook, once we've deployed an endpoint it continues to run until we tell it to shut down. Since we are done using our endpoint for now, we can delete it."
   ]
  },
  {
   "cell_type": "code",
   "execution_count": 43,
   "metadata": {},
   "outputs": [],
   "source": [
    "estimator.delete_endpoint()"
   ]
  },
  {
   "cell_type": "markdown",
   "metadata": {},
   "source": [
    "## Step 6 (again) - Deploy the model for the web app\n",
    "\n",
    "Now that we know that our model is working, it's time to create some custom inference code so that we can send the model a review which has not been processed and have it determine the sentiment of the review.\n",
    "\n",
    "As we saw above, by default the estimator which we created, when deployed, will use the entry script and directory which we provided when creating the model. However, since we now wish to accept a string as input and our model expects a processed review, we need to write some custom inference code.\n",
    "\n",
    "We will store the code that we write in the `serve` directory. Provided in this directory is the `model.py` file that we used to construct our model, a `utils.py` file which contains the `review_to_words` and `convert_and_pad` pre-processing functions which we used during the initial data processing, and `predict.py`, the file which will contain our custom inference code. Note also that `requirements.txt` is present which will tell SageMaker what Python libraries are required by our custom inference code.\n",
    "\n",
    "When deploying a PyTorch model in SageMaker, you are expected to provide four functions which the SageMaker inference container will use.\n",
    " - `model_fn`: This function is the same function that we used in the training script and it tells SageMaker how to load our model.\n",
    " - `input_fn`: This function receives the raw serialized input that has been sent to the model's endpoint and its job is to de-serialize and make the input available for the inference code.\n",
    " - `output_fn`: This function takes the output of the inference code and its job is to serialize this output and return it to the caller of the model's endpoint.\n",
    " - `predict_fn`: The heart of the inference script, this is where the actual prediction is done and is the function which you will need to complete.\n",
    "\n",
    "For the simple website that we are constructing during this project, the `input_fn` and `output_fn` methods are relatively straightforward. We only require being able to accept a string as input and we expect to return a single value as output. You might imagine though that in a more complex application the input or output may be image data or some other binary data which would require some effort to serialize.\n",
    "\n",
    "### (TODO) Writing inference code\n",
    "\n",
    "Before writing our custom inference code, we will begin by taking a look at the code which has been provided."
   ]
  },
  {
   "cell_type": "code",
   "execution_count": 44,
   "metadata": {},
   "outputs": [
    {
     "name": "stdout",
     "output_type": "stream",
     "text": [
      "\u001b[34mimport\u001b[39;49;00m \u001b[04m\u001b[36margparse\u001b[39;49;00m\r\n",
      "\u001b[34mimport\u001b[39;49;00m \u001b[04m\u001b[36mjson\u001b[39;49;00m\r\n",
      "\u001b[34mimport\u001b[39;49;00m \u001b[04m\u001b[36mos\u001b[39;49;00m\r\n",
      "\u001b[34mimport\u001b[39;49;00m \u001b[04m\u001b[36mpickle\u001b[39;49;00m\r\n",
      "\u001b[34mimport\u001b[39;49;00m \u001b[04m\u001b[36msys\u001b[39;49;00m\r\n",
      "\u001b[34mimport\u001b[39;49;00m \u001b[04m\u001b[36msagemaker_containers\u001b[39;49;00m\r\n",
      "\u001b[34mimport\u001b[39;49;00m \u001b[04m\u001b[36mpandas\u001b[39;49;00m \u001b[34mas\u001b[39;49;00m \u001b[04m\u001b[36mpd\u001b[39;49;00m\r\n",
      "\u001b[34mimport\u001b[39;49;00m \u001b[04m\u001b[36mnumpy\u001b[39;49;00m \u001b[34mas\u001b[39;49;00m \u001b[04m\u001b[36mnp\u001b[39;49;00m\r\n",
      "\u001b[34mimport\u001b[39;49;00m \u001b[04m\u001b[36mtorch\u001b[39;49;00m\r\n",
      "\u001b[34mimport\u001b[39;49;00m \u001b[04m\u001b[36mtorch\u001b[39;49;00m\u001b[04m\u001b[36m.\u001b[39;49;00m\u001b[04m\u001b[36mnn\u001b[39;49;00m \u001b[34mas\u001b[39;49;00m \u001b[04m\u001b[36mnn\u001b[39;49;00m\r\n",
      "\u001b[34mimport\u001b[39;49;00m \u001b[04m\u001b[36mtorch\u001b[39;49;00m\u001b[04m\u001b[36m.\u001b[39;49;00m\u001b[04m\u001b[36moptim\u001b[39;49;00m \u001b[34mas\u001b[39;49;00m \u001b[04m\u001b[36moptim\u001b[39;49;00m\r\n",
      "\u001b[34mimport\u001b[39;49;00m \u001b[04m\u001b[36mtorch\u001b[39;49;00m\u001b[04m\u001b[36m.\u001b[39;49;00m\u001b[04m\u001b[36mutils\u001b[39;49;00m\u001b[04m\u001b[36m.\u001b[39;49;00m\u001b[04m\u001b[36mdata\u001b[39;49;00m\r\n",
      "\r\n",
      "\u001b[34mfrom\u001b[39;49;00m \u001b[04m\u001b[36mmodel\u001b[39;49;00m \u001b[34mimport\u001b[39;49;00m LSTMClassifier\r\n",
      "\r\n",
      "\u001b[34mfrom\u001b[39;49;00m \u001b[04m\u001b[36mutils\u001b[39;49;00m \u001b[34mimport\u001b[39;49;00m review_to_words, convert_and_pad\r\n",
      "\r\n",
      "\u001b[34mdef\u001b[39;49;00m \u001b[32mmodel_fn\u001b[39;49;00m(model_dir):\r\n",
      "    \u001b[33m\"\"\"Load the PyTorch model from the `model_dir` directory.\"\"\"\u001b[39;49;00m\r\n",
      "    \u001b[36mprint\u001b[39;49;00m(\u001b[33m\"\u001b[39;49;00m\u001b[33mLoading model.\u001b[39;49;00m\u001b[33m\"\u001b[39;49;00m)\r\n",
      "\r\n",
      "    \u001b[37m# First, load the parameters used to create the model.\u001b[39;49;00m\r\n",
      "    model_info = {}\r\n",
      "    model_info_path = os.path.join(model_dir, \u001b[33m'\u001b[39;49;00m\u001b[33mmodel_info.pth\u001b[39;49;00m\u001b[33m'\u001b[39;49;00m)\r\n",
      "    \u001b[34mwith\u001b[39;49;00m \u001b[36mopen\u001b[39;49;00m(model_info_path, \u001b[33m'\u001b[39;49;00m\u001b[33mrb\u001b[39;49;00m\u001b[33m'\u001b[39;49;00m) \u001b[34mas\u001b[39;49;00m f:\r\n",
      "        model_info = torch.load(f)\r\n",
      "\r\n",
      "    \u001b[36mprint\u001b[39;49;00m(\u001b[33m\"\u001b[39;49;00m\u001b[33mmodel_info: \u001b[39;49;00m\u001b[33m{}\u001b[39;49;00m\u001b[33m\"\u001b[39;49;00m.format(model_info))\r\n",
      "\r\n",
      "    \u001b[37m# Determine the device and construct the model.\u001b[39;49;00m\r\n",
      "    device = torch.device(\u001b[33m\"\u001b[39;49;00m\u001b[33mcuda\u001b[39;49;00m\u001b[33m\"\u001b[39;49;00m \u001b[34mif\u001b[39;49;00m torch.cuda.is_available() \u001b[34melse\u001b[39;49;00m \u001b[33m\"\u001b[39;49;00m\u001b[33mcpu\u001b[39;49;00m\u001b[33m\"\u001b[39;49;00m)\r\n",
      "    model = LSTMClassifier(model_info[\u001b[33m'\u001b[39;49;00m\u001b[33membedding_dim\u001b[39;49;00m\u001b[33m'\u001b[39;49;00m], model_info[\u001b[33m'\u001b[39;49;00m\u001b[33mhidden_dim\u001b[39;49;00m\u001b[33m'\u001b[39;49;00m], model_info[\u001b[33m'\u001b[39;49;00m\u001b[33mvocab_size\u001b[39;49;00m\u001b[33m'\u001b[39;49;00m])\r\n",
      "\r\n",
      "    \u001b[37m# Load the store model parameters.\u001b[39;49;00m\r\n",
      "    model_path = os.path.join(model_dir, \u001b[33m'\u001b[39;49;00m\u001b[33mmodel.pth\u001b[39;49;00m\u001b[33m'\u001b[39;49;00m)\r\n",
      "    \u001b[34mwith\u001b[39;49;00m \u001b[36mopen\u001b[39;49;00m(model_path, \u001b[33m'\u001b[39;49;00m\u001b[33mrb\u001b[39;49;00m\u001b[33m'\u001b[39;49;00m) \u001b[34mas\u001b[39;49;00m f:\r\n",
      "        model.load_state_dict(torch.load(f))\r\n",
      "\r\n",
      "    \u001b[37m# Load the saved word_dict.\u001b[39;49;00m\r\n",
      "    word_dict_path = os.path.join(model_dir, \u001b[33m'\u001b[39;49;00m\u001b[33mword_dict.pkl\u001b[39;49;00m\u001b[33m'\u001b[39;49;00m)\r\n",
      "    \u001b[34mwith\u001b[39;49;00m \u001b[36mopen\u001b[39;49;00m(word_dict_path, \u001b[33m'\u001b[39;49;00m\u001b[33mrb\u001b[39;49;00m\u001b[33m'\u001b[39;49;00m) \u001b[34mas\u001b[39;49;00m f:\r\n",
      "        model.word_dict = pickle.load(f)\r\n",
      "\r\n",
      "    model.to(device).eval()\r\n",
      "\r\n",
      "    \u001b[36mprint\u001b[39;49;00m(\u001b[33m\"\u001b[39;49;00m\u001b[33mDone loading model.\u001b[39;49;00m\u001b[33m\"\u001b[39;49;00m)\r\n",
      "    \u001b[34mreturn\u001b[39;49;00m model\r\n",
      "\r\n",
      "\u001b[34mdef\u001b[39;49;00m \u001b[32minput_fn\u001b[39;49;00m(serialized_input_data, content_type):\r\n",
      "    \u001b[36mprint\u001b[39;49;00m(\u001b[33m'\u001b[39;49;00m\u001b[33mDeserializing the input data.\u001b[39;49;00m\u001b[33m'\u001b[39;49;00m)\r\n",
      "    \u001b[34mif\u001b[39;49;00m content_type == \u001b[33m'\u001b[39;49;00m\u001b[33mtext/plain\u001b[39;49;00m\u001b[33m'\u001b[39;49;00m:\r\n",
      "        data = serialized_input_data.decode(\u001b[33m'\u001b[39;49;00m\u001b[33mutf-8\u001b[39;49;00m\u001b[33m'\u001b[39;49;00m)\r\n",
      "        \u001b[34mreturn\u001b[39;49;00m data\r\n",
      "    \u001b[34mraise\u001b[39;49;00m \u001b[36mException\u001b[39;49;00m(\u001b[33m'\u001b[39;49;00m\u001b[33mRequested unsupported ContentType in content_type: \u001b[39;49;00m\u001b[33m'\u001b[39;49;00m + content_type)\r\n",
      "\r\n",
      "\u001b[34mdef\u001b[39;49;00m \u001b[32moutput_fn\u001b[39;49;00m(prediction_output, accept):\r\n",
      "    \u001b[36mprint\u001b[39;49;00m(\u001b[33m'\u001b[39;49;00m\u001b[33mSerializing the generated output.\u001b[39;49;00m\u001b[33m'\u001b[39;49;00m)\r\n",
      "    \u001b[34mreturn\u001b[39;49;00m \u001b[36mstr\u001b[39;49;00m(prediction_output)\r\n",
      "\r\n",
      "\u001b[34mdef\u001b[39;49;00m \u001b[32mpredict_fn\u001b[39;49;00m(input_data, model):\r\n",
      "    \u001b[36mprint\u001b[39;49;00m(\u001b[33m'\u001b[39;49;00m\u001b[33mInferring sentiment of input data.\u001b[39;49;00m\u001b[33m'\u001b[39;49;00m)\r\n",
      "\r\n",
      "    device = torch.device(\u001b[33m\"\u001b[39;49;00m\u001b[33mcuda\u001b[39;49;00m\u001b[33m\"\u001b[39;49;00m \u001b[34mif\u001b[39;49;00m torch.cuda.is_available() \u001b[34melse\u001b[39;49;00m \u001b[33m\"\u001b[39;49;00m\u001b[33mcpu\u001b[39;49;00m\u001b[33m\"\u001b[39;49;00m)\r\n",
      "    \r\n",
      "    \u001b[34mif\u001b[39;49;00m model.word_dict \u001b[35mis\u001b[39;49;00m \u001b[34mNone\u001b[39;49;00m:\r\n",
      "        \u001b[34mraise\u001b[39;49;00m \u001b[36mException\u001b[39;49;00m(\u001b[33m'\u001b[39;49;00m\u001b[33mModel has not been loaded properly, no word_dict.\u001b[39;49;00m\u001b[33m'\u001b[39;49;00m)\r\n",
      "    \r\n",
      "    \u001b[37m# TODO: Process input_data so that it is ready to be sent to our model.\u001b[39;49;00m\r\n",
      "    \u001b[37m#       You should produce two variables:\u001b[39;49;00m\r\n",
      "    \u001b[37m#         data_X   - A sequence of length 500 which represents the converted review\u001b[39;49;00m\r\n",
      "    \u001b[37m#         data_len - The length of the review\u001b[39;49;00m\r\n",
      "\r\n",
      "    data_X, data_len = convert_and_pad(model.word_dict, review_to_words(input_data))\r\n",
      "\r\n",
      "    \u001b[37m# Using data_X and data_len we construct an appropriate input tensor. Remember\u001b[39;49;00m\r\n",
      "    \u001b[37m# that our model expects input data of the form 'len, review[500]'.\u001b[39;49;00m\r\n",
      "    data_pack = np.hstack((data_len, data_X))\r\n",
      "    data_pack = data_pack.reshape(\u001b[34m1\u001b[39;49;00m, -\u001b[34m1\u001b[39;49;00m)\r\n",
      "    \r\n",
      "    data = torch.from_numpy(data_pack)\r\n",
      "    data = data.to(device)\r\n",
      "\r\n",
      "    \u001b[37m# Make sure to put the model into evaluation mode\u001b[39;49;00m\r\n",
      "    model.eval()\r\n",
      "\r\n",
      "    \u001b[37m# TODO: Compute the result of applying the model to the input data. The variable `result` should\u001b[39;49;00m\r\n",
      "    \u001b[37m#       be a numpy array which contains a single integer which is either 1 or 0\u001b[39;49;00m\r\n",
      "\r\n",
      "    \r\n",
      "    \u001b[34mwith\u001b[39;49;00m torch.no_grad():\r\n",
      "        output = model.forward(data)\r\n",
      "        \r\n",
      "    result = np.round(output.numpy())\r\n",
      "\r\n",
      "    \u001b[34mreturn\u001b[39;49;00m result\r\n"
     ]
    }
   ],
   "source": [
    "!pygmentize serve/predict.py"
   ]
  },
  {
   "cell_type": "markdown",
   "metadata": {},
   "source": [
    "As mentioned earlier, the `model_fn` method is the same as the one provided in the training code and the `input_fn` and `output_fn` methods are very simple and your task will be to complete the `predict_fn` method. Make sure that you save the completed file as `predict.py` in the `serve` directory.\n",
    "\n",
    "**TODO**: Complete the `predict_fn()` method in the `serve/predict.py` file."
   ]
  },
  {
   "cell_type": "markdown",
   "metadata": {},
   "source": [
    "### Deploying the model\n",
    "\n",
    "Now that the custom inference code has been written, we will create and deploy our model. To begin with, we need to construct a new PyTorchModel object which points to the model artifacts created during training and also points to the inference code that we wish to use. Then we can call the deploy method to launch the deployment container.\n",
    "\n",
    "**NOTE**: The default behaviour for a deployed PyTorch model is to assume that any input passed to the predictor is a `numpy` array. In our case we want to send a string so we need to construct a simple wrapper around the `RealTimePredictor` class to accomodate simple strings. In a more complicated situation you may want to provide a serialization object, for example if you wanted to sent image data."
   ]
  },
  {
   "cell_type": "code",
   "execution_count": 46,
   "metadata": {},
   "outputs": [
    {
     "name": "stderr",
     "output_type": "stream",
     "text": [
      "Parameter image will be renamed to image_uri in SageMaker Python SDK v2.\n",
      "'create_image_uri' will be deprecated in favor of 'ImageURIProvider' class in SageMaker Python SDK v2.\n"
     ]
    },
    {
     "name": "stdout",
     "output_type": "stream",
     "text": [
      "---------------!"
     ]
    }
   ],
   "source": [
    "from sagemaker.predictor import RealTimePredictor\n",
    "from sagemaker.pytorch import PyTorchModel\n",
    "\n",
    "class StringPredictor(RealTimePredictor):\n",
    "    def __init__(self, endpoint_name, sagemaker_session):\n",
    "        super(StringPredictor, self).__init__(endpoint_name, sagemaker_session, content_type='text/plain')\n",
    "\n",
    "model = PyTorchModel(model_data=estimator.model_data,\n",
    "                     role = role,\n",
    "                     framework_version='0.4.0',\n",
    "                     entry_point='predict.py',\n",
    "                     source_dir='serve',\n",
    "                     predictor_cls=StringPredictor)\n",
    "predictor = model.deploy(initial_instance_count=1, instance_type='ml.m4.xlarge')"
   ]
  },
  {
   "cell_type": "markdown",
   "metadata": {},
   "source": [
    "### Testing the model\n",
    "\n",
    "Now that we have deployed our model with the custom inference code, we should test to see if everything is working. Here we test our model by loading the first `250` positive and negative reviews and send them to the endpoint, then collect the results. The reason for only sending some of the data is that the amount of time it takes for our model to process the input and then perform inference is quite long and so testing the entire data set would be prohibitive."
   ]
  },
  {
   "cell_type": "code",
   "execution_count": 47,
   "metadata": {},
   "outputs": [],
   "source": [
    "import glob\n",
    "\n",
    "def test_reviews(data_dir='../data/aclImdb', stop=250):\n",
    "    \n",
    "    results = []\n",
    "    ground = []\n",
    "    \n",
    "    # We make sure to test both positive and negative reviews    \n",
    "    for sentiment in ['pos', 'neg']:\n",
    "        \n",
    "        path = os.path.join(data_dir, 'test', sentiment, '*.txt')\n",
    "        files = glob.glob(path)\n",
    "        \n",
    "        files_read = 0\n",
    "        \n",
    "        print('Starting ', sentiment, ' files')\n",
    "        \n",
    "        # Iterate through the files and send them to the predictor\n",
    "        for f in files:\n",
    "            with open(f) as review:\n",
    "                # First, we store the ground truth (was the review positive or negative)\n",
    "                if sentiment == 'pos':\n",
    "                    ground.append(1)\n",
    "                else:\n",
    "                    ground.append(0)\n",
    "                # Read in the review and convert to 'utf-8' for transmission via HTTP\n",
    "                review_input = review.read().encode('utf-8')\n",
    "                # Send the review to the predictor and store the results\n",
    "                results.append(float(predictor.predict(review_input)))\n",
    "                \n",
    "            # Sending reviews to our endpoint one at a time takes a while so we\n",
    "            # only send a small number of reviews\n",
    "            files_read += 1\n",
    "            if files_read == stop:\n",
    "                break\n",
    "            \n",
    "    return ground, results"
   ]
  },
  {
   "cell_type": "code",
   "execution_count": 48,
   "metadata": {},
   "outputs": [
    {
     "name": "stdout",
     "output_type": "stream",
     "text": [
      "Starting  pos  files\n",
      "Starting  neg  files\n"
     ]
    }
   ],
   "source": [
    "ground, results = test_reviews()"
   ]
  },
  {
   "cell_type": "code",
   "execution_count": 49,
   "metadata": {},
   "outputs": [
    {
     "data": {
      "text/plain": [
       "0.832"
      ]
     },
     "execution_count": 49,
     "metadata": {},
     "output_type": "execute_result"
    }
   ],
   "source": [
    "from sklearn.metrics import accuracy_score\n",
    "accuracy_score(ground, results)"
   ]
  },
  {
   "cell_type": "markdown",
   "metadata": {},
   "source": [
    "As an additional test, we can try sending the `test_review` that we looked at earlier."
   ]
  },
  {
   "cell_type": "code",
   "execution_count": 50,
   "metadata": {},
   "outputs": [
    {
     "data": {
      "text/plain": [
       "b'1.0'"
      ]
     },
     "execution_count": 50,
     "metadata": {},
     "output_type": "execute_result"
    }
   ],
   "source": [
    "predictor.predict(test_review)"
   ]
  },
  {
   "cell_type": "markdown",
   "metadata": {},
   "source": [
    "Now that we know our endpoint is working as expected, we can set up the web page that will interact with it. If you don't have time to finish the project now, make sure to skip down to the end of this notebook and shut down your endpoint. You can deploy it again when you come back."
   ]
  },
  {
   "cell_type": "markdown",
   "metadata": {},
   "source": [
    "## Step 7 (again): Use the model for the web app\n",
    "\n",
    "> **TODO:** This entire section and the next contain tasks for you to complete, mostly using the AWS console.\n",
    "\n",
    "So far we have been accessing our model endpoint by constructing a predictor object which uses the endpoint and then just using the predictor object to perform inference. What if we wanted to create a web app which accessed our model? The way things are set up currently makes that not possible since in order to access a SageMaker endpoint the app would first have to authenticate with AWS using an IAM role which included access to SageMaker endpoints. However, there is an easier way! We just need to use some additional AWS services.\n",
    "\n",
    "<img src=\"Web App Diagram.svg\">\n",
    "\n",
    "The diagram above gives an overview of how the various services will work together. On the far right is the model which we trained above and which is deployed using SageMaker. On the far left is our web app that collects a user's movie review, sends it off and expects a positive or negative sentiment in return.\n",
    "\n",
    "In the middle is where some of the magic happens. We will construct a Lambda function, which you can think of as a straightforward Python function that can be executed whenever a specified event occurs. We will give this function permission to send and recieve data from a SageMaker endpoint.\n",
    "\n",
    "Lastly, the method we will use to execute the Lambda function is a new endpoint that we will create using API Gateway. This endpoint will be a url that listens for data to be sent to it. Once it gets some data it will pass that data on to the Lambda function and then return whatever the Lambda function returns. Essentially it will act as an interface that lets our web app communicate with the Lambda function.\n",
    "\n",
    "### Setting up a Lambda function\n",
    "\n",
    "The first thing we are going to do is set up a Lambda function. This Lambda function will be executed whenever our public API has data sent to it. When it is executed it will receive the data, perform any sort of processing that is required, send the data (the review) to the SageMaker endpoint we've created and then return the result.\n",
    "\n",
    "#### Part A: Create an IAM Role for the Lambda function\n",
    "\n",
    "Since we want the Lambda function to call a SageMaker endpoint, we need to make sure that it has permission to do so. To do this, we will construct a role that we can later give the Lambda function.\n",
    "\n",
    "Using the AWS Console, navigate to the **IAM** page and click on **Roles**. Then, click on **Create role**. Make sure that the **AWS service** is the type of trusted entity selected and choose **Lambda** as the service that will use this role, then click **Next: Permissions**.\n",
    "\n",
    "In the search box type `sagemaker` and select the check box next to the **AmazonSageMakerFullAccess** policy. Then, click on **Next: Review**.\n",
    "\n",
    "Lastly, give this role a name. Make sure you use a name that you will remember later on, for example `LambdaSageMakerRole`. Then, click on **Create role**.\n",
    "\n",
    "#### Part B: Create a Lambda function\n",
    "\n",
    "Now it is time to actually create the Lambda function.\n",
    "\n",
    "Using the AWS Console, navigate to the AWS Lambda page and click on **Create a function**. When you get to the next page, make sure that **Author from scratch** is selected. Now, name your Lambda function, using a name that you will remember later on, for example `sentiment_analysis_func`. Make sure that the **Python 3.6** runtime is selected and then choose the role that you created in the previous part. Then, click on **Create Function**.\n",
    "\n",
    "On the next page you will see some information about the Lambda function you've just created. If you scroll down you should see an editor in which you can write the code that will be executed when your Lambda function is triggered. In our example, we will use the code below. \n",
    "\n",
    "```python\n",
    "# We need to use the low-level library to interact with SageMaker since the SageMaker API\n",
    "# is not available natively through Lambda.\n",
    "import boto3\n",
    "\n",
    "def lambda_handler(event, context):\n",
    "\n",
    "    # The SageMaker runtime is what allows us to invoke the endpoint that we've created.\n",
    "    runtime = boto3.Session().client('sagemaker-runtime')\n",
    "\n",
    "    # Now we use the SageMaker runtime to invoke our endpoint, sending the review we were given\n",
    "    response = runtime.invoke_endpoint(EndpointName = '**ENDPOINT NAME HERE**',    # The name of the endpoint we created\n",
    "                                       ContentType = 'text/plain',                 # The data format that is expected\n",
    "                                       Body = event['body'])                       # The actual review\n",
    "\n",
    "    # The response is an HTTP response whose body contains the result of our inference\n",
    "    result = response['Body'].read().decode('utf-8')\n",
    "\n",
    "    return {\n",
    "        'statusCode' : 200,\n",
    "        'headers' : { 'Content-Type' : 'text/plain', 'Access-Control-Allow-Origin' : '*' },\n",
    "        'body' : result\n",
    "    }\n",
    "```\n",
    "\n",
    "Once you have copy and pasted the code above into the Lambda code editor, replace the `**ENDPOINT NAME HERE**` portion with the name of the endpoint that we deployed earlier. You can determine the name of the endpoint using the code cell below."
   ]
  },
  {
   "cell_type": "code",
   "execution_count": 51,
   "metadata": {},
   "outputs": [
    {
     "data": {
      "text/plain": [
       "'sagemaker-pytorch-2020-06-22-17-13-00-719'"
      ]
     },
     "execution_count": 51,
     "metadata": {},
     "output_type": "execute_result"
    }
   ],
   "source": [
    "predictor.endpoint"
   ]
  },
  {
   "cell_type": "markdown",
   "metadata": {},
   "source": [
    "Once you have added the endpoint name to the Lambda function, click on **Save**. Your Lambda function is now up and running. Next we need to create a way for our web app to execute the Lambda function.\n",
    "\n",
    "### Setting up API Gateway\n",
    "\n",
    "Now that our Lambda function is set up, it is time to create a new API using API Gateway that will trigger the Lambda function we have just created.\n",
    "\n",
    "Using AWS Console, navigate to **Amazon API Gateway** and then click on **Get started**.\n",
    "\n",
    "On the next page, make sure that **New API** is selected and give the new api a name, for example, `sentiment_analysis_api`. Then, click on **Create API**.\n",
    "\n",
    "Now we have created an API, however it doesn't currently do anything. What we want it to do is to trigger the Lambda function that we created earlier.\n",
    "\n",
    "Select the **Actions** dropdown menu and click **Create Method**. A new blank method will be created, select its dropdown menu and select **POST**, then click on the check mark beside it.\n",
    "\n",
    "For the integration point, make sure that **Lambda Function** is selected and click on the **Use Lambda Proxy integration**. This option makes sure that the data that is sent to the API is then sent directly to the Lambda function with no processing. It also means that the return value must be a proper response object as it will also not be processed by API Gateway.\n",
    "\n",
    "Type the name of the Lambda function you created earlier into the **Lambda Function** text entry box and then click on **Save**. Click on **OK** in the pop-up box that then appears, giving permission to API Gateway to invoke the Lambda function you created.\n",
    "\n",
    "The last step in creating the API Gateway is to select the **Actions** dropdown and click on **Deploy API**. You will need to create a new Deployment stage and name it anything you like, for example `prod`.\n",
    "\n",
    "You have now successfully set up a public API to access your SageMaker model. Make sure to copy or write down the URL provided to invoke your newly created public API as this will be needed in the next step. This URL can be found at the top of the page, highlighted in blue next to the text **Invoke URL**."
   ]
  },
  {
   "cell_type": "markdown",
   "metadata": {},
   "source": [
    "## Step 4: Deploying our web app\n",
    "\n",
    "Now that we have a publicly available API, we can start using it in a web app. For our purposes, we have provided a simple static html file which can make use of the public api you created earlier.\n",
    "\n",
    "In the `website` folder there should be a file called `index.html`. Download the file to your computer and open that file up in a text editor of your choice. There should be a line which contains **\\*\\*REPLACE WITH PUBLIC API URL\\*\\***. Replace this string with the url that you wrote down in the last step and then save the file.\n",
    "\n",
    "Now, if you open `index.html` on your local computer, your browser will behave as a local web server and you can use the provided site to interact with your SageMaker model.\n",
    "\n",
    "If you'd like to go further, you can host this html file anywhere you'd like, for example using github or hosting a static site on Amazon's S3. Once you have done this you can share the link with anyone you'd like and have them play with it too!\n",
    "\n",
    "> **Important Note** In order for the web app to communicate with the SageMaker endpoint, the endpoint has to actually be deployed and running. This means that you are paying for it. Make sure that the endpoint is running when you want to use the web app but that you shut it down when you don't need it, otherwise you will end up with a surprisingly large AWS bill.\n",
    "\n",
    "**TODO:** Make sure that you include the edited `index.html` file in your project submission."
   ]
  },
  {
   "cell_type": "markdown",
   "metadata": {},
   "source": [
    "Now that your web app is working, trying playing around with it and see how well it works.\n",
    "\n",
    "**Question**: Give an example of a review that you entered into your web app. What was the predicted sentiment of your example review?"
   ]
  },
  {
   "cell_type": "markdown",
   "metadata": {},
   "source": [
    "**Answer:** \n",
    "Input : \"Nice Movie with great Animation\"\n",
    "Output : \"Positi"
   ]
  },
  {
   "cell_type": "markdown",
   "metadata": {},
   "source": [
    "### Delete the endpoint\n",
    "\n",
    "Remember to always shut down your endpoint if you are no longer using it. You are charged for the length of time that the endpoint is running so if you forget and leave it on you could end up with an unexpectedly large bill."
   ]
  },
  {
   "cell_type": "code",
   "execution_count": 52,
   "metadata": {},
   "outputs": [],
   "source": [
    "predictor.delete_endpoint()"
   ]
  },
  {
   "cell_type": "code",
   "execution_count": null,
   "metadata": {},
   "outputs": [],
   "source": []
  }
 ],
 "metadata": {
  "kernelspec": {
   "display_name": "conda_pytorch_p36",
   "language": "python",
   "name": "conda_pytorch_p36"
  },
  "language_info": {
   "codemirror_mode": {
    "name": "ipython",
    "version": 3
   },
   "file_extension": ".py",
   "mimetype": "text/x-python",
   "name": "python",
   "nbconvert_exporter": "python",
   "pygments_lexer": "ipython3",
   "version": "3.6.10"
  }
 },
 "nbformat": 4,
 "nbformat_minor": 2
}
