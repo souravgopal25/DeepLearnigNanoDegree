{
  "nbformat": 4,
  "nbformat_minor": 0,
  "metadata": {
    "colab": {
      "name": "LinearAutoEncoder.ipynb",
      "provenance": [],
      "authorship_tag": "ABX9TyMk4RxYZxiwd+cZg40lxc0G",
      "include_colab_link": true
    },
    "kernelspec": {
      "name": "python3",
      "display_name": "Python 3"
    }
  },
  "cells": [
    {
      "cell_type": "markdown",
      "metadata": {
        "id": "view-in-github",
        "colab_type": "text"
      },
      "source": [
        "<a href=\"https://colab.research.google.com/github/souravgopal25/DeepLearnigNanoDegree/blob/master/LinearAutoEncoder.ipynb\" target=\"_parent\"><img src=\"https://colab.research.google.com/assets/colab-badge.svg\" alt=\"Open In Colab\"/></a>"
      ]
    },
    {
      "cell_type": "markdown",
      "metadata": {
        "id": "BfbJe3Xj6VFB",
        "colab_type": "text"
      },
      "source": [
        "# A Simple Autoencoder\n",
        "\n",
        "We'll start off by building a simple autoencoder to compress the MNIST dataset. With autoencoders, we pass input data through an encoder that makes a compressed representation of the input. Then, this representation is passed through a decoder to reconstruct the input data. Generally the encoder and decoder will be built with neural networks, then trained on example data.\n",
        "\n",
        "<img src='notebook_ims/autoencoder_1.png' />\n",
        "\n",
        "### Compressed Representation\n",
        "\n",
        "A compressed representation can be great for saving and sharing any kind of data in a way that is more efficient than storing raw data. In practice, the compressed representation often holds key information about an input image and we can use it for denoising images or oher kinds of reconstruction and transformation!\n",
        "\n",
        "<img src='notebook_ims/denoising.png' width=60%/>\n",
        "\n",
        "In this notebook, we'll be build a simple network architecture for the encoder and decoder. Let's get started by importing our libraries and getting the dataset."
      ]
    },
    {
      "cell_type": "code",
      "metadata": {
        "id": "ecfJFFQo597B",
        "colab_type": "code",
        "colab": {}
      },
      "source": [
        "import torch\n",
        "import numpy as np\n",
        "from torchvision import datasets\n",
        "import torchvision.transforms as transforms"
      ],
      "execution_count": 0,
      "outputs": []
    },
    {
      "cell_type": "markdown",
      "metadata": {
        "id": "t2XyAis27ewu",
        "colab_type": "text"
      },
      "source": [
        ""
      ]
    },
    {
      "cell_type": "code",
      "metadata": {
        "id": "DyhAGkF16nyx",
        "colab_type": "code",
        "colab": {}
      },
      "source": [
        "#convert data to torch.FloatTensor\n",
        "transform=transforms.ToTensor()\n",
        "\n",
        "#Load the training and test datasets\n",
        "train_data=datasets.MNIST(root='data',train=True,\n",
        "                          download=True,transform=transform)\n",
        "test_data= datasets.MNIST(root='data',train=False,\n",
        "                          download=False,transform=transform)"
      ],
      "execution_count": 0,
      "outputs": []
    },
    {
      "cell_type": "code",
      "metadata": {
        "id": "S99oMgAr7T_2",
        "colab_type": "code",
        "colab": {}
      },
      "source": [
        "#create training and test dataloaders\n",
        "\n",
        "#no of subprocess to use for data loading\n",
        "num_workers=0\n",
        "\n",
        "#no of samples per batch to load\n",
        "batch_size=20\n",
        "\n",
        "#prepare data loaders\n",
        "train_loader=torch.utils.data.DataLoader(train_data,\n",
        "                                         batch_size=batch_size,num_workers=num_workers)\n",
        "test_loader=torch.utils.data.DataLoader(test_data,\n",
        "                                        batch_size=batch_size,num_workers=num_workers)"
      ],
      "execution_count": 0,
      "outputs": []
    },
    {
      "cell_type": "markdown",
      "metadata": {
        "id": "rd6ukEFY8XzT",
        "colab_type": "text"
      },
      "source": [
        "### Visualize the Data"
      ]
    },
    {
      "cell_type": "code",
      "metadata": {
        "id": "lM_3K4vc8VIw",
        "colab_type": "code",
        "colab": {
          "base_uri": "https://localhost:8080/",
          "height": 337
        },
        "outputId": "a9c634e1-7285-4798-9e53-87db532e8650"
      },
      "source": [
        "import matplotlib.pyplot as plt\n",
        "%matplotlib inline\n",
        "\n",
        "#obtain one batch of training images\n",
        "dataiter=iter(train_loader)\n",
        "images,labels=dataiter.next()\n",
        "images=images.numpy()\n",
        "\n",
        "#get one image from the batch\n",
        "img =np.squeeze(images[0])\n",
        "fig = plt.figure(figsize=(5,5))\n",
        "ax= fig.add_subplot(111)\n",
        "ax.imshow(img,cmap='gray')"
      ],
      "execution_count": 9,
      "outputs": [
        {
          "output_type": "execute_result",
          "data": {
            "text/plain": [
              "<matplotlib.image.AxesImage at 0x7f36ced49cc0>"
            ]
          },
          "metadata": {
            "tags": []
          },
          "execution_count": 9
        },
        {
          "output_type": "display_data",
          "data": {
            "image/png": "[encoded data removed]",
            "text/plain": [
              "<Figure size 360x360 with 1 Axes>"
            ]
          },
          "metadata": {
            "tags": [],
            "needs_background": "light"
          }
        }
      ]
    },
    {
      "cell_type": "markdown",
      "metadata": {
        "id": "o79IW6O69EnR",
        "colab_type": "text"
      },
      "source": [
        "---\n",
        "## Linear Autoencoder\n",
        "\n",
        "We'll train an autoencoder with these images by flattening them into 784 length vectors. The images from this dataset are already normalized such that the values are between 0 and 1. Let's start by building a simple autoencoder. The encoder and decoder should be made of **one linear layer**. The units that connect the encoder and decoder will be the _compressed representation_.\n",
        "\n",
        "Since the images are normalized between 0 and 1, we need to use a **sigmoid activation on the output layer** to get values that match this input value range.\n",
        "\n",
        "<img src='notebook_ims/simple_autoencoder.png' width=50% />\n",
        "\n",
        "\n",
        "#### TODO: Build the graph for the autoencoder in the cell below. \n",
        "> The input images will be flattened into 784 length vectors. The targets are the same as the inputs. \n",
        "> The encoder and decoder will be made of two linear layers, each.\n",
        "> The depth dimensions should change as follows: 784 inputs > **encoding_dim** > 784 outputs.\n",
        "> All layers will have ReLu activations applied except for the final output layer, which has a sigmoid activation.\n",
        "\n",
        "**The compressed representation should be a vector with dimension `encoding_dim=32`.**"
      ]
    },
    {
      "cell_type": "code",
      "metadata": {
        "id": "9qrSRIq48-nK",
        "colab_type": "code",
        "colab": {
          "base_uri": "https://localhost:8080/",
          "height": 87
        },
        "outputId": "3fb17a2f-f8d9-4dc2-b5e2-8007dfb2bd2f"
      },
      "source": [
        "import torch.nn as nn\n",
        "import torch.nn.functional as F\n",
        "\n",
        "#define nn architecture\n",
        "\n",
        "class Autoencoder(nn.Module):\n",
        "  def __init__(self,encoding_dim):\n",
        "    super(Autoencoder,self).__init__()\n",
        "    ## encoder\n",
        "    #linear layer( 784-> encoding dim)\n",
        "    self.fc1=nn.Linear(28*28,encoding_dim)\n",
        "\n",
        "    ##decoder\n",
        "    #linear layer(encoding dim -> input size)\n",
        "    self.fc2=nn.Linear(encoding_dim,28*28)\n",
        "  \n",
        "  def forward(self,x):\n",
        "    # add layer with relu activation function\n",
        "    x= F.relu(self.fc1(x))\n",
        "    # output layer (sigmoid for scaling o to 1)\n",
        "    x= F.sigmoid(self.fc2(x))\n",
        "    return x\n",
        "#initialize the NN\n",
        "encoding_dim=32\n",
        "model =Autoencoder(encoding_dim)\n",
        "print(model)"
      ],
      "execution_count": 10,
      "outputs": [
        {
          "output_type": "stream",
          "text": [
            "Autoencoder(\n",
            "  (fc1): Linear(in_features=784, out_features=32, bias=True)\n",
            "  (fc2): Linear(in_features=32, out_features=784, bias=True)\n",
            ")\n"
          ],
          "name": "stdout"
        }
      ]
    },
    {
      "cell_type": "markdown",
      "metadata": {
        "id": "vw-TVfme_CHk",
        "colab_type": "text"
      },
      "source": [
        "---\n",
        "## Training\n",
        "\n",
        "Here I'll write a bit of code to train the network. I'm not too interested in validation here, so I'll just monitor the training loss and the test loss afterwards. \n",
        "\n",
        "We are not concerned with labels in this case, just images, which we can get from the `train_loader`. Because we're comparing pixel values in input and output images, it will be best to use a loss that is meant for a regression task. Regression is all about comparing _quantities_ rather than probabilistic values. So, in this case, I'll use `MSELoss`. And compare output images and input images as follows:\n",
        "```\n",
        "loss = criterion(outputs, images)\n",
        "```\n",
        "\n",
        "Otherwise, this is pretty straightfoward training with PyTorch. We flatten our images, pass them into the autoencoder, and record the training loss as we go."
      ]
    },
    {
      "cell_type": "code",
      "metadata": {
        "id": "AdC3UMEg-98z",
        "colab_type": "code",
        "colab": {}
      },
      "source": [
        "# specify loss function\n",
        "criterion = nn.MSELoss()\n",
        "\n",
        "# specify loss function\n",
        "optimizer = torch.optim.Adam(model.parameters(), lr=0.001)"
      ],
      "execution_count": 0,
      "outputs": []
    },
    {
      "cell_type": "code",
      "metadata": {
        "id": "kx7OHAVN_ENG",
        "colab_type": "code",
        "colab": {
          "base_uri": "https://localhost:8080/",
          "height": 247
        },
        "outputId": "4b782c42-bd36-4c2a-d46c-0c51b6050826"
      },
      "source": [
        "#no of epoch to train the model\n",
        "n_epochs=20\n",
        "\n",
        "for epoch in range(1,n_epochs+1):\n",
        "  #monitor the training loss\n",
        "  train_loss=0.0\n",
        "\n",
        "  #########################\n",
        "  #Train the model      #\n",
        "  ##########################\n",
        "  for data in train_loader:\n",
        "    images,_=data\n",
        "    \n",
        "    #flatten images\n",
        "    images= images.view(images.size(0),-1)\n",
        "    #clear the gradient of all optimized variables\n",
        "    optimizer.zero_grad()\n",
        "    #forward pass: compute the predicted output by passing inputs to model\n",
        "    outputs = model(images)\n",
        "    # calculate the loss\n",
        "    loss = criterion(outputs,images)\n",
        "    #backward pass : compute gradient of loss with respect to model parameters\n",
        "    loss.backward()\n",
        "    #perform a single optimization step\n",
        "    optimizer.step()\n",
        "    # update running training loss\n",
        "    train_loss += loss.item()*images.size(0)\n",
        "\n",
        "  # print avg training statistics \n",
        "    train_loss = train_loss/len(train_loader)\n",
        "  print('Epoch: {} \\tTraining Loss: {:.6f}'.format(\n",
        "        epoch, \n",
        "        train_loss\n",
        "        ))\n"
      ],
      "execution_count": 0,
      "outputs": [
        {
          "output_type": "stream",
          "text": [
            "/usr/local/lib/python3.6/dist-packages/torch/nn/functional.py:1569: UserWarning: nn.functional.sigmoid is deprecated. Use torch.sigmoid instead.\n",
            "  warnings.warn(\"nn.functional.sigmoid is deprecated. Use torch.sigmoid instead.\")\n"
          ],
          "name": "stderr"
        },
        {
          "output_type": "stream",
          "text": [
            "Epoch: 1 \tTraining Loss: 0.000103\n",
            "Epoch: 2 \tTraining Loss: 0.000103\n",
            "Epoch: 3 \tTraining Loss: 0.000103\n",
            "Epoch: 4 \tTraining Loss: 0.000102\n",
            "Epoch: 5 \tTraining Loss: 0.000102\n",
            "Epoch: 6 \tTraining Loss: 0.000102\n",
            "Epoch: 7 \tTraining Loss: 0.000102\n",
            "Epoch: 8 \tTraining Loss: 0.000102\n",
            "Epoch: 9 \tTraining Loss: 0.000102\n",
            "Epoch: 10 \tTraining Loss: 0.000102\n",
            "Epoch: 11 \tTraining Loss: 0.000102\n"
          ],
          "name": "stdout"
        }
      ]
    },
    {
      "cell_type": "markdown",
      "metadata": {
        "id": "nD_jMdRzBo9D",
        "colab_type": "text"
      },
      "source": [
        "## Checking out the results\n",
        "\n",
        "Below I've plotted some of the test images along with their reconstructions. For the most part these look pretty good except for some blurriness in some parts."
      ]
    },
    {
      "cell_type": "code",
      "metadata": {
        "id": "YmR86kWEAtMm",
        "colab_type": "code",
        "colab": {
          "base_uri": "https://localhost:8080/",
          "height": 287
        },
        "outputId": "6ba81324-fa49-4d20-a674-6cbba2f8a267"
      },
      "source": [
        "# obtain one batch of test images\n",
        "dataiter = iter(test_loader)\n",
        "images, labels = dataiter.next()\n",
        "\n",
        "images_flatten = images.view(images.size(0), -1)\n",
        "# get sample outputs\n",
        "output = model(images_flatten)\n",
        "# prep images for display\n",
        "images = images.numpy()\n",
        "\n",
        "# output is resized into a batch of images\n",
        "output = output.view(batch_size, 1, 28, 28)\n",
        "# use detach when it's an output that requires_grad\n",
        "output = output.detach().numpy()\n",
        "\n",
        "# plot the first ten input images and then reconstructed images\n",
        "fig, axes = plt.subplots(nrows=2, ncols=10, sharex=True, sharey=True, figsize=(25,4))\n",
        "\n",
        "# input images on top row, reconstructions on bottom\n",
        "for images, row in zip([images, output], axes):\n",
        "    for img, ax in zip(images, row):\n",
        "        ax.imshow(np.squeeze(img), cmap='gray')\n",
        "        ax.get_xaxis().set_visible(False)\n",
        "        ax.get_yaxis().set_visible(False)"
      ],
      "execution_count": 14,
      "outputs": [
        {
          "output_type": "stream",
          "text": [
            "/usr/local/lib/python3.6/dist-packages/torch/nn/functional.py:1569: UserWarning: nn.functional.sigmoid is deprecated. Use torch.sigmoid instead.\n",
            "  warnings.warn(\"nn.functional.sigmoid is deprecated. Use torch.sigmoid instead.\")\n"
          ],
          "name": "stderr"
        },
        {
          "output_type": "display_data",
          "data": {
            "image/png": "[encoded data removed]",
            "text/plain": [
              "<Figure size 1800x288 with 20 Axes>"
            ]
          },
          "metadata": {
            "tags": [],
            "needs_background": "light"
          }
        }
      ]
    },
    {
      "cell_type": "code",
      "metadata": {
        "id": "Gp0Cqf65BsFh",
        "colab_type": "code",
        "colab": {}
      },
      "source": [
        ""
      ],
      "execution_count": 0,
      "outputs": []
    }
  ]
}